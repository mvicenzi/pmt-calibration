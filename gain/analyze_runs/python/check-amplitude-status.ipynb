{
 "cells": [
  {
   "cell_type": "code",
   "execution_count": null,
   "id": "regulated-reach",
   "metadata": {},
   "outputs": [],
   "source": [
    "import numpy as np\n",
    "import matplotlib.pyplot as plt\n",
    "import pandas as pd\n",
    "from matplotlib.backends import backend_pdf\n",
    "from scipy.optimize import curve_fit\n",
    "import scipy.stats as st\n",
    "from scipy.odr import ODR, Model, Data, RealData\n",
    "from helpers import *"
   ]
  },
  {
   "cell_type": "markdown",
   "id": "813b5322",
   "metadata": {},
   "source": [
    "## Configuration"
   ]
  },
  {
   "cell_type": "code",
   "execution_count": null,
   "id": "a228c15a",
   "metadata": {},
   "outputs": [],
   "source": [
    "# list of PMTs at 0 voltage form HV files + disconnected pmts: 290\n",
    "offPMTs = [1, 111, 143, 166, 192, 230, 238, 254, 222, 302, 309, 340, 353, 290 ]\n",
    "offChs = PMTid_to_channel(offPMTs)\n",
    "\n",
    "WESTonly = [ x for x in range(1,181) ]\n",
    "chWESTonly = PMTid_to_channel(WESTonly)\n",
    "\n",
    "EASTonly = [ x for x in range(181,361) ]\n",
    "chEASTonly = PMTid_to_channel(EASTonly)\n",
    "\n",
    "# drifting PMTs --> wait for full list\n",
    "driftPMTsEAST = [ 282, 288, 296, 307, 310, 319, 346, 350]\n",
    "driftPMTsWEST = [ 59, 63, 81, 93, 95, 142, 148, 169, 170, 179 ]\n",
    "driftChsEAST = PMTid_to_channel(driftPMTsEAST)\n",
    "driftChsWEST = PMTid_to_channel(driftPMTsWEST)\n",
    "\n",
    "# PMTs not changed\n",
    "nochangePMTs = [310, 282, 262, 248, 90]\n",
    "nochangeChs = PMTid_to_channel(nochangePMTs)\n",
    "print(offChs)"
   ]
  },
  {
   "cell_type": "code",
   "execution_count": null,
   "id": "ee725850",
   "metadata": {},
   "outputs": [],
   "source": [
    "def getDataframe(file, offPMTs):\n",
    "       \n",
    "    df=pd.read_csv(file, sep=',')\n",
    "    \n",
    "    # remove list of PMTs that are off\n",
    "    channel_ids = PMTid_to_channel(offPMTs)\n",
    "    df= df[~df['pmt'].isin(channel_ids)]\n",
    "    \n",
    "    return df"
   ]
  },
  {
   "cell_type": "code",
   "execution_count": null,
   "id": "133315e5",
   "metadata": {},
   "outputs": [],
   "source": [
    "# The fit function\n",
    "def gaus(x,a,mean,sigma):\n",
    "    return a*np.exp(-(x-mean)**2/(2*sigma**2))\n",
    "\n",
    "def fitGaussian(x, BINSIZE=0.1, RMIN=0.0, RMAX=8.0, p0=(3., 0.5)):\n",
    "    \n",
    "    nbins=int((RMAX-RMIN)/BINSIZE)\n",
    "    ys,edges = np.histogram(x,bins=nbins,range=(RMIN,RMAX))\n",
    "    xs=np.array([edges[i]+0.5*(edges[i+1]-edges[i]) for i in range(len(ys))])\n",
    "\n",
    "    param = [np.max(ys), p0[0], p0[1] ]\n",
    "    bounds = np.array([(param[0]*0.5,param[0]*1.5),\n",
    "              (param[1]*0.2,param[1]*1.3),\n",
    "              (param[2]*0.1,param[2]*1.4)])\n",
    "    \n",
    "    param,pcov = curve_fit(gaus, xs, ys, p0=param, bounds=(bounds[:,0],bounds[:,1]) )\n",
    "    eparam = np.diag(pcov)**0.5\n",
    "    \n",
    "    return xs, ys, param, eparam"
   ]
  },
  {
   "cell_type": "code",
   "execution_count": null,
   "id": "469599e3",
   "metadata": {},
   "outputs": [],
   "source": [
    "srcpath = \"/exp/icarus/data/users/mvicenzi/pmt-calibration/amplitudedb/\"\n",
    "figpath = \"/exp/icarus/data/users/mvicenzi/pmt-calibration/figs/\"\n",
    "\n",
    "# amplitude\n",
    "#afile = srcpath + \"bkgphamplitude_run10333_1692369304.csv\" #+30V\n",
    "#afile = srcpath + \"bkgphamplitude_run10313_1692203499.csv\"\n",
    "#afile = srcpath + \"bkgphamplitude_run10334_1692373315.csv\" #-30V\n",
    "#afile = srcpath + \"bkgphamplitude_run10335_1692377987.csv\" #-50V\n",
    "#afile = srcpath + \"bkgphamplitude_run10336_1692382296.csv\" #-100V\n",
    "\n",
    "afile = srcpath + \"bkgphamplitude_run10890_1697390445.csv\""
   ]
  },
  {
   "cell_type": "code",
   "execution_count": null,
   "id": "capital-memphis",
   "metadata": {
    "scrolled": true
   },
   "outputs": [],
   "source": [
    "run=getRun(afile)\n",
    "adata = getDataFrame(afile, offPMTs)\n",
    "xs, ys, param, eparam = fitGaussian(adata[\"q\"].to_numpy(),BINSIZE=0.122, RMIN=0.0, RMAX=8.0, p0=(5., 0.5))\n",
    "ys_fitted = gaus(xs, *param)\n",
    "\n",
    "print(param[1],eparam[1])\n",
    "print(param[2],eparam[2])\n",
    "\n",
    "fig = plt.figure(figsize=(8,5))\n",
    "nbins = int((8.0-0.0)/0.122)\n",
    "plt.hist( adata[\"q\"], histtype=\"step\", lw=2, range=(0,8), bins=nbins, label=\"Run {}\".format(run))\n",
    "\n",
    "plt.plot( xs, ys_fitted, '-.', lw=3.0, label=\"Number of PMTs: {:d} \\nMean: {:.4f} mV\\nSigma: {:.4f} mV\".format( np.sum(ys), param[1], param[2]))\n",
    "\n",
    "plt.grid(alpha=0.5)\n",
    "plt.legend(fontsize=12)\n",
    "plt.xlabel(\"Amplitude [mV]\",fontsize=12)\n",
    "plt.ylabel(\"# PMTs\",fontsize=12)\n",
    "plt.savefig(\"figs/run{}_histo_amplitude.png\".format(run),dpi=100)\n",
    "plt.show()"
   ]
  },
  {
   "cell_type": "code",
   "execution_count": null,
   "id": "bbfa4226",
   "metadata": {},
   "outputs": [],
   "source": [
    "fig = plt.figure(figsize=(8,5))\n",
    "plt.scatter(adata[\"pmt\"],adata[\"q\"],marker=\"o\")\n",
    "\n",
    "## latest equalization target\n",
    "#plt.axhline(y=0.40, color=\"red\", linestyle='dotted')\n",
    "\n",
    "## KNOWN HV ISSUES\n",
    "drift_dataWEST = adata[adata['pmt'].isin(driftChsWEST)]\n",
    "drift_dataEAST = adata[adata['pmt'].isin(driftChsEAST)]\n",
    "plt.scatter(drift_dataWEST[\"pmt\"],drift_dataWEST[\"q\"],marker=\"x\",color=\"red\", label=\"HV issues - now fixed (WEST)\")\n",
    "#plt.scatter(drift_dataEAST[\"pmt\"],drift_dataEAST[\"q\"],marker=\"x\",color=\"magenta\", label=\"HV issues (EAST)\")\n",
    "\n",
    "## NOT EQUALIZED\n",
    "nochange_data = adata[adata['pmt'].isin(nochangeChs)]\n",
    "plt.scatter(nochange_data['pmt'],nochange_data['q'],marker=\"^\",color=\"green\", label=\"Manual fit (PMT 90, ch 279)\")\n",
    "\n",
    "# MANUALLY EQUALIZED\n",
    "# manual_data = data[data['pmt'].isin(manualChs)]\n",
    "#plt.scatter(manual_data['pmt'],manual_data['q'],marker=\"^\",color=\"violet\", label=\"Manual adjustment\")\n",
    "\n",
    "#plt.xlim((180,360))\n",
    "plt.ylim((0.0,8.0))\n",
    "plt.xlabel(\"PMT channel ID\")\n",
    "plt.ylabel(\"Amplitude [mV]\")\n",
    "plt.legend()\n",
    "plt.grid()\n",
    "\n",
    "plt.savefig(\"run\"+str(run)+\"_scatter_amplitude.png\", dpi=200)"
   ]
  },
  {
   "cell_type": "markdown",
   "id": "feb3be3c",
   "metadata": {},
   "source": [
    "## Amplitude vs gain"
   ]
  },
  {
   "cell_type": "code",
   "execution_count": null,
   "id": "e24f4156",
   "metadata": {},
   "outputs": [],
   "source": [
    "def getAmplitudes( srcpath, filelist, offPMTs, start_values ):\n",
    "    \n",
    "    means = []\n",
    "    sigmas = []\n",
    "    for i, file in enumerate(filelist):\n",
    "        \n",
    "        f = srcpath + file\n",
    "        run=getRun(f)\n",
    "        adata = getDataFrame(f, offPMTs)\n",
    "        \n",
    "        xs, ys, param, eparam = fitGaussian(adata[\"q\"].to_numpy(),p0=(start_values[i], 0.5))\n",
    "        means.append(param[1])\n",
    "        sigmas.append(param[2])\n",
    "    \n",
    "    return means, sigmas\n",
    "\n",
    "def getGains( srcpath, filelist, offPMTs, start_values ):\n",
    "    \n",
    "    means = []\n",
    "    sigmas = []\n",
    "    for i, file in enumerate(filelist):\n",
    "        \n",
    "        f = srcpath + file\n",
    "        run=getRun(f)\n",
    "        adata = getDataFrame(f, offPMTs)\n",
    "        \n",
    "        xs, ys, param, eparam = fitGaussian(adata[\"q\"].to_numpy(),BINSIZE=0.005,RMIN=0.0,RMAX=1.0,p0=(start_values[i], 0.05))\n",
    "        means.append(param[1])\n",
    "        sigmas.append(param[2])\n",
    "    \n",
    "    return means, sigmas\n",
    "\n",
    "def line( p, x ):\n",
    "    a, b = p\n",
    "    return a*x+b\n",
    "\n",
    "def getallForSingle( gain_file, amp_file , offPMTs, starts ):\n",
    "    \n",
    "    adata = getDataFrame(amp_file, offPMTs)\n",
    "    gdata = getDataFrame(gain_file, offPMTs)\n",
    "    \n",
    "    xs, ys, param, eparam = fitGaussian(adata[\"q\"].to_numpy(),p0=(starts[0], 0.5))\n",
    "    amp, asigma = param[1], param[2]\n",
    "    xs, ys, param, eparam = fitGaussian(gdata[\"q\"].to_numpy(),BINSIZE=0.005,RMIN=0.0,RMAX=1.0,p0=(starts[1], 0.05))\n",
    "    gain, gsigma = param[1], param[2]\n",
    "    \n",
    "    return gain, gsigma, amp, asigma"
   ]
  },
  {
   "cell_type": "code",
   "execution_count": null,
   "id": "c4039e61",
   "metadata": {},
   "outputs": [],
   "source": [
    "voltages = [ \"+30V\", \"Nominal\", \"-30V\", \"-50V\", \"-100V\"]"
   ]
  },
  {
   "cell_type": "code",
   "execution_count": null,
   "id": "7a514003",
   "metadata": {},
   "outputs": [],
   "source": [
    "srcpath = \"/icarus/data/users/mvicenzi/pmt-calibration/amplitudedb/\"\n",
    "filelist = [\"bkgphamplitude_run10333_1692369304.csv\", #+30V\n",
    "            \"bkgphamplitude_run10313_1692203499.csv\",\n",
    "            \"bkgphamplitude_run10334_1692373315.csv\", #-30V\n",
    "            \"bkgphamplitude_run10335_1692377987.csv\", #-50V\n",
    "            \"bkgphamplitude_run10336_1692382296.csv\", #-100V\n",
    "           ]\n",
    "start_values = [ 6.0, 5.0, 4.0, 4.0, 3.0]\n",
    "amplitudes, asigmas = getAmplitudes(srcpath, filelist, offPMTs, start_values)"
   ]
  },
  {
   "cell_type": "code",
   "execution_count": null,
   "id": "1fc28f9f",
   "metadata": {},
   "outputs": [],
   "source": [
    "print(amplitudes, asigmas)"
   ]
  },
  {
   "cell_type": "code",
   "execution_count": null,
   "id": "fd25b5f3",
   "metadata": {},
   "outputs": [],
   "source": [
    "dbpath = \"/exp/icarus/data/users/mvicenzi/pmt-calibration/calibrationdb/\"\n",
    "files = [ \"equalization_run10333_1692368269.csv\", #+30V\n",
    "          \"equalization_run10313_1692203859.csv\", #nominal \n",
    "          \"equalization_run10334_1692374665.csv\", #-30V\n",
    "          \"equalization_run10335_1692377717.csv\", #-50V\n",
    "          \"equalization_run10336_1692384276.csv\", #-100V\n",
    "        ]\n",
    "start_values = [0.6, 0.55, 0.48, 0.45, 0.38]\n",
    "#exclude east + off\n",
    "exclude = offPMTs + EASTonly\n",
    "gains, gsigmas = getGains( dbpath, files, exclude, start_values )"
   ]
  },
  {
   "cell_type": "code",
   "execution_count": null,
   "id": "2b674d3a",
   "metadata": {},
   "outputs": [],
   "source": [
    "print( gains, gsigmas)"
   ]
  },
  {
   "cell_type": "code",
   "execution_count": null,
   "id": "1ef71a0c",
   "metadata": {},
   "outputs": [],
   "source": [
    "gainpath = \"/exp/icarus/data/users/mvicenzi/pmt-calibration/calibrationdb/backgroundphotons_run9342_1672496767.csv\"\n",
    "amppath = \"/exp/icarus/data/users/mvicenzi/pmt-calibration/amplitudedb/bkgphamplitude_run9342_1672496767.csv\"\n",
    "starts = [3.5, 0.45]\n",
    "\n",
    "g, sg, a, sa = getallForSingle( gainpath, amppath , offPMTs, starts )\n",
    "print(g, sg, a, sa)"
   ]
  },
  {
   "cell_type": "code",
   "execution_count": null,
   "id": "491843f0",
   "metadata": {},
   "outputs": [],
   "source": [
    "fig = plt.figure(figsize=(9,6))\n",
    "plt.errorbar(x=gains, y=amplitudes, xerr=gsigmas, yerr=asigmas, fmt=\"o\")\n",
    "\n",
    "data = RealData(x=gains, y=amplitudes, sx=gsigmas, sy=asigmas)\n",
    "model = Model(line)\n",
    "odr = ODR(data, model, beta0=[1,1])\n",
    "odr.set_job(fit_type=2)\n",
    "output = odr.run()\n",
    "\n",
    "xn = np.linspace(np.min(gains)-0.05,np.max(gains),200)\n",
    "yn = line(output.beta, xn)\n",
    "param = output.beta\n",
    "plt.plot(xn,yn,color=\"red\",lw=2, label=\"Linear fit: ax+b\\na: {:.2f} mV/10$^7$ elec.\\nb: {:.2f} mV\".format(param[0],param[1]))\n",
    "\n",
    "plt.axvline(x=g,linestyle=\"dotted\",label=\"Run 9342 (RUN 2)\\nMean Gain\", color=\"green\")\n",
    "plt.axvspan(xmin=g-sg,xmax=g+sg,color=\"green\",alpha=0.1)\n",
    "\n",
    "plt.axhline(y=a,linestyle=\"dotted\",label=\"Run 9342 (RUN 2)\\nMean PE amplitude\", color=\"orange\")\n",
    "plt.axhspan(ymin=a-sa,ymax=a+sa,color=\"orange\",alpha=0.1)\n",
    "\n",
    "for i,v in enumerate(voltages):\n",
    "    plt.annotate( v, xy=(gains[i],amplitudes[i]),textcoords=\"offset points\", xytext=(-25,22), ha='center')\n",
    "\n",
    "plt.grid(alpha=0.5,linestyle=\"dashed\")\n",
    "plt.xlabel(\"Gain [10$^7$ electrons]\", fontsize=14)\n",
    "plt.ylabel(\"Single PE amplitude [mV]\", fontsize=14)\n",
    "plt.legend(fontsize=12)\n",
    "\n",
    "plt.savefig(\"figs/WEST_AmplitudeVsGain.png\", dpi=500)\n",
    "plt.show()"
   ]
  },
  {
   "cell_type": "code",
   "execution_count": null,
   "id": "72a5a1e2",
   "metadata": {},
   "outputs": [],
   "source": []
  },
  {
   "cell_type": "code",
   "execution_count": null,
   "id": "0ae7d127",
   "metadata": {},
   "outputs": [],
   "source": []
  }
 ],
 "metadata": {
  "kernelspec": {
   "display_name": "Python 3 (ipykernel)",
   "language": "python",
   "name": "python3"
  },
  "language_info": {
   "codemirror_mode": {
    "name": "ipython",
    "version": 3
   },
   "file_extension": ".py",
   "mimetype": "text/x-python",
   "name": "python",
   "nbconvert_exporter": "python",
   "pygments_lexer": "ipython3",
   "version": "3.9.2"
  }
 },
 "nbformat": 4,
 "nbformat_minor": 5
}
