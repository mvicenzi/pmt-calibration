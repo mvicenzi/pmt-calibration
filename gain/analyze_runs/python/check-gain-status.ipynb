{
 "cells": [
  {
   "cell_type": "code",
   "execution_count": null,
   "id": "regulated-reach",
   "metadata": {},
   "outputs": [],
   "source": [
    "from helpers import *\n",
    "from gaussfit import *\n",
    "\n",
    "from pylab import rcParams\n",
    "rcParams['figure.figsize'] = 8, 5"
   ]
  },
  {
   "cell_type": "markdown",
   "id": "813b5322",
   "metadata": {},
   "source": [
    "## Configuration"
   ]
  },
  {
   "cell_type": "code",
   "execution_count": null,
   "id": "a228c15a",
   "metadata": {},
   "outputs": [],
   "source": [
    "# OLD LIST OF PMTS THAT WERE OFF FOR RUN-1 AND RUN-2\n",
    "# list of PMTs at 0 voltage from HV files + disconnected pmts: 290\n",
    "offPMTs = [1, 111, 143, 166, 192, 230, 238, 254, 222, 302, 309, 340, 353, 290 ]\n",
    "offChs = PMTid_to_channel(offPMTs)\n",
    "print(\"OLD OFFs: {}\".format(offChs))\n",
    "\n",
    "# NEW LIST OF PMTS THAT ARE OFF FOR RUN-3\n",
    "offPMTs2 = [143, 254, 290 ]\n",
    "offChs2 = PMTid_to_channel(offPMTs2)\n",
    "print(\"CURRENT OFFs: {}\".format(offChs2))\n",
    "\n",
    "## PMTs that USED TO BE OFF AND HAVE BEEN SUCCESSFULLY RECOVERED\n",
    "recoPMTs = [1, 166, 192, 230, 238, 222, 302 ]\n",
    "recoChs = PMTid_to_channel(recoPMTs)\n",
    "\n",
    "## PMTs that are ON but CANNOT BE EQUALIZED (>2000 V)\n",
    "nochangePMTs = [ 111, 309, 340, 353 ]\n",
    "nochangeChs = PMTid_to_channel(nochangePMTs)\n",
    "print(\"NOT EQUALIZED: {}\".format(nochangeChs))\n",
    "\n",
    "## last drifting channels \n",
    "newPMTsWest = [ 66, 71 ]\n",
    "newDriftChs = PMTid_to_channel(newPMTsWest)\n",
    "\n",
    "WESTonly = [ x for x in range(1,181) ]\n",
    "chWESTonly = PMTid_to_channel(WESTonly)\n",
    "\n",
    "EASTonly = [ x for x in range(181,361) ]\n",
    "chEASTonly = PMTid_to_channel(EASTonly)\n",
    "\n",
    "nodisplay = offPMTs2 + nochangePMTs"
   ]
  },
  {
   "cell_type": "code",
   "execution_count": null,
   "id": "469599e3",
   "metadata": {},
   "outputs": [],
   "source": [
    "srcpath = \"/exp/icarus/data/users/mvicenzi/pmt-calibration/calibrationdb/\"\n",
    "histpath = \"/exp/icarus/data/users/mvicenzi/pmt-calibration/quick/\"\n",
    "figpath = \"/exp/icarus/data/users/mvicenzi/pmt-calibration/figs/\"\n",
    "\n",
    "# equalization\n",
    "#file = srcpath + \"equalization_run10890_1697390445.csv\" #nominal\n",
    "#file = srcpath + \"equalization_run10893_1697472021.csv\" #+30V\n",
    "#file = srcpath + \"equalization_run10894_1697477246.csv\" #-30V\n",
    "#file = srcpath + \"equalization_run10895_1697481155.csv\" #-50V\n",
    "#file = srcpath + \"equalization_run10896_1697485836.csv\" #-100V\n",
    "\n",
    "#file = srcpath + \"backgroundphotons_run11749_1709385772.csv\"\n",
    "#file = srcpath + \"backgroundphotons_run11590_1708021616.csv\"\n",
    "#file = srcpath + \"backgroundphotons_run11809_1710626100.csv\"\n",
    "#file = srcpath + \"backgroundphotons_run11836_1711955795.csv\"\n",
    "\n",
    "#file = srcpath + \"backgroundphotons_run9271_1671126767.csv\"\n",
    "#file = srcpath + \"backgroundphotons_run9342_1672516694.csv\"\n",
    "#file = srcpath + \"backgroundphotons_run9795_1682853193.csv\"\n",
    "\n",
    "#file = srcpath + \"backgroundphotons_run12594_1728479508.csv\"\n",
    "#file = srcpath + \"backgroundphotons_run12777_1730325159.csv\"\n",
    "#file = srcpath + \"backgroundphotons_run12837_1731166338.csv\"\n",
    "#file = srcpath + \"backgroundphotons_run12844_1731193962.csv\"\n",
    "\n",
    "file = getMostRecentCalibration(srcpath)"
   ]
  },
  {
   "cell_type": "markdown",
   "id": "ee2347af",
   "metadata": {},
   "source": [
    "## PMT gain distribution"
   ]
  },
  {
   "cell_type": "code",
   "execution_count": null,
   "id": "capital-memphis",
   "metadata": {
    "scrolled": false
   },
   "outputs": [],
   "source": [
    "print( \"Loading data from: \"+ file )\n",
    "run=getRun(file)\n",
    "timestamp=getTimestamp(file)\n",
    "data = getDataFrame(file, nodisplay, False)\n",
    "\n",
    "fitOutput  = fitGainsDistribution( data, BINSIZE=0.002,RMIN=0.0,RMAX=1.0, p0=(0.4, 0.01) )\n",
    "\n",
    "plt.figure(dpi=200)\n",
    "plt.xlim((0.31, 0.50))\n",
    "plt = makeplot(timestamp, figpath+\"gain_hist_\"+str(run)+\".pdf\", *fitOutput )\n",
    "plt.title(\"PMT Gain Equalization\", fontsize=14)\n",
    "name = \"run\"+str(run)+\"_histo_all\"\n",
    "#plt.savefig(\"figs/\"+name+\".png\", dpi=100)\n",
    "#plt.savefig(name+\".pdf\", dpi=200)\n",
    "plt.show()"
   ]
  },
  {
   "cell_type": "markdown",
   "id": "6dc7cbbf",
   "metadata": {},
   "source": [
    "## Scatter plots"
   ]
  },
  {
   "cell_type": "code",
   "execution_count": null,
   "id": "persistent-hopkins",
   "metadata": {
    "scrolled": true
   },
   "outputs": [],
   "source": [
    "fig = plt.figure(dpi=200)\n",
    "\n",
    "plt.scatter(data[\"pmt\"],data[\"q\"],marker=\"o\")\n",
    "\n",
    "## latest equalization target\n",
    "plt.axhline(y=0.40, color=\"red\", linestyle='dotted')\n",
    "\n",
    "## KNOWN HV ISSUES\n",
    "_selDrift = data['pmt'].isin(newDriftChs)\n",
    "#plt.scatter(data[_selDrift][\"pmt\"],data[_selDrift][\"q\"],marker=\"x\",color=\"C1\", label=\"HV issues (West slot3)\")\n",
    "## RECOVERED FULLY\n",
    "_selRecov = data['pmt'].isin(recoChs)\n",
    "#plt.scatter(data[_selRecov]['pmt'],data[_selRecov]['q'],marker=\"x\",color=\"magenta\", label=\"Fully recovered\")\n",
    "# ON BUT NOT EQUALIZED\n",
    "_selNoeq = data['pmt'].isin(nochangeChs)\n",
    "#plt.scatter(data[_selNoeq]['pmt'],data[_selNoeq]['q'],marker=\"x\",color=\"red\", label=\"Not equalized\")\n",
    "\n",
    "plt.axvline(x=90,color=\"magenta\",linestyle=\"dotted\")\n",
    "plt.axvline(x=180,color=\"magenta\",linestyle=\"dotted\")\n",
    "plt.axvline(x=270,color=\"magenta\",linestyle=\"dotted\")\n",
    "\n",
    "#plt.xlim((180,360))\n",
    "plt.ylim((0.25,0.55))\n",
    "plt.xlabel(\"PMT channel ID\")\n",
    "plt.ylabel(\"Gains [10^7 electrons]\")\n",
    "#plt.legend()\n",
    "plt.grid(alpha=0.5)\n",
    "\n",
    "plt.savefig(\"figs/run\"+str(run)+\"_scatter_all.pdf\", dpi=200)\n",
    "plt.show()\n"
   ]
  },
  {
   "cell_type": "code",
   "execution_count": null,
   "id": "f7127a8b",
   "metadata": {},
   "outputs": [],
   "source": [
    "fig = plt.figure(dpi=150)\n",
    "\n",
    "plt.scatter(data[\"id\"],data[\"q\"],marker=\"o\")\n",
    "\n",
    "## latest equalization target\n",
    "plt.axhline(y=0.40, color=\"red\", linestyle='dotted')\n",
    "\n",
    "## KNOWN HV ISSUES\n",
    "_selDrift = data['pmt'].isin(newDriftChs)\n",
    "#plt.scatter(data[_selDrift][\"id\"],data[_selDrift][\"q\"],marker=\"x\",color=\"C1\", label=\"HV issues (West slot3)\")\n",
    "## RECOVERED FULLY\n",
    "_selRecov = data['pmt'].isin(recoChs)\n",
    "#plt.scatter(data[_selRecov]['id'],data[_selRecov]['q'],marker=\"x\",color=\"magenta\", label=\"Fully recovered\")\n",
    "# ON BUT NOT EQUALIZED\n",
    "_selNoeq = data['pmt'].isin(nochangeChs)\n",
    "#plt.scatter(data[_selNoeq]['id'],data[_selNoeq]['q'],marker=\"x\",color=\"red\", label=\"Not equalized\")\n",
    "\n",
    "plt.axvline(x=90,color=\"magenta\",linestyle=\"dotted\")\n",
    "plt.axvline(x=180,color=\"magenta\",linestyle=\"dotted\")\n",
    "plt.axvline(x=270,color=\"magenta\",linestyle=\"dotted\")\n",
    "\n",
    "#plt.xlim((180,360))\n",
    "plt.ylim((0.25,0.55))\n",
    "plt.xlabel(\"PMT ID\")\n",
    "plt.ylabel(\"Gains [10^7 electrons]\")\n",
    "#plt.legend()\n",
    "plt.grid(alpha=0.5)\n",
    "plt.show()"
   ]
  },
  {
   "cell_type": "code",
   "execution_count": null,
   "id": "6d1f9ed0",
   "metadata": {},
   "outputs": [],
   "source": [
    "## PRINTING OUTLIERS\n",
    "reference = 0.40\n",
    "low_bound = reference - 0.01\n",
    "high_bound = reference + 0.01\n",
    "\n",
    "_selHigh = data.q>high_bound\n",
    "_selLow = data.q<low_bound\n",
    "\n",
    "\n",
    "print(\"PMT channels above \"+ str(high_bound))\n",
    "print( data[_selHigh][[\"pmt\",\"id\",\"q\"]] )\n",
    "\n",
    "print(\"PMT channels below \"+ str(low_bound))\n",
    "print( data[_selLow][[\"pmt\",\"id\",\"q\"]] )"
   ]
  },
  {
   "cell_type": "markdown",
   "id": "aa29e673",
   "metadata": {},
   "source": [
    "## Comparisons and random stuff"
   ]
  },
  {
   "cell_type": "code",
   "execution_count": null,
   "id": "630b80f5",
   "metadata": {
    "scrolled": false
   },
   "outputs": [],
   "source": [
    "file0 = srcpath + \"backgroundphotons_run12594_1728479508.csv\" #nominal\n",
    "file1 = srcpath + \"equalization_run12596_1728487924.csv\" #-50V\n",
    "file2 = srcpath + \"equalization_run12595_1728486342.csv\" #-30V\n",
    "file3 = srcpath + \"equalization_run12597_1728491789.csv\" #+30V\n",
    "file4 = srcpath + \"equalization_run12598_1728495180.csv\" #+50V\n",
    "\n",
    "remove = offPMTs2 + nochangePMTs\n",
    "\n",
    "#data_01 = getDataFrame(file01, remove, False)\n",
    "data_0 = getDataFrame(file0, remove, False)\n",
    "data_1 = getDataFrame(file1, remove, False)\n",
    "data_2 = getDataFrame(file2, remove, False)\n",
    "data_3 = getDataFrame(file3, remove, False)\n",
    "data_4 = getDataFrame(file4, remove, False)\n",
    "\n",
    "plt.figure(dpi=200)\n",
    "\n",
    "#man_data_01 = data_01[data_01['pmt'].isin(manualChs)]\n",
    "#man_data_0 = data_0[data_0['pmt'].isin(manualChs)]\n",
    "#plt.scatter(man_data_01['pmt'],man_data_01['q'],marker=\"s\", label=\"Start (10263)\")\n",
    "#plt.scatter(man_data_0['pmt'],man_data_0['q'],marker=\"s\", label=\"Start (10313)\")\n",
    "\n",
    "#plt.scatter(data_01['pmt'],data_01['q'],marker=\"s\", label=\"Start (10263)\")\n",
    "plt.scatter(data_0['id'],data_0['q'],marker=\"s\", label=\"Nominal (12594)\")\n",
    "plt.scatter(data_1['id'],data_1['q'],marker=\"s\", label=\"-50V (12596)\")\n",
    "plt.scatter(data_2['id'],data_2['q'],marker=\"s\", label=\"-30V (12595)\")\n",
    "plt.scatter(data_3['id'],data_3['q'],marker=\"s\", label=\"+30V (12597)\")\n",
    "plt.scatter(data_4['id'],data_4['q'],marker=\"s\", label=\"+50V (12598)\")\n",
    "\n",
    "plt.axhline(y=0.4, color=\"red\", linestyle='dotted')\n",
    "plt.legend()\n",
    "plt.xlabel(\"PMT ID\")\n",
    "plt.ylabel(\"Gains [10^7 electrons]\")\n",
    "plt.grid()\n",
    "#plt.xlim((0, 180))\n",
    "#plt.savefig(\"20241009_equalization_runs.pdf\",dpi=200)"
   ]
  },
  {
   "cell_type": "code",
   "execution_count": null,
   "id": "4feee81b",
   "metadata": {},
   "outputs": [],
   "source": [
    "plt.figure(dpi=200)\n",
    "\n",
    "up=0.6\n",
    "low=0.25\n",
    "BINSIZE=0.002\n",
    "nbins = int((up-low)/BINSIZE)\n",
    "\n",
    "plt.hist(data_0['q'],range=(low,up), bins=nbins, histtype=\"step\", lw=2, label=\"Nominal (12594)\")\n",
    "plt.hist(data_1['q'],range=(low,up), bins=nbins, histtype=\"step\", lw=2, label=\"-50V (12596)\")\n",
    "plt.hist(data_2['q'],range=(low,up), bins=nbins, histtype=\"step\", lw=2, label=\"-30V (12595)\")\n",
    "plt.hist(data_3['q'],range=(low,up), bins=nbins, histtype=\"step\", lw=2, label=\"+30V (12597)\")\n",
    "plt.hist(data_4['q'],range=(low,up), bins=nbins, histtype=\"step\", lw=2, label=\"+50V (12598)\")\n",
    "\n",
    "plt.axvline(x=0.4, color=\"red\", linestyle='dotted')\n",
    "plt.legend()\n",
    "plt.xlabel(\"Gain [10^7 electrons]\")\n",
    "plt.grid()\n",
    "#plt.xlim((0, 180))\n",
    "#plt.savefig(\"20241009_equalization_runs_histos.pdf\",dpi=200)"
   ]
  },
  {
   "cell_type": "code",
   "execution_count": null,
   "id": "4600aa13",
   "metadata": {},
   "outputs": [],
   "source": []
  },
  {
   "cell_type": "code",
   "execution_count": null,
   "id": "d2c4829a",
   "metadata": {},
   "outputs": [],
   "source": []
  },
  {
   "cell_type": "code",
   "execution_count": null,
   "id": "bf6e0ac4",
   "metadata": {},
   "outputs": [],
   "source": []
  }
 ],
 "metadata": {
  "kernelspec": {
   "display_name": "Python 3 (ipykernel)",
   "language": "python",
   "name": "python3"
  },
  "language_info": {
   "codemirror_mode": {
    "name": "ipython",
    "version": 3
   },
   "file_extension": ".py",
   "mimetype": "text/x-python",
   "name": "python",
   "nbconvert_exporter": "python",
   "pygments_lexer": "ipython3",
   "version": "3.9.15"
  }
 },
 "nbformat": 4,
 "nbformat_minor": 5
}
