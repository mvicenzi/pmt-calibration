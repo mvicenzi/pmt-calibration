{
 "cells": [
  {
   "cell_type": "code",
   "execution_count": null,
   "id": "regulated-reach",
   "metadata": {},
   "outputs": [],
   "source": [
    "from helpers import *\n",
    "from gaussfit import *\n",
    "\n",
    "from pylab import rcParams\n",
    "rcParams['figure.figsize'] = 8, 5"
   ]
  },
  {
   "cell_type": "markdown",
   "id": "813b5322",
   "metadata": {},
   "source": [
    "## Configuration"
   ]
  },
  {
   "cell_type": "code",
   "execution_count": null,
   "id": "a228c15a",
   "metadata": {},
   "outputs": [],
   "source": [
    "# list of PMTs at 0 voltage from HV files + disconnected pmts: 290\n",
    "offPMTs = [1, 111, 143, 166, 192, 230, 238, 254, 222, 302, 309, 340, 353, 290 ]\n",
    "offChs = PMTid_to_channel(offPMTs)\n",
    "\n",
    "WESTonly = [ x for x in range(1,181) ]\n",
    "chWESTonly = PMTid_to_channel(WESTonly)\n",
    "\n",
    "EASTonly = [ x for x in range(181,361) ]\n",
    "chEASTonly = PMTid_to_channel(EASTonly)\n",
    "\n",
    "# drifting PMTs --> wait for full list\n",
    "driftPMTsEAST = [ 282, 288, 296, 307, 310, 319, 346, 350]\n",
    "driftPMTsWEST = [ 59, 63, 81, 93, 95, 142, 148, 169, 170, 179 ]\n",
    "driftChsEAST = PMTid_to_channel(driftPMTsEAST)\n",
    "driftChsWEST = PMTid_to_channel(driftPMTsWEST)\n",
    "print(driftChsWEST)\n",
    "\n",
    "newPMTsWest = [ 66 ]\n",
    "newDriftChs = PMTid_to_channel(newPMTsWest)\n",
    "\n",
    "# PMTs not changed\n",
    "#nochangePMTs = [310, 282, 262, 248, 90]\n",
    "nochangePMTs = [90]\n",
    "nochangeChs = PMTid_to_channel(nochangePMTs)"
   ]
  },
  {
   "cell_type": "code",
   "execution_count": null,
   "id": "469599e3",
   "metadata": {},
   "outputs": [],
   "source": [
    "srcpath = \"/exp/icarus/data/users/mvicenzi/pmt-calibration/calibrationdb/\"\n",
    "histpath = \"/exp/icarus/data/users/mvicenzi/pmt-calibration/quick/\"\n",
    "figpath = \"/exp/icarus/data/users/mvicenzi/pmt-calibration/figs/\"\n",
    "\n",
    "# equalization\n",
    "#file = srcpath + \"equalization_run10263_1691610710.csv\" #nominal, prefix\n",
    "#file = srcpath + \"equalization_run10313_1692203859.csv\" #nominal \n",
    "#file = srcpath + \"equalization_run10333_1692368269.csv\" #+30V\n",
    "#file = srcpath + \"equalization_run10334_1692374665.csv\" #-30V\n",
    "#file = srcpath + \"equalization_run10335_1692377717.csv\" #-50V\n",
    "#file = srcpath + \"equalization_run10336_1692384276.csv\" #-100V\n",
    "\n",
    "#file = srcpath + \"equalization_run10890_1697390445.csv\" #nominal\n",
    "#file = srcpath + \"equalization_run10893_1697472021.csv\" #+30V\n",
    "#file = srcpath + \"equalization_run10894_1697477246.csv\" #-30V\n",
    "#file = srcpath + \"equalization_run10895_1697481155.csv\" #-50V\n",
    "#file = srcpath + \"equalization_run10896_1697485836.csv\" #-100V\n",
    "\n",
    "#file = srcpath +\"backgroundphotons_run10898_1697562799.csv\"\n",
    "#file = srcpath + \"equalization_run10900_1697567880.csv\" #+30V\n",
    "#file = srcpath + \"equalization_run10901_1697572018.csv\" #-30V\n",
    "\n",
    "file = getMostRecentCalibration(srcpath)"
   ]
  },
  {
   "cell_type": "markdown",
   "id": "ee2347af",
   "metadata": {},
   "source": [
    "## PMT gain distribution"
   ]
  },
  {
   "cell_type": "code",
   "execution_count": null,
   "id": "capital-memphis",
   "metadata": {
    "scrolled": true
   },
   "outputs": [],
   "source": [
    "print( \"Loading data from: \"+ file )\n",
    "run=getRun(file)\n",
    "timestamp=getTimestamp(file)\n",
    "data = getDataFrame(file, offPMTs, False)\n",
    "\n",
    "fitOutput  = fitGainsDistribution( data, BINSIZE=0.002,RMIN=0.0,RMAX=1.0, p0=(0.4, 0.01) )\n",
    "\n",
    "plt.xlim((0.25, 0.55))\n",
    "plt = makeplot(timestamp, figpath+\"gain_hist_\"+str(run)+\".pdf\", *fitOutput )\n",
    "plt.title(\"PMT Gain Equalization\", fontsize=14)\n",
    "name = \"run\"+str(run)+\"_histo_all\"\n",
    "#name = \"figs/ICARUS_Run2_PMT_Gains_start_run9342\"\n",
    "plt.savefig(\"figs/\"+name+\".png\", dpi=100)\n",
    "#plt.savefig(name+\".svg\", dpi=100)\n",
    "#plt.savefig(name+\".pdf\", dpi=100)\n",
    "\n",
    "\n",
    "#data[[\"pmt\", \"q\", \"eq\"]].to_csv(histpath+\"histogram_run\"+str(run)+\"_\"+str(timestamp)+\".csv\")"
   ]
  },
  {
   "cell_type": "markdown",
   "id": "6dc7cbbf",
   "metadata": {},
   "source": [
    "## Scatter plots"
   ]
  },
  {
   "cell_type": "code",
   "execution_count": null,
   "id": "persistent-hopkins",
   "metadata": {
    "scrolled": true
   },
   "outputs": [],
   "source": [
    "plt.scatter(data[\"pmt\"],data[\"q\"],marker=\"o\")\n",
    "\n",
    "## latest equalization target\n",
    "plt.axhline(y=0.40, color=\"red\", linestyle='dotted')\n",
    "\n",
    "## KNOWN HV ISSUES\n",
    "drift_dataWEST = data[data['pmt'].isin(driftChsWEST)]\n",
    "drift_dataEAST = data[data['pmt'].isin(driftChsEAST)]\n",
    "newDriftData = data[data['pmt'].isin(newDriftChs)]\n",
    "plt.scatter(drift_dataWEST[\"pmt\"],drift_dataWEST[\"q\"],marker=\"x\",color=\"red\", label=\"HV issues - now fixed (WEST)\")\n",
    "plt.scatter(drift_dataEAST[\"pmt\"],drift_dataEAST[\"q\"],marker=\"x\",color=\"magenta\", label=\"HV issues - now fixed (EAST)\")\n",
    "plt.scatter(newDriftData[\"pmt\"],newDriftData[\"q\"],marker=\"x\",color=\"orange\", label=\"New HV issues\")\n",
    "\n",
    "## NOT EQUALIZED\n",
    "nochange_data = data[data['pmt'].isin(nochangeChs)]\n",
    "plt.scatter(nochange_data['pmt'],nochange_data['q'],marker=\"^\",color=\"green\", label=\"Manual fit (PMT 90, ch 279)\")\n",
    "\n",
    "# MANUALLY EQUALIZED\n",
    "# manual_data = data[data['pmt'].isin(manualChs)]\n",
    "#plt.scatter(manual_data['pmt'],manual_data['q'],marker=\"^\",color=\"violet\", label=\"Manual adjustment\")\n",
    "\n",
    "#plt.xlim((180,360))\n",
    "#plt.ylim((0.2,0.6))\n",
    "plt.xlabel(\"PMT channel ID\")\n",
    "plt.ylabel(\"Gains [10^7 electrons]\")\n",
    "plt.legend()\n",
    "plt.grid()\n",
    "\n",
    "plt.savefig(\"figs/run\"+str(run)+\"_scatter_all.png\", dpi=200)"
   ]
  },
  {
   "cell_type": "code",
   "execution_count": null,
   "id": "6d1f9ed0",
   "metadata": {},
   "outputs": [],
   "source": [
    "## PRINTING OUTLIERS\n",
    "reference = 0.396\n",
    "low_bound = reference - 9*0.0034*reference\n",
    "high_bound = reference + 9*0.0034*reference\n",
    "\n",
    "ch_high = data.loc[ data[\"q\"] > high_bound, [\"pmt\", \"q\"]]\n",
    "ch_low = data.loc[ data[\"q\"] < low_bound, [\"pmt\", \"q\"]]\n",
    "\n",
    "print(\"PMT channels above \"+ str(high_bound))\n",
    "pmt_high = channel_to_PMTid(ch_high[\"pmt\"].to_numpy())\n",
    "print(\"Ch ID: \", ch_high.pmt.to_numpy() )\n",
    "print(\"PMT ID: \", pmt_high )\n",
    "print(\"q: \", ch_high.q.to_numpy() )\n",
    "\n",
    "print(\"PMT channels below \"+ str(low_bound))\n",
    "pmt_low = channel_to_PMTid(ch_low[\"pmt\"].to_numpy())\n",
    "print(\"Ch ID: \", ch_low.pmt.to_numpy() )\n",
    "print(\"PMT ID: \", pmt_low )\n",
    "print(\"q: \", ch_low.q.to_numpy() )"
   ]
  },
  {
   "cell_type": "markdown",
   "id": "aa29e673",
   "metadata": {},
   "source": [
    "## Comparisons and random stuff"
   ]
  },
  {
   "cell_type": "code",
   "execution_count": null,
   "id": "630b80f5",
   "metadata": {
    "scrolled": false
   },
   "outputs": [],
   "source": [
    "file0 = srcpath + \"equalization_run10890_1697390445.csv\" #nominal\n",
    "file1 = srcpath + \"equalization_run10893_1697472021.csv\" #+30V\n",
    "file2 = srcpath + \"equalization_run10894_1697477246.csv\" #-30V\n",
    "file3 = srcpath + \"equalization_run10895_1697481155.csv\" #-50V\n",
    "file4 = srcpath + \"equalization_run10896_1697485836.csv\" #-100V\n",
    "\n",
    "remove = offPMTs + WESTonly\n",
    "\n",
    "#data_01 = getDataFrame(file01, remove, False)\n",
    "data_0 = getDataFrame(file0, remove, False)\n",
    "data_1 = getDataFrame(file1, remove, False)\n",
    "data_2 = getDataFrame(file2, remove, False)\n",
    "data_3 = getDataFrame(file3, remove, False)\n",
    "data_4 = getDataFrame(file4, remove, False)\n",
    "\n",
    "#man_data_01 = data_01[data_01['pmt'].isin(manualChs)]\n",
    "#man_data_0 = data_0[data_0['pmt'].isin(manualChs)]\n",
    "#plt.scatter(man_data_01['pmt'],man_data_01['q'],marker=\"s\", label=\"Start (10263)\")\n",
    "#plt.scatter(man_data_0['pmt'],man_data_0['q'],marker=\"s\", label=\"Start (10313)\")\n",
    "\n",
    "#plt.scatter(data_01['pmt'],data_01['q'],marker=\"s\", label=\"Start (10263)\")\n",
    "plt.scatter(data_0['pmt'],data_0['q'],marker=\"s\", label=\"Nominal (10890)\")\n",
    "plt.scatter(data_1['pmt'],data_1['q'],marker=\"s\", label=\"+30V (10893)\")\n",
    "plt.scatter(data_2['pmt'],data_2['q'],marker=\"s\", label=\"-30V (10894)\")\n",
    "plt.scatter(data_3['pmt'],data_3['q'],marker=\"s\", label=\"-50V (10895)\")\n",
    "plt.scatter(data_4['pmt'],data_4['q'],marker=\"s\", label=\"-100V (10896)\")\n",
    "\n",
    "plt.axhline(y=0.45, color=\"red\", linestyle='dotted')\n",
    "plt.legend()\n",
    "plt.xlabel(\"PMT channel ID\")\n",
    "plt.ylabel(\"Gains [10^7 electrons]\")\n",
    "plt.grid()\n",
    "plt.xlim((0, 180))\n",
    "plt.savefig(\"equalization_runs.png\",dpi=100)\n"
   ]
  },
  {
   "cell_type": "code",
   "execution_count": null,
   "id": "900c47b6",
   "metadata": {},
   "outputs": [],
   "source": [
    "file01 = srcpath + \"equalization_run10263_1691610710.csv\" #nominal \n",
    "file0 = srcpath + \"equalization_run10313_1692203859.csv\" #nominal \n",
    "\n",
    "remove = offPMTs + EASTonly\n",
    "\n",
    "data_01 = getDataFrame(file01, remove, False)\n",
    "data_0 = getDataFrame(file0, remove, False)\n",
    "\n",
    "#man_data_01 = data_01[data_01['pmt'].isin(manualChs)]\n",
    "#man_data_0 = data_0[data_0['pmt'].isin(manualChs)]\n",
    "#plt.scatter(man_data_01['pmt'],man_data_01['q'],marker=\"s\", label=\"Start (10263)\")\n",
    "#plt.scatter(man_data_0['pmt'],man_data_0['q'],marker=\"s\", label=\"Start (10313)\")\n",
    "\n",
    "plt.scatter(data_01['pmt'],data_01['q'],marker=\"s\", label=\"Start (10263)\")\n",
    "plt.scatter(data_0['pmt'],data_0['q'],marker=\"s\", label=\"Start (10313)\")\n",
    "\n",
    "plt.axhline(y=0.45, color=\"red\", linestyle='dotted')\n",
    "plt.legend()\n",
    "plt.xlabel(\"PMT channel ID\")\n",
    "plt.ylabel(\"Gains [10^7 electrons]\")\n",
    "plt.grid()\n",
    "plt.xlim((180.0, 359))\n",
    "plt.savefig(\"manual_fix_highG.png\",dpi=100)"
   ]
  },
  {
   "cell_type": "code",
   "execution_count": null,
   "id": "d92db729",
   "metadata": {},
   "outputs": [],
   "source": [
    "file1 = srcpath +\"backgroundphotons_run10040_1688176609.csv\"\n",
    "file2 = srcpath +\"backgroundphotons_run10058_1688566398.csv\"\n",
    "file3 = srcpath +\"newicaruscode_run10058_1688574998.csv\"\n",
    "file4 = srcpath +\"backgroundphotons_run10058_1688566368.csv\"\n",
    "\n",
    "data1 = getDataFrame(file1, offPMTs, False)\n",
    "data2 = getDataFrame(file2, offPMTs, False)\n",
    "data3 = getDataFrame(file3, offPMTs, False)\n",
    "data4 = getDataFrame(file4, offPMTs, False)"
   ]
  },
  {
   "cell_type": "code",
   "execution_count": null,
   "id": "27881693",
   "metadata": {},
   "outputs": [],
   "source": [
    "#plt.scatter(data1['pmt'],data1['q'],marker=\"o\", label=\"10040 - new \")\n",
    "plt.scatter(data2['pmt'],data2['q'],marker=\"o\", label=\"10040 - old\")\n",
    "plt.scatter(data3['pmt'],data3['q'],marker=\"o\", alpha=0.5, label=\"10058\")\n",
    "plt.scatter(data4['pmt'],data3['q'],marker=\"o\", alpha=0.5, label=\"10097\")\n",
    "\n",
    "plt.axhline(y=0.45, color=\"red\", linestyle='dotted')\n",
    "plt.legend()\n",
    "plt.xlabel(\"PMT channel ID\")\n",
    "plt.ylabel(\"Gains [10^7 electrons]\")\n",
    "plt.grid()\n",
    "plt.xlim((0.0, 359))\n",
    "plt.ylim((0.3, 0.5))"
   ]
  },
  {
   "cell_type": "code",
   "execution_count": null,
   "id": "14100f06",
   "metadata": {},
   "outputs": [],
   "source": [
    "#fitOutput1  = fitGainsDistribution( data1, BINSIZE=0.005,RMIN=0.0,RMAX=1.0, p0=(0.4, 0.04) )\n",
    "fitOutput2  = fitGainsDistribution( data2, BINSIZE=0.005,RMIN=0.0,RMAX=1.0, p0=(0.4, 0.04) )\n",
    "fitOutput3  = fitGainsDistribution( data3, BINSIZE=0.005,RMIN=0.0,RMAX=1.0, p0=(0.4, 0.04) )\n",
    "fitOutput4  = fitGainsDistribution( data4, BINSIZE=0.005,RMIN=0.0,RMAX=1.0, p0=(0.4, 0.04) )\n",
    "\n",
    "fig = plt.figure(figsize=(10, 5))\n",
    "plt.xlim((0.3, 0.6))\n",
    "#plt = makeplot(timestamp, figpath+\"gain_1hist_\"+str(run)+\".pdf\", *fitOutput1 )\n",
    "plt = makeplot(timestamp, figpath+\"gain_2hist_\"+str(run)+\".pdf\", *fitOutput2 )\n",
    "plt = makeplot(timestamp, figpath+\"gain_3hist_\"+str(run)+\".pdf\", *fitOutput3 )\n",
    "plt = makeplot(timestamp, figpath+\"gain_4hist_\"+str(run)+\".pdf\", *fitOutput4 )\n",
    "\n",
    "plt.savefig(\"runs_diff_files.png\", dpi=900)"
   ]
  },
  {
   "cell_type": "code",
   "execution_count": null,
   "id": "9d0786eb",
   "metadata": {},
   "outputs": [],
   "source": []
  },
  {
   "cell_type": "code",
   "execution_count": null,
   "id": "6ca2696d",
   "metadata": {},
   "outputs": [],
   "source": []
  }
 ],
 "metadata": {
  "kernelspec": {
   "display_name": "Python 3 (ipykernel)",
   "language": "python",
   "name": "python3"
  },
  "language_info": {
   "codemirror_mode": {
    "name": "ipython",
    "version": 3
   },
   "file_extension": ".py",
   "mimetype": "text/x-python",
   "name": "python",
   "nbconvert_exporter": "python",
   "pygments_lexer": "ipython3",
   "version": "3.9.2"
  }
 },
 "nbformat": 4,
 "nbformat_minor": 5
}
