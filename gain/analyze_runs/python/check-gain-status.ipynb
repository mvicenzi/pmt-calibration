{
 "cells": [
  {
   "cell_type": "code",
   "execution_count": null,
   "id": "regulated-reach",
   "metadata": {},
   "outputs": [],
   "source": [
    "from helpers import *\n",
    "from gaussfit import *\n",
    "\n",
    "from pylab import rcParams\n",
    "rcParams['figure.figsize'] = 8, 5"
   ]
  },
  {
   "cell_type": "markdown",
   "id": "813b5322",
   "metadata": {},
   "source": [
    "## Configuration"
   ]
  },
  {
   "cell_type": "code",
   "execution_count": null,
   "id": "a228c15a",
   "metadata": {},
   "outputs": [],
   "source": [
    "# OLD LIST OF PMTS THAT WERE OFF FOR RUN-1 AND RUN-2\n",
    "# list of PMTs at 0 voltage from HV files + disconnected pmts: 290\n",
    "offPMTs = [1, 111, 143, 166, 192, 230, 238, 254, 222, 302, 309, 340, 353, 290 ]\n",
    "offChs = PMTid_to_channel(offPMTs)\n",
    "print(\"OLD OFFs: {}\".format(offChs))\n",
    "\n",
    "# NEW LIST OF PMTS THAT ARE OFF FOR RUN-3\n",
    "offPMTs2 = [143, 254, 290 ]\n",
    "offChs2 = PMTid_to_channel(offPMTs2)\n",
    "print(\"CURRENT OFFs: {}\".format(offChs2))\n",
    "\n",
    "## PMTs that USED TO BE OFF AND HAVE BEEN SUCCESSFULLY RECOVERED\n",
    "recoPMTs = [1, 166, 192, 230, 238, 222, 302 ]\n",
    "recoChs = PMTid_to_channel(recoPMTs)\n",
    "\n",
    "## PMTs that are ON but CANNOT BE EQUALIZED (>2000 V)\n",
    "nochangePMTs = [ 111, 309, 340, 353 ]\n",
    "nochangeChs = PMTid_to_channel(nochangePMTs)\n",
    "print(\"NOT EQUALIZED: {}\".format(nochangeChs))\n",
    "\n",
    "## last drifting channels \n",
    "newPMTsWest = [ 66, 71 ]\n",
    "newDriftChs = PMTid_to_channel(newPMTsWest)\n",
    "\n",
    "WESTonly = [ x for x in range(1,181) ]\n",
    "chWESTonly = PMTid_to_channel(WESTonly)\n",
    "\n",
    "EASTonly = [ x for x in range(181,361) ]\n",
    "chEASTonly = PMTid_to_channel(EASTonly)"
   ]
  },
  {
   "cell_type": "code",
   "execution_count": null,
   "id": "469599e3",
   "metadata": {},
   "outputs": [],
   "source": [
    "srcpath = \"/exp/icarus/data/users/mvicenzi/pmt-calibration/calibrationdb/\"\n",
    "histpath = \"/exp/icarus/data/users/mvicenzi/pmt-calibration/quick/\"\n",
    "figpath = \"/exp/icarus/data/users/mvicenzi/pmt-calibration/figs/\"\n",
    "\n",
    "# equalization\n",
    "#file = srcpath + \"equalization_run10890_1697390445.csv\" #nominal\n",
    "#file = srcpath + \"equalization_run10893_1697472021.csv\" #+30V\n",
    "#file = srcpath + \"equalization_run10894_1697477246.csv\" #-30V\n",
    "#file = srcpath + \"equalization_run10895_1697481155.csv\" #-50V\n",
    "#file = srcpath + \"equalization_run10896_1697485836.csv\" #-100V\n",
    "\n",
    "#file = srcpath + \"backgroundphotons_run11749_1709385772.csv\"\n",
    "#file = srcpath + \"backgroundphotons_run11590_1708018817.csv\"\n",
    "#file = srcpath + \"backgroundphotons_run11809_1710626100.csv\"\n",
    "#file = srcpath + \"backgroundphotons_run11836_1711955795.csv\"\n",
    "\n",
    "file = getMostRecentCalibration(srcpath)"
   ]
  },
  {
   "cell_type": "markdown",
   "id": "ee2347af",
   "metadata": {},
   "source": [
    "## PMT gain distribution"
   ]
  },
  {
   "cell_type": "code",
   "execution_count": null,
   "id": "capital-memphis",
   "metadata": {
    "scrolled": false
   },
   "outputs": [],
   "source": [
    "print( \"Loading data from: \"+ file )\n",
    "run=getRun(file)\n",
    "timestamp=getTimestamp(file)\n",
    "data = getDataFrame(file, offPMTs2, False)\n",
    "\n",
    "fitOutput  = fitGainsDistribution( data, BINSIZE=0.002,RMIN=0.0,RMAX=1.0, p0=(0.4, 0.01) )\n",
    "\n",
    "plt.figure(dpi=150)\n",
    "plt.xlim((0.2, 0.6))\n",
    "plt = makeplot(timestamp, figpath+\"gain_hist_\"+str(run)+\".pdf\", *fitOutput )\n",
    "plt.title(\"PMT Gain Equalization\", fontsize=14)\n",
    "name = \"run\"+str(run)+\"_histo_all\"\n",
    "#plt.savefig(\"figs/\"+name+\".png\", dpi=100)\n",
    "#plt.savefig(name+\".pdf\", dpi=100)\n",
    "plt.show()"
   ]
  },
  {
   "cell_type": "markdown",
   "id": "6dc7cbbf",
   "metadata": {},
   "source": [
    "## Scatter plots"
   ]
  },
  {
   "cell_type": "code",
   "execution_count": null,
   "id": "persistent-hopkins",
   "metadata": {
    "scrolled": true
   },
   "outputs": [],
   "source": [
    "fig = plt.figure(dpi=100)\n",
    "\n",
    "plt.scatter(data[\"pmt\"],data[\"q\"],marker=\"o\")\n",
    "\n",
    "## latest equalization target\n",
    "plt.axhline(y=0.40, color=\"red\", linestyle='dotted')\n",
    "\n",
    "## KNOWN HV ISSUES\n",
    "_selDrift = data['pmt'].isin(newDriftChs)\n",
    "#plt.scatter(data[_selDrift][\"pmt\"],data[_selDrift][\"q\"],marker=\"x\",color=\"C1\", label=\"HV issues (West slot3)\")\n",
    "## RECOVERED FULLY\n",
    "_selRecov = data['pmt'].isin(recoChs)\n",
    "#plt.scatter(data[_selRecov]['pmt'],data[_selRecov]['q'],marker=\"x\",color=\"magenta\", label=\"Fully recovered\")\n",
    "# ON BUT NOT EQUALIZED\n",
    "_selNoeq = data['pmt'].isin(nochangeChs)\n",
    "plt.scatter(data[_selNoeq]['pmt'],data[_selNoeq]['q'],marker=\"x\",color=\"red\", label=\"Not equalized\")\n",
    "\n",
    "plt.axvline(x=90,color=\"magenta\",linestyle=\"dotted\")\n",
    "plt.axvline(x=180,color=\"magenta\",linestyle=\"dotted\")\n",
    "plt.axvline(x=270,color=\"magenta\",linestyle=\"dotted\")\n",
    "\n",
    "#plt.xlim((180,360))\n",
    "#plt.ylim((0.2,0.6))\n",
    "plt.xlabel(\"PMT channel ID\")\n",
    "plt.ylabel(\"Gains [10^7 electrons]\")\n",
    "plt.legend()\n",
    "plt.grid()\n",
    "plt.show()\n",
    "\n",
    "#plt.savefig(\"figs/run\"+str(run)+\"_scatter_all.png\", dpi=200)"
   ]
  },
  {
   "cell_type": "code",
   "execution_count": null,
   "id": "f7127a8b",
   "metadata": {},
   "outputs": [],
   "source": [
    "fig = plt.figure(dpi=150)\n",
    "\n",
    "plt.scatter(data[\"id\"],data[\"q\"],marker=\"o\")\n",
    "\n",
    "## latest equalization target\n",
    "plt.axhline(y=0.40, color=\"red\", linestyle='dotted')\n",
    "\n",
    "## KNOWN HV ISSUES\n",
    "_selDrift = data['pmt'].isin(newDriftChs)\n",
    "#plt.scatter(data[_selDrift][\"id\"],data[_selDrift][\"q\"],marker=\"x\",color=\"C1\", label=\"HV issues (West slot3)\")\n",
    "## RECOVERED FULLY\n",
    "_selRecov = data['pmt'].isin(recoChs)\n",
    "#plt.scatter(data[_selRecov]['id'],data[_selRecov]['q'],marker=\"x\",color=\"magenta\", label=\"Fully recovered\")\n",
    "# ON BUT NOT EQUALIZED\n",
    "_selNoeq = data['pmt'].isin(nochangeChs)\n",
    "plt.scatter(data[_selNoeq]['id'],data[_selNoeq]['q'],marker=\"x\",color=\"red\", label=\"Not equalized\")\n",
    "\n",
    "plt.axvline(x=90,color=\"magenta\",linestyle=\"dotted\")\n",
    "plt.axvline(x=180,color=\"magenta\",linestyle=\"dotted\")\n",
    "plt.axvline(x=270,color=\"magenta\",linestyle=\"dotted\")\n",
    "\n",
    "#plt.xlim((180,360))\n",
    "#plt.ylim((0.35,0.45))\n",
    "plt.xlabel(\"PMT ID\")\n",
    "plt.ylabel(\"Gains [10^7 electrons]\")\n",
    "plt.legend()\n",
    "plt.grid()\n",
    "plt.show()"
   ]
  },
  {
   "cell_type": "code",
   "execution_count": null,
   "id": "6d1f9ed0",
   "metadata": {},
   "outputs": [],
   "source": [
    "## PRINTING OUTLIERS\n",
    "reference = 0.39\n",
    "low_bound = reference - 0.01\n",
    "high_bound = reference + 0.01\n",
    "\n",
    "_selHigh = data.q>high_bound\n",
    "_selLow = data.q<low_bound\n",
    "\n",
    "\n",
    "#print(\"PMT channels above \"+ str(high_bound))\n",
    "#print( data[_selHigh][[\"pmt\",\"id\",\"q\"]] )\n",
    "\n",
    "print(\"PMT channels below \"+ str(low_bound))\n",
    "print( data[_selLow][[\"pmt\",\"id\",\"q\"]] )"
   ]
  },
  {
   "cell_type": "markdown",
   "id": "aa29e673",
   "metadata": {},
   "source": [
    "## Comparisons and random stuff"
   ]
  },
  {
   "cell_type": "code",
   "execution_count": null,
   "id": "630b80f5",
   "metadata": {
    "scrolled": false
   },
   "outputs": [],
   "source": [
    "file0 = srcpath + \"backgroundphotons_run11505_1706910209.csv\" #nominal\n",
    "file1 = srcpath + \"backgroundphotons_run11566_1707776993.csv\" #-50V\n",
    "file2 = srcpath + \"backgroundphotons_run11567_1707781418.csv\" #-30V\n",
    "file3 = srcpath + \"backgroundphotons_run11568_1707782812.csv\" #+30V\n",
    "file4 = srcpath + \"backgroundphotons_run11571_1707792247.csv\" #+50V\n",
    "\n",
    "remove = offPMTs2 + nochangePMTs\n",
    "\n",
    "#data_01 = getDataFrame(file01, remove, False)\n",
    "data_0 = getDataFrame(file0, remove, False)\n",
    "data_1 = getDataFrame(file1, remove, False)\n",
    "data_2 = getDataFrame(file2, remove, False)\n",
    "data_3 = getDataFrame(file3, remove, False)\n",
    "data_4 = getDataFrame(file4, remove, False)\n",
    "\n",
    "plt.figure(dpi=200)\n",
    "\n",
    "#man_data_01 = data_01[data_01['pmt'].isin(manualChs)]\n",
    "#man_data_0 = data_0[data_0['pmt'].isin(manualChs)]\n",
    "#plt.scatter(man_data_01['pmt'],man_data_01['q'],marker=\"s\", label=\"Start (10263)\")\n",
    "#plt.scatter(man_data_0['pmt'],man_data_0['q'],marker=\"s\", label=\"Start (10313)\")\n",
    "\n",
    "#plt.scatter(data_01['pmt'],data_01['q'],marker=\"s\", label=\"Start (10263)\")\n",
    "plt.scatter(data_0['id'],data_0['q'],marker=\"s\", label=\"Nominal (11505)\")\n",
    "plt.scatter(data_1['id'],data_1['q'],marker=\"s\", label=\"-50V (11566)\")\n",
    "plt.scatter(data_2['id'],data_2['q'],marker=\"s\", label=\"-30V (11567)\")\n",
    "plt.scatter(data_3['id'],data_3['q'],marker=\"s\", label=\"+30V (11568-11569)\")\n",
    "plt.scatter(data_4['id'],data_4['q'],marker=\"s\", label=\"+50V (11571)\")\n",
    "\n",
    "plt.axhline(y=0.4, color=\"red\", linestyle='dotted')\n",
    "plt.legend()\n",
    "plt.xlabel(\"PMT ID\")\n",
    "plt.ylabel(\"Gains [10^7 electrons]\")\n",
    "plt.grid()\n",
    "#plt.xlim((0, 180))\n",
    "#plt.savefig(\"equalization_runs.png\",dpi=100)"
   ]
  },
  {
   "cell_type": "code",
   "execution_count": null,
   "id": "4feee81b",
   "metadata": {},
   "outputs": [],
   "source": [
    "plt.figure(dpi=200)\n",
    "\n",
    "up=0.6\n",
    "low=0.25\n",
    "BINSIZE=0.002\n",
    "nbins = int((up-low)/BINSIZE)\n",
    "\n",
    "plt.hist(data_0['q'],range=(low,up), bins=nbins, histtype=\"step\", lw=2, label=\"Nominal (11505)\")\n",
    "plt.hist(data_1['q'],range=(low,up), bins=nbins, histtype=\"step\", lw=2, label=\"-50V (11566)\")\n",
    "plt.hist(data_2['q'],range=(low,up), bins=nbins, histtype=\"step\", lw=2, label=\"-30V (11567)\")\n",
    "plt.hist(data_3['q'],range=(low,up), bins=nbins, histtype=\"step\", lw=2, label=\"+30V (11568-11569)\")\n",
    "plt.hist(data_4['q'],range=(low,up), bins=nbins, histtype=\"step\", lw=2, label=\"+50V (11571)\")\n",
    "\n",
    "plt.axvline(x=0.4, color=\"red\", linestyle='dotted')\n",
    "plt.legend()\n",
    "plt.xlabel(\"Gain [10^7 electrons]\")\n",
    "plt.grid()\n",
    "#plt.xlim((0, 180))\n",
    "#plt.savefig(\"equalization_runs.png\",dpi=100)"
   ]
  },
  {
   "cell_type": "code",
   "execution_count": null,
   "id": "900c47b6",
   "metadata": {},
   "outputs": [],
   "source": [
    "file01 = srcpath + \"equalization_run10263_1691610710.csv\" #nominal \n",
    "file0 = srcpath + \"equalization_run10313_1692203859.csv\" #nominal \n",
    "\n",
    "remove = offPMTs + EASTonly\n",
    "\n",
    "data_01 = getDataFrame(file01, remove, False)\n",
    "data_0 = getDataFrame(file0, remove, False)\n",
    "\n",
    "#man_data_01 = data_01[data_01['pmt'].isin(manualChs)]\n",
    "#man_data_0 = data_0[data_0['pmt'].isin(manualChs)]\n",
    "#plt.scatter(man_data_01['pmt'],man_data_01['q'],marker=\"s\", label=\"Start (10263)\")\n",
    "#plt.scatter(man_data_0['pmt'],man_data_0['q'],marker=\"s\", label=\"Start (10313)\")\n",
    "\n",
    "plt.scatter(data_01['pmt'],data_01['q'],marker=\"s\", label=\"Start (10263)\")\n",
    "plt.scatter(data_0['pmt'],data_0['q'],marker=\"s\", label=\"Start (10313)\")\n",
    "\n",
    "plt.axhline(y=0.45, color=\"red\", linestyle='dotted')\n",
    "plt.legend()\n",
    "plt.xlabel(\"PMT channel ID\")\n",
    "plt.ylabel(\"Gains [10^7 electrons]\")\n",
    "plt.grid()\n",
    "plt.xlim((180.0, 359))\n",
    "plt.savefig(\"manual_fix_highG.png\",dpi=100)"
   ]
  },
  {
   "cell_type": "code",
   "execution_count": null,
   "id": "d92db729",
   "metadata": {},
   "outputs": [],
   "source": [
    "file1 = srcpath +\"backgroundphotons_run10040_1688176609.csv\"\n",
    "file2 = srcpath +\"backgroundphotons_run10058_1688566398.csv\"\n",
    "file3 = srcpath +\"newicaruscode_run10058_1688574998.csv\"\n",
    "file4 = srcpath +\"backgroundphotons_run10058_1688566368.csv\"\n",
    "\n",
    "data1 = getDataFrame(file1, offPMTs, False)\n",
    "data2 = getDataFrame(file2, offPMTs, False)\n",
    "data3 = getDataFrame(file3, offPMTs, False)\n",
    "data4 = getDataFrame(file4, offPMTs, False)"
   ]
  },
  {
   "cell_type": "code",
   "execution_count": null,
   "id": "27881693",
   "metadata": {},
   "outputs": [],
   "source": [
    "#plt.scatter(data1['pmt'],data1['q'],marker=\"o\", label=\"10040 - new \")\n",
    "plt.scatter(data2['pmt'],data2['q'],marker=\"o\", label=\"10040 - old\")\n",
    "plt.scatter(data3['pmt'],data3['q'],marker=\"o\", alpha=0.5, label=\"10058\")\n",
    "plt.scatter(data4['pmt'],data3['q'],marker=\"o\", alpha=0.5, label=\"10097\")\n",
    "\n",
    "plt.axhline(y=0.45, color=\"red\", linestyle='dotted')\n",
    "plt.legend()\n",
    "plt.xlabel(\"PMT channel ID\")\n",
    "plt.ylabel(\"Gains [10^7 electrons]\")\n",
    "plt.grid()\n",
    "plt.xlim((0.0, 359))\n",
    "plt.ylim((0.3, 0.5))"
   ]
  },
  {
   "cell_type": "code",
   "execution_count": null,
   "id": "14100f06",
   "metadata": {},
   "outputs": [],
   "source": [
    "#fitOutput1  = fitGainsDistribution( data1, BINSIZE=0.005,RMIN=0.0,RMAX=1.0, p0=(0.4, 0.04) )\n",
    "fitOutput2  = fitGainsDistribution( data2, BINSIZE=0.005,RMIN=0.0,RMAX=1.0, p0=(0.4, 0.04) )\n",
    "fitOutput3  = fitGainsDistribution( data3, BINSIZE=0.005,RMIN=0.0,RMAX=1.0, p0=(0.4, 0.04) )\n",
    "fitOutput4  = fitGainsDistribution( data4, BINSIZE=0.005,RMIN=0.0,RMAX=1.0, p0=(0.4, 0.04) )\n",
    "\n",
    "fig = plt.figure(figsize=(10, 5))\n",
    "plt.xlim((0.3, 0.6))\n",
    "#plt = makeplot(timestamp, figpath+\"gain_1hist_\"+str(run)+\".pdf\", *fitOutput1 )\n",
    "plt = makeplot(timestamp, figpath+\"gain_2hist_\"+str(run)+\".pdf\", *fitOutput2 )\n",
    "plt = makeplot(timestamp, figpath+\"gain_3hist_\"+str(run)+\".pdf\", *fitOutput3 )\n",
    "plt = makeplot(timestamp, figpath+\"gain_4hist_\"+str(run)+\".pdf\", *fitOutput4 )\n",
    "\n",
    "plt.savefig(\"runs_diff_files.png\", dpi=900)"
   ]
  },
  {
   "cell_type": "markdown",
   "id": "800aa963",
   "metadata": {},
   "source": [
    "### Scan for recovered PMTs"
   ]
  },
  {
   "cell_type": "code",
   "execution_count": null,
   "id": "6ca2696d",
   "metadata": {},
   "outputs": [],
   "source": [
    "files = [ \"backgroundphotons_run11246_1702593081.csv\", \"backgroundphotons_run11258_1702673047.csv\",\n",
    "          \"backgroundphotons_run11260_1702678720.csv\", \"backgroundphotons_run11262_1702685886.csv\",\n",
    "          \"backgroundphotons_run11265_1702694286.csv\" ] "
   ]
  },
  {
   "cell_type": "code",
   "execution_count": null,
   "id": "e0d0a865",
   "metadata": {},
   "outputs": [],
   "source": [
    "fig = plt.figure(figsize=(8,5),dpi=100)\n",
    "\n",
    "for f in files:\n",
    "    \n",
    "    filename = srcpath + f\n",
    "    runnum = filename.split(\"_\")[1]\n",
    "    df = pd.read_csv(filename)\n",
    "\n",
    "    _sel = df.pmt.isin(recoChs)\n",
    "\n",
    "    plt.scatter(df[_sel].pmt,df[_sel].q,marker=\"o\",label=runnum)\n",
    "\n",
    "plt.xlabel(\"PMT channel ID\")\n",
    "plt.ylabel(\"Gains [10^7 electrons]\")\n",
    "plt.legend()\n",
    "plt.grid()"
   ]
  },
  {
   "cell_type": "markdown",
   "id": "80cbe9c0",
   "metadata": {},
   "source": [
    "## Compare old-new code"
   ]
  },
  {
   "cell_type": "code",
   "execution_count": null,
   "id": "e9bdc8a7",
   "metadata": {},
   "outputs": [],
   "source": [
    "fileold = \"/exp/icarus/data/users/mvicenzi/pmt-calibration/calibrationdb/backgroundphotons_run11590_1708018817.csv\"\n",
    "#filenew1 = \"/exp/icarus/data/users/mvicenzi/pmt-calibration/test/csvs/backgroundphotons_run11590_1708021616.csv\"\n",
    "filenew2 = \"/exp/icarus/data/users/mvicenzi/pmt-calibration/test/backgroundphotons_run11590_1708021616.csv\"\n",
    "\n",
    "fileold2 = \"/exp/icarus/data/users/mvicenzi/pmt-calibration/old_calibrationdb/backgroundphotons_run9342_1672496767.csv\"\n",
    "filenew3 = \"/exp/icarus/data/users/mvicenzi/pmt-calibration/test/backgroundphotons_run9342_1672516694.csv\"\n",
    "#filenew5 = \"/exp/icarus/data/users/mvicenzi/pmt-calibration/test/T0.5/tstart0.1_f2_n2/backgroundphotons_run11590_1708022816.csv\"\n",
    "#filenew6 = \"/exp/icarus/data/users/mvicenzi/pmt-calibration/test/noT/tstart0.1_f2_n2/backgroundphotons_run11590_1708022817.csv\""
   ]
  },
  {
   "cell_type": "code",
   "execution_count": null,
   "id": "3eab68e7",
   "metadata": {},
   "outputs": [],
   "source": [
    "dataold = getDataFrame(fileold, offPMTs2, False)\n",
    "#datanew1 = getDataFrame(filenew1, offPMTs2, False)\n",
    "datanew2 = getDataFrame(filenew2, offPMTs2, False)\n",
    "\n",
    "dataold2 = getDataFrame(fileold2, offPMTs, False)\n",
    "datanew3 = getDataFrame(filenew3, offPMTs, False)\n",
    "#datanew6 = getDataFrame(filenew6, offPMTs2, False)"
   ]
  },
  {
   "cell_type": "code",
   "execution_count": null,
   "id": "3254900d",
   "metadata": {},
   "outputs": [],
   "source": [
    "fig = plt.figure(dpi=200)\n",
    "#plt.scatter(dataold['pmt'],dataold['q'],marker=\"o\", alpha=0.5, label=\"11590 - Old fitting\")\n",
    "#plt.scatter(datanew1['pmt'],datanew1['q'],marker=\"o\", alpha=0.5, label=\"11590 - NEW\")\n",
    "#plt.scatter(datanew2['pmt'],datanew2['q'],marker=\"o\", alpha=0.7, label=\"11590 - New fitting\")\n",
    "plt.scatter(dataold2['pmt'],dataold2['q'],marker=\"o\", label=\"9342 - Old fitting\")\n",
    "plt.scatter(datanew3['pmt'],datanew3['q'],marker=\"o\", alpha=0.5, label=\"9342 - New fitting\")\n",
    "#plt.scatter(datanew5['pmt'],datanew5['q'],marker=\"o\", alpha=0.5, label=\"11590 - T0.5, r=0.1, n=2\")\n",
    "#plt.scatter(datanew6['pmt'],datanew6['q'],marker=\"o\", alpha=0.5, label=\"11590 - noT, 0.1, n=2\")\n",
    "\n",
    "plt.axvline(x=90,color=\"black\",linestyle=\"dashed\")\n",
    "plt.axvline(x=180,color=\"black\",linestyle=\"dashed\")\n",
    "plt.axvline(x=270,color=\"black\",linestyle=\"dashed\")\n",
    "\n",
    "plt.axhline(y=0.40, color=\"red\", linestyle='')\n",
    "plt.legend()\n",
    "plt.xlabel(\"PMT channel ID\")\n",
    "plt.ylabel(\"Gains [10^7 electrons]\")\n",
    "plt.grid()\n",
    "plt.xlim((0.0, 359))\n",
    "#plt.ylim((0.35, 0.45))\n",
    "plt.show()"
   ]
  },
  {
   "cell_type": "code",
   "execution_count": null,
   "id": "b8db2cc6",
   "metadata": {},
   "outputs": [],
   "source": [
    "fig = plt.figure(dpi=200)\n",
    "\n",
    "#fitOutputold  = fitGainsDistribution( dataold, BINSIZE=0.005,RMIN=0.0,RMAX=1.0, p0=(0.4, 0.04) )\n",
    "#timestampold=getTimestamp(fileold)\n",
    "#fitOutputnew  = fitGainsDistribution( datanew2, BINSIZE=0.005,RMIN=0.0,RMAX=1.0, p0=(0.4, 0.04) )\n",
    "#timestampnew=getTimestamp(filenew2)\n",
    "fitOutputold  = fitGainsDistribution( dataold2, BINSIZE=0.005,RMIN=0.0,RMAX=1.0, p0=(0.4, 0.04) )\n",
    "timestampold=getTimestamp(fileold2)\n",
    "fitOutputnew  = fitGainsDistribution( datanew3, BINSIZE=0.005,RMIN=0.0,RMAX=1.0, p0=(0.4, 0.04) )\n",
    "timestampnew=getTimestamp(filenew3)\n",
    "\n",
    "\n",
    "plt = makeplot(timestampold, figpath+\"test.pdf\", *fitOutputold )\n",
    "plt = makeplot(timestampnew, figpath+\"test.pdf\", *fitOutputnew )\n",
    "\n",
    "plt.xlim((0.2, 0.6))\n",
    "\n",
    "plt.show()"
   ]
  },
  {
   "cell_type": "code",
   "execution_count": null,
   "id": "4600aa13",
   "metadata": {},
   "outputs": [],
   "source": []
  },
  {
   "cell_type": "code",
   "execution_count": null,
   "id": "d2c4829a",
   "metadata": {},
   "outputs": [],
   "source": []
  },
  {
   "cell_type": "code",
   "execution_count": null,
   "id": "bf6e0ac4",
   "metadata": {},
   "outputs": [],
   "source": []
  }
 ],
 "metadata": {
  "kernelspec": {
   "display_name": "Python 3 (ipykernel)",
   "language": "python",
   "name": "python3"
  },
  "language_info": {
   "codemirror_mode": {
    "name": "ipython",
    "version": 3
   },
   "file_extension": ".py",
   "mimetype": "text/x-python",
   "name": "python",
   "nbconvert_exporter": "python",
   "pygments_lexer": "ipython3",
   "version": "3.9.13"
  }
 },
 "nbformat": 4,
 "nbformat_minor": 5
}
