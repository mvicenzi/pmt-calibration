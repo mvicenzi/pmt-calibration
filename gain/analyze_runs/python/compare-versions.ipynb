{
 "cells": [
  {
   "cell_type": "code",
   "execution_count": null,
   "id": "regulated-reach",
   "metadata": {},
   "outputs": [],
   "source": [
    "from helpers import *\n",
    "from gaussfit import *\n",
    "\n",
    "from pylab import rcParams\n",
    "rcParams['figure.figsize'] = 8, 5"
   ]
  },
  {
   "cell_type": "markdown",
   "id": "813b5322",
   "metadata": {},
   "source": [
    "## Configuration"
   ]
  },
  {
   "cell_type": "code",
   "execution_count": null,
   "id": "a228c15a",
   "metadata": {},
   "outputs": [],
   "source": [
    "# list of PMTs at 0 voltage form HV files + disconnected pmts: 290\n",
    "offPMTs = [1, 111, 143, 166, 192, 230, 238, 254, 222, 302, 309, 340, 353, 290 ]\n",
    "offChs = PMTid_to_channel(offPMTs)"
   ]
  },
  {
   "cell_type": "code",
   "execution_count": null,
   "id": "469599e3",
   "metadata": {},
   "outputs": [],
   "source": [
    "srcpath = \"/exp/icarus/data/users/mvicenzi/pmt-calibration/calibrationdb/\"\n",
    "histpath = \"/exp/icarus/data/users/mvicenzi/pmt-calibration/quick/\"\n",
    "figpath = \"/exp/icarus/data/users/mvicenzi/pmt-calibration/figs/\""
   ]
  },
  {
   "cell_type": "code",
   "execution_count": null,
   "id": "e499a89d",
   "metadata": {},
   "outputs": [],
   "source": [
    "def compare(file_old, file_new):\n",
    "    file = srcpath + file_old \n",
    "    filen = srcpath + file_new\n",
    "\n",
    "    run=getRun(file)\n",
    "    data = getDataFrame(file, offPMTs, False)\n",
    "    datan = getDataFrame(filen, offPMTs, False)\n",
    "    \n",
    "    plt.scatter(data[\"pmt\"],data[\"q\"],marker=\"o\",label=\"{} - v09_67_00\".format(run))\n",
    "    plt.scatter(datan[\"pmt\"],datan[\"q\"],marker=\".\",color=\"red\",label=\"{} - v09_77_00\".format(run))\n",
    "    plt.ylim((0.1,0.9))\n",
    "    plt.xlabel(\"PMT channel ID\")\n",
    "    plt.ylabel(\"Gains [10^7 electrons]\")\n",
    "    plt.legend()\n",
    "    plt.grid()\n",
    "    plt.show()\n",
    "    \n",
    "    binsize=0.005\n",
    "    b=int(0.9/binsize)\n",
    "    plt.hist( data[\"q\"], histtype=\"step\", bins=b,range=(0.0,1.0),lw=2, label=\"{} - v09_67_00\".format(run))\n",
    "    plt.hist( datan[\"q\"], histtype=\"step\",lw=2, bins=b,range=(0.0,1.0), label=\"{} - v09_77_00\".format(run))\n",
    "    plt.xlim((0.1, 1.0))\n",
    "    plt.ylabel(\"# PMTs\")\n",
    "    plt.xlabel(\"Gains [10^7 electrons]\")\n",
    "    plt.legend()\n",
    "    plt.grid()\n",
    "    plt.show()\n",
    "    \n",
    "    ## difference \n",
    "    df = data.join( datan, on=[\"pmt\"], how=\"inner\", rsuffix=\"_77\")\n",
    "    \n",
    "    plt.scatter(df[\"pmt\"],df['q']-df['q_77'],marker=\"o\")\n",
    "    plt.xlabel(\"PMT channel ID\")\n",
    "    plt.ylabel(\"G$_{v09.67.00}$ - G$_{v09.77.00}$ [10^7 electrons]\")\n",
    "    plt.ylim((-0.04,0.04))\n",
    "    plt.grid()\n",
    "    plt.show()\n",
    "    \n",
    "    plt.hist( df['q']-df['q_77'], histtype=\"step\", bins=100,range=(-0.04,0.04),lw=2, label=\"All\")\n",
    "    plt.hist( df[df.pmt<180]['q']-df[df.pmt<180]['q_77'], histtype=\"step\",lw=2, bins=100,range=(-0.04,0.04), label=\"East only\")\n",
    "    plt.hist( df[df.pmt>=180]['q']-df[df.pmt>=180]['q_77'], histtype=\"step\",lw=2, bins=100,range=(-0.04,0.04), label=\"West only\")\n",
    "    plt.xlabel(\"G$_{v09.67.00}$ - G$_{v09.77.00}$ [10^7 electrons]\")\n",
    "    plt.ylabel(\"# PMTs\")\n",
    "    plt.legend()\n",
    "    plt.grid()\n",
    "    plt.show()\n",
    "    \n",
    "    plt.hist( (df['q']-df['q_77'])/df['q']*100, lw=2, histtype=\"step\", bins=100, range=(-5,5), label=\"All\")\n",
    "    plt.hist( (df[df.pmt<180]['q']-df[df.pmt<180]['q_77'])/df[df.pmt<180]['q']*100, lw=2, histtype=\"step\", bins=100, range=(-5,5), label=\"East only\")\n",
    "    plt.hist( (df[df.pmt>=180]['q']-df[df.pmt>=180]['q_77'])/df[df.pmt>=180]['q']*100, lw=2, histtype=\"step\", bins=100, range=(-5,5), label=\"West only\")\n",
    "    plt.xlabel(\"(G$_{v09.67.00}$ - G$_{v09.77.00}$)/G$_{v09.67.00}$ [%]\")\n",
    "    plt.ylabel(\"# PMTs\")\n",
    "    plt.legend()\n",
    "    plt.grid()\n",
    "    plt.show()\n",
    "    "
   ]
  },
  {
   "cell_type": "markdown",
   "id": "be956d0b",
   "metadata": {},
   "source": [
    "## Run 10040"
   ]
  },
  {
   "cell_type": "code",
   "execution_count": null,
   "id": "061a4530",
   "metadata": {},
   "outputs": [],
   "source": [
    "file1 = \"backgroundphotons_run10040_1688176609.csv\" \n",
    "file2 = \"test_v09_77_00_run10040_1688173090.csv\"\n",
    "\n",
    "compare(file1,file2)"
   ]
  },
  {
   "cell_type": "markdown",
   "id": "ee2347af",
   "metadata": {},
   "source": [
    "## Run 10339"
   ]
  },
  {
   "cell_type": "code",
   "execution_count": null,
   "id": "capital-memphis",
   "metadata": {
    "scrolled": true
   },
   "outputs": [],
   "source": [
    "file1 = \"test_v09_67_00_run10339_1692403161.csv\" \n",
    "file2 = \"test_v09_77_00_run10339_1692402872.csv\"\n",
    "\n",
    "compare(file1,file2)"
   ]
  },
  {
   "cell_type": "markdown",
   "id": "c8e1d512",
   "metadata": {},
   "source": [
    "## Run 10336"
   ]
  },
  {
   "cell_type": "code",
   "execution_count": null,
   "id": "af5ad85c",
   "metadata": {},
   "outputs": [],
   "source": [
    "file1 = \"equalization_run10336_1692384276.csv\" \n",
    "file2 = \"test_v09_77_00_run10336_1692384951.csv\"\n",
    "\n",
    "compare(file1,file2)"
   ]
  },
  {
   "cell_type": "markdown",
   "id": "e254d45f",
   "metadata": {},
   "source": [
    "# COMPARE SINGLE CHANNELS"
   ]
  },
  {
   "cell_type": "code",
   "execution_count": null,
   "id": "d3287270",
   "metadata": {},
   "outputs": [],
   "source": [
    "import ROOT as r\n",
    "from matplotlib.backends import backend_pdf"
   ]
  },
  {
   "cell_type": "code",
   "execution_count": null,
   "id": "04686fb1",
   "metadata": {},
   "outputs": [],
   "source": [
    "def get_bins_edges(bin_centers):\n",
    "\n",
    "    bin_edges = []\n",
    "    bin_edges.append(0.0) #first bin left edge\n",
    "\n",
    "    for i in range(len(bin_centers)):\n",
    "        length = 0\n",
    "        if i == (len(bin_centers)-1):\n",
    "            length = bin_centers[i]-bin_centers[i-1]\n",
    "        else:\n",
    "            length = bin_centers[i+1]-bin_centers[i]\n",
    "        bin_edges.append(bin_centers[i]+length/2.)\n",
    "\n",
    "    #print(bin_edges)\n",
    "    return bin_edges\n",
    "\n",
    "def get_histo_things(hcharge, max, min):\n",
    "    \n",
    "    binned_events = []\n",
    "    bin_centers = []\n",
    "    for i in range(1,hcharge.GetNbinsX()+1):\n",
    "        binned_events.append(hcharge.GetBinContent(i))\n",
    "        bin_centers.append(hcharge.GetXaxis().GetBinCenter(i))\n",
    "    bin_edges = get_bins_edges(bin_centers)\n",
    "    \n",
    "    fbin_centers = [x for x in bin_centers if x < max]\n",
    "    fbin_edges = [x for x in bin_edges if x < max]\n",
    "    length = len(fbin_centers)\n",
    "    fbinned_events = binned_events[:length]\n",
    "    \n",
    "    return fbin_centers, fbin_edges, fbinned_events\n",
    "\n",
    "def plot_all(pdf, filepath1, filepath2):\n",
    "    file1 = r.TFile(filepath1,\"READ\")\n",
    "    file2 = r.TFile(filepath2,\"READ\")\n",
    "    \n",
    "    dir1 = file1.Get(\"bkgcalibration\")\n",
    "    dir2 = file2.Get(\"bkgcalibration\")\n",
    "\n",
    "    for ch in range(0,360):\n",
    "        \n",
    "        hname = \"hintegral\"+str(ch)\n",
    "        hamp = \"hamplitude\"+str(ch)\n",
    "\n",
    "        hch1 = dir1.Get(hname)\n",
    "        hch2 = dir2.Get(hname)\n",
    "        hamp1 = dir1.Get(hamp)\n",
    "        hamp2 = dir2.Get(hamp)\n",
    "        \n",
    "        ma = 2.0\n",
    "        mi = 0.3\n",
    "        c1, e1, w1 = get_histo_things(hch1,ma,mi)\n",
    "        c2, e2, w2 = get_histo_things(hch2,ma,mi)\n",
    "        \n",
    "        ma = 10.0\n",
    "        mi = 0.0\n",
    "        a1, ea1, wa1 = get_histo_things(hamp1,ma,mi)\n",
    "        a2, ea2, wa2 = get_histo_things(hamp2,ma,mi)\n",
    "        \n",
    "        fig, ax = plt.subplots(1,2,figsize=(12, 4))\n",
    "        ax[0].hist(c1, bins=e1, weights=w1, histtype=\"step\", label=\"Ch {} - v09_67_00\\nEntries: {}\".format(ch, int(hch1.GetEntries())), lw=1.5)\n",
    "        ax[0].hist(c2, bins=e2, weights=w2, histtype=\"step\", label=\"Ch {} - v09_77_00\\nEntries: {}\".format(ch, int(hch2.GetEntries())), lw=1.5)\n",
    "        \n",
    "        ax[0].grid(color='0.95')\n",
    "        ax[0].set_xlabel(r'Pulse charge [$10^7$ electrons]')\n",
    "        ax[0].set_ylabel(\"# events\")\n",
    "        ax[0].margins(x=0.00)\n",
    "        ax[0].legend()\n",
    "    \n",
    "        ax[1].hist(a1, bins=ea1, weights=wa1, histtype=\"step\", label=\"Ch {} - v09_67_00\\nEntries: {}\".format(ch, int(hamp1.GetEntries())), lw=1.5)\n",
    "        ax[1].hist(a2, bins=ea2, weights=wa2, histtype=\"step\", label=\"Ch {} - v09_77_00\\nEntries: {}\".format(ch, int(hamp2.GetEntries())), lw=1.5)\n",
    "        \n",
    "        ax[1].grid(color='0.95')\n",
    "        ax[1].set_xlabel(r'Amplitude [mV]')\n",
    "        ax[1].set_ylabel(\"# events\")\n",
    "        ax[1].margins(x=0.00)\n",
    "        ax[1].legend()\n",
    "    \n",
    "        pdf.savefig( fig )\n",
    "        plt.close()\n",
    "    return pdf"
   ]
  },
  {
   "cell_type": "code",
   "execution_count": null,
   "id": "2adbdcc0",
   "metadata": {},
   "outputs": [],
   "source": [
    "filepath1 = \"/exp/icarus/data/users/mvicenzi/pmt-calibration/histograms/pulseDistributionHist_run10040.root\"\n",
    "filepath2 = \"/exp/icarus/data/users/mvicenzi/pmt-calibration/histograms/pulseDistributionHist_run10040_v09_77_00.root\"\n",
    "\n",
    "#filepath1 = \"/exp/icarus/data/users/mvicenzi/pmt-calibration/histograms/pulseDistributionHist_run10339_v09_67_00.root\"\n",
    "#filepath2 = \"/exp/icarus/data/users/mvicenzi/pmt-calibration/histograms/pulseDistributionHist_run10339_v09_77_00.root\"\n",
    "\n",
    "pdf = backend_pdf.PdfPages(\"pulse_charge_10040.pdf\")\n",
    "plot_all(pdf,filepath1,filepath2)\n",
    "pdf.close()"
   ]
  },
  {
   "cell_type": "code",
   "execution_count": null,
   "id": "159199de",
   "metadata": {},
   "outputs": [],
   "source": []
  }
 ],
 "metadata": {
  "kernelspec": {
   "display_name": "Python 3 (ipykernel)",
   "language": "python",
   "name": "python3"
  },
  "language_info": {
   "codemirror_mode": {
    "name": "ipython",
    "version": 3
   },
   "file_extension": ".py",
   "mimetype": "text/x-python",
   "name": "python",
   "nbconvert_exporter": "python",
   "pygments_lexer": "ipython3",
   "version": "3.9.2"
  }
 },
 "nbformat": 4,
 "nbformat_minor": 5
}
