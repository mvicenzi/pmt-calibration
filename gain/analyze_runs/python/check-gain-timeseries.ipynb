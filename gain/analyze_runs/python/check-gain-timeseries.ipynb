{
 "cells": [
  {
   "cell_type": "code",
   "execution_count": null,
   "id": "0940d693-c44e-421f-857b-c708e7a0614a",
   "metadata": {
    "scrolled": true
   },
   "outputs": [],
   "source": [
    "import numpy as np\n",
    "import pandas as pd\n",
    "import sqlite3\n",
    "import os\n",
    "\n",
    "import matplotlib.pyplot as plt\n",
    "from matplotlib.dates import DateFormatter\n",
    "\n",
    "from gaussfit import *"
   ]
  },
  {
   "cell_type": "markdown",
   "id": "bffd9986",
   "metadata": {},
   "source": [
    "## Functions for channel mapping"
   ]
  },
  {
   "cell_type": "code",
   "execution_count": null,
   "id": "c4a37409",
   "metadata": {},
   "outputs": [],
   "source": [
    "def readSqlitedb(database=\"/cvmfs/icarus.opensciencegrid.org/products/icarus/icarus_data/v09_83_01/icarus_data/database/ChannelMapICARUS_20230829.db\", table=\"pmt_placements_29aug2023\"):\n",
    "\n",
    "    # Read sqlite query results into a pandas DataFrame\n",
    "    con = sqlite3.connect(database)\n",
    "    df = pd.read_sql_query(\"SELECT * from {}\".format(table), con)\n",
    "    con.close()\n",
    "\n",
    "    return df\n",
    "\n",
    "def channel_to_PMTid(channels):\n",
    "    \n",
    "    geo = readSqlitedb()\n",
    "    if np.isscalar(channels):\n",
    "        pmt_id = geo[geo.channel_id==channels].pmt_id.values[0]\n",
    "        return pmt_id\n",
    "    else:\n",
    "        pmt_ids = [ geo[geo.channel_id==ch].pmt_id.values[0] for ch in channels ] \n",
    "        return pmt_ids\n",
    "    \n",
    "def PMTid_to_channel(pmt_ids):\n",
    "    \n",
    "    geo = readSqlitedb()\n",
    "    if np.isscalar(pmt_ids):\n",
    "        channel = geo[geo.pmt_id==pmt_ids].channel_id.values[0]\n",
    "        return channel\n",
    "    else:\n",
    "        channels = [ geo[geo.pmt_id==pmt].channel_id.values[0] for pmt in pmt_ids ] \n",
    "        return channels\n",
    "    \n",
    "def getCryo(channel):\n",
    "    \n",
    "    geo = readSqlitedb()\n",
    "    board = geo[geo.channel_id==channel].digitizer_label.values[0]\n",
    "    wall, pos, num = board.split(\"-\")\n",
    "    if wall[0] == \"W\":\n",
    "        return 1\n",
    "    elif wall[0] == \"E\":\n",
    "        return 0\n",
    "    \n",
    "def getWall(channel):\n",
    "    \n",
    "    geo = readSqlitedb()\n",
    "    wall = geo[geo.channel_id==channel].pmt_in_tpc_plane.values[0]\n",
    "    return wall\n",
    "    \n",
    "def readPlacements(file=\"/exp/icarus/data/users/mvicenzi/pmt-calibration/input/pmt_positions.csv\"):\n",
    "    geo = pd.read_csv(file,sep=\",\")\n",
    "    geo.drop(columns=[\"entry\",\"subentry\"],inplace=True)\n",
    "    return geo\n",
    "\n",
    "def getX(ch):\n",
    "    geo = readPlacements()\n",
    "    return geo[\"pmt_x\"].iloc[ch]\n",
    "\n",
    "def getY(ch):\n",
    "    geo = readPlacements()\n",
    "    return geo[\"pmt_y\"].iloc[ch]\n",
    "\n",
    "def getZ(ch):\n",
    "    geo = readPlacements()\n",
    "    return geo[\"pmt_z\"].iloc[ch]"
   ]
  },
  {
   "cell_type": "code",
   "execution_count": null,
   "id": "1babd29d",
   "metadata": {},
   "outputs": [],
   "source": [
    "from scipy.optimize import curve_fit\n",
    "\n",
    "def line(x, a, b ):\n",
    "    return a*x+b"
   ]
  },
  {
   "cell_type": "markdown",
   "id": "30ed68da",
   "metadata": {},
   "source": [
    "## Functions for data loading"
   ]
  },
  {
   "cell_type": "code",
   "execution_count": null,
   "id": "ce73bcd5",
   "metadata": {},
   "outputs": [],
   "source": [
    "# Get the timestamp\n",
    "def getTimestamp(file):\n",
    "    \n",
    "    buff=file.split('_')\n",
    "    timestamp = int(buff[-1].split('.')[0])\n",
    "    \n",
    "    return timestamp\n",
    "    \n",
    "# Get run number\n",
    "def getRun(file):\n",
    "\n",
    "    buff=file.split('_')\n",
    "    run = int(buff[-2].lstrip(\"run\"))\n",
    "\n",
    "    return run\n",
    "\n",
    "############################### DATA IMPORTER FUNCTIONS ###############################\n",
    "\n",
    "# Load a single file\n",
    "def getDataFrame(file, offchs, timeseries=True, run=True):\n",
    "   \n",
    "    df=pd.read_csv(file, sep=',')\n",
    "    \n",
    "    # remove list of PMTs that are off\n",
    "    df= df[~df['pmt'].isin(offchs)]\n",
    "    \n",
    "    if timeseries:\n",
    "        df[\"timestamp\"] = getTimestamp(file)\n",
    "        df['date'] = pd.to_datetime(df['timestamp'], unit='s')\n",
    "        df.set_index(\"timestamp\", inplace=True)\n",
    "        \n",
    "    if run:\n",
    "        df[\"run\"] = getRun(file)\n",
    "    \n",
    "    return df\n",
    "    \n",
    "def dataLoader( offchPMTs, sourcedir = \"../calibrationdb/\", interval=(1610067905, 1637788392)):\n",
    "        \n",
    "    print(\"Import data in folder{} for interval ({}:{})\".format(sourcedir, interval[0], interval[1]))\n",
    "    \n",
    "    # Load the data from the fit database\n",
    "    data = pd.concat([ getDataFrame(sourcedir+file, offchPMTs) for file in  os.listdir(sourcedir) if \"backgroundphotons\" in file ])\n",
    "    # keep data only for the selected interval\n",
    "    _sel = (data.index>=interval[0]) & (data.index<interval[1])\n",
    "    # Sort the indeces by time\n",
    "    data = data[_sel].sort_index()\n",
    "    \n",
    "    return data\n",
    "\n",
    "###############################\n",
    "\n",
    "def fitGains(x):\n",
    "    BINSIZE=0.005; RMIN=0.0; RMAX=1.0; p0=(0.4, 0.01);\n",
    "    nbins=int((RMAX-RMIN)/BINSIZE)\n",
    "    ys,edges = np.histogram(x,bins=nbins,range=(RMIN,RMAX))\n",
    "    xs=np.array([edges[i]+0.5*(edges[i+1]-edges[i]) for i in range(len(ys))])\n",
    "\n",
    "    param = [np.max(ys), p0[0], p0[1] ]\n",
    "    bounds = np.array([(param[0]*0.5,param[0]*1.5),\n",
    "              (param[1]*0.2,param[1]*1.3),\n",
    "              (param[2]*0.1,param[2]*1.4)])\n",
    "    \n",
    "    param,pcov = curve_fit(gaus, xs, ys, p0=param, bounds=(bounds[:,0],bounds[:,1]) )\n",
    "    eparam = np.diag(pcov)**0.5\n",
    "    equal, eEqual = getEqualization( param[1], param[2], param[2], eparam[2] )\n",
    "    \n",
    "    return param[1], param[2], equal, eEqual # returns mean_q, sigma, equal, eEqual"
   ]
  },
  {
   "cell_type": "markdown",
   "id": "8383e420",
   "metadata": {},
   "source": [
    "# Getting data for plotting"
   ]
  },
  {
   "cell_type": "code",
   "execution_count": null,
   "id": "b8a26411",
   "metadata": {},
   "outputs": [],
   "source": [
    "# Define source parameters \n",
    "sdir   = \"/exp/icarus/data/users/mvicenzi/pmt-calibration/calibrationdb/\"\n",
    "\n",
    "trange = (1707879481, 1724122681)\n",
    "# Import data between December 2022 and December 2023\n",
    "#trange = (1671100000, 1702598400)\n",
    "# Import data between August 2021 and November 2021\n",
    "# trange = (1627585983, 1636156757) # for pre-OB loss\n",
    "# Import all available historical data\n",
    "# trange = (1610067904,1702598400)\n",
    "\n",
    "offPMTs = [1, 111, 143, 166, 192, 230, 238, 254, 222, 302, 309, 340, 353, 290 ]\n",
    "offPMTs2 = [143, 254, 290 ]\n",
    "\n",
    "offchs = PMTid_to_channel(offPMTs2)\n",
    "\n",
    "data = dataLoader( offchs, sdir, interval= trange)"
   ]
  },
  {
   "cell_type": "code",
   "execution_count": null,
   "id": "72f89501",
   "metadata": {},
   "outputs": [],
   "source": [
    "# drop unneeded colums\n",
    "data.drop(columns=['chi2', 'fitstatus','ndf','amplitude','eamplitude','sigma','esigma','mu','emu'], inplace=True)\n",
    "data.reset_index(inplace=True)\n",
    "data[\"cryo\"] = data.pmt.apply(lambda x: getCryo(x))\n",
    "data[\"wall\"] = data.pmt.apply(lambda x: getWall(x))\n",
    "\n",
    "dplot = data.groupby([\"timestamp\",\"date\",\"run\"]).agg(list).reset_index()\n",
    "dplot[[\"mean_fit_q\",\"fit_sigma\",\"equal\",\"eEqual\"]] = dplot.apply(lambda x: fitGains(x[\"q\"]), axis=1, result_type='expand')"
   ]
  },
  {
   "cell_type": "code",
   "execution_count": null,
   "id": "7a8908c8",
   "metadata": {},
   "outputs": [],
   "source": [
    "dplot.head(10)"
   ]
  },
  {
   "cell_type": "markdown",
   "id": "652b0e0c",
   "metadata": {},
   "source": [
    "## Mean gain over time"
   ]
  },
  {
   "cell_type": "code",
   "execution_count": null,
   "id": "6176900a",
   "metadata": {},
   "outputs": [],
   "source": [
    "fig = plt.figure(figsize=(10, 4.8),dpi=150)\n",
    "\n",
    "# total gain loss\n",
    "qstart = dplot.loc[dplot['timestamp'].idxmin(), 'mean_fit_q']\n",
    "qend = dplot.loc[dplot['timestamp'].idxmax(), 'mean_fit_q']\n",
    "diff = qend-qstart\n",
    "perc = diff/qstart*100\n",
    "\n",
    "param,pcov = curve_fit(line, xdata=dplot.timestamp.to_numpy(), ydata=dplot.mean_fit_q.to_numpy(), sigma=dplot.fit_sigma.to_numpy())\n",
    "ys = line(dplot.timestamp.to_numpy(),param[0],param[1])\n",
    "\n",
    "month_in_s = 30*24*60*60\n",
    "day_in_s = 24*60*60\n",
    "month_loss = param[0]*month_in_s/qstart*100\n",
    "day_loss = param[0]*day_in_s/qstart*100\n",
    "print(\"Monthly loss: {:.4f}%\".format(month_loss))\n",
    "print(\"Daily loss: {:.4f}%\".format(day_loss))\n",
    "\n",
    "plt.plot( dplot.date.to_numpy(), ys, color=\"red\", lw=2, label=\"Linear fit:\\n$-${:.2f}%/month\".format(-1*month_loss))\n",
    "plt.errorbar( x=dplot.date, y=dplot.mean_fit_q, yerr=dplot.fit_sigma, fmt='o',label=\"Mean PMT gain\\nTotal loss: {:.2f}%\".format(perc))\n",
    "\n",
    "for i,r in enumerate(dplot.run.to_numpy()):\n",
    "    plt.annotate( str(r), xy=(dplot.date.to_numpy()[i],dplot.mean_fit_q.to_numpy()[i]),textcoords=\"offset points\", xytext=(0,22), ha='center')\n",
    "\n",
    "plt.ylim((0.34,0.45))\n",
    "plt.ylabel(\"Gain [$10^7$ electrons]\", fontsize=12)\n",
    "plt.title(\"ICARUS Run 3 - Mean PMT Gain\", fontsize=14)\n",
    "plt.grid(alpha=0.5, linestyle=\"dashed\")\n",
    "plt.setp(plt.gca().get_xticklabels(), rotation=60, ha=\"right\", fontsize=12)\n",
    "plt.legend(fontsize=12)\n",
    "\n",
    "name = \"figs/ICARUS_Run3_Mean_PMT_gain_fit\"\n",
    "#plt.savefig(name+\".png\",dpi=100)\n",
    "#plt.savefig(name+\".pdf\",dpi=100)\n",
    "#plt.savefig(name+\".svg\",dpi=100)\n",
    "plt.show()"
   ]
  },
  {
   "cell_type": "markdown",
   "id": "131c9265",
   "metadata": {},
   "source": [
    "## Equalization over time"
   ]
  },
  {
   "cell_type": "code",
   "execution_count": null,
   "id": "4445766f",
   "metadata": {},
   "outputs": [],
   "source": [
    "fig = plt.figure(figsize=(10, 4.8),dpi=150)\n",
    "\n",
    "plt.errorbar( x=dplot.date, y=dplot.equal*100, yerr=dplot.eEqual*100, fmt='o')\n",
    "for i,r in enumerate(dplot.run.to_numpy()):\n",
    "    plt.annotate( str(r), xy=(dplot.date.to_numpy()[i],dplot.equal.to_numpy()[i]*100),textcoords=\"offset points\", xytext=(0,18), ha='center')\n",
    "\n",
    "plt.ylim((1.,2.))\n",
    "plt.ylabel(\"Equalization [%]\", fontsize=12)\n",
    "plt.title(\"ICARUS Run 3 - PMT Gain Equalization\", fontsize=14)\n",
    "plt.grid(alpha=0.5, linestyle=\"dashed\")\n",
    "plt.setp(plt.gca().get_xticklabels(), rotation=60, ha=\"right\", fontsize=12)\n",
    "#plt.legend(fontsize=12)\n",
    "\n",
    "#plt.savefig(\"figs/ICARUS-Run2_PMT_equalization_norunnumber.png\",dpi=600)\n",
    "plt.show()"
   ]
  },
  {
   "cell_type": "markdown",
   "id": "417192ad",
   "metadata": {},
   "source": [
    "## Single PMTs gain variation"
   ]
  },
  {
   "cell_type": "code",
   "execution_count": null,
   "id": "0df07358",
   "metadata": {},
   "outputs": [],
   "source": [
    "dpmt = data.groupby([\"pmt\",\"cryo\"]).agg(list).reset_index()\n",
    "dpmt.head()"
   ]
  },
  {
   "cell_type": "code",
   "execution_count": null,
   "id": "0fa8ccd4-e359-488f-85f5-ec7035883eba",
   "metadata": {},
   "outputs": [],
   "source": [
    "# select channels\n",
    "channels = [0, 149, 185]\n",
    "\n",
    "fig = plt.figure(figsize=(12, 4.8))\n",
    "for ch in range(20,25): #in channels:\n",
    "    \n",
    "    if ch in offchs:\n",
    "        continue\n",
    "    _sel = dpmt.pmt == ch\n",
    "    \n",
    "    xs=dpmt[_sel].date.to_numpy()[0]\n",
    "    ys=dpmt[_sel].q.to_numpy()[0]\n",
    "    err=dpmt[_sel]['eq'].to_numpy()[0]\n",
    "        \n",
    "    plt.errorbar( x=xs, y=ys, yerr=err, fmt='o-', label='PMT ID {}'.format(channel_to_PMTid(ch)))\n",
    "    for i,r in enumerate(dpmt[_sel].run.to_numpy()[0]):\n",
    "        plt.annotate( str(r), xy=(xs[i],ys[i]),textcoords=\"offset points\", xytext=(0,18), ha='center')\n",
    "\n",
    "plt.ylabel(\"Gain [$10^7$ electrons]\", fontsize=12)\n",
    "plt.title(\"ICARUS Run 2 - PMT Gains\", fontsize=14)\n",
    "plt.grid(alpha=0.5, linestyle=\"dashed\")\n",
    "plt.setp(plt.gca().get_xticklabels(), rotation=60, ha=\"right\", fontsize=12)\n",
    "plt.legend()\n",
    "\n",
    "#plt.savefig(\"figs/ICARUS-Run2_PMT_equalization.png\",dpi=600)\n",
    "plt.show()"
   ]
  },
  {
   "cell_type": "markdown",
   "id": "2e101922",
   "metadata": {},
   "source": [
    "## Gain by y quota"
   ]
  },
  {
   "cell_type": "code",
   "execution_count": null,
   "id": "b6279e15",
   "metadata": {},
   "outputs": [],
   "source": [
    "dpmt[\"y\"] = dpmt.pmt.apply(lambda x: getY(x))\n",
    "dyquota = dpmt.explode([\"timestamp\", \"q\",\"date\",\"run\"]).reset_index()\n",
    "dyquota.drop(columns=[\"index\",\"nentries\",\"eq\"],inplace=True)"
   ]
  },
  {
   "cell_type": "code",
   "execution_count": null,
   "id": "69334984",
   "metadata": {},
   "outputs": [],
   "source": [
    "dy = dyquota.groupby([\"timestamp\",\"date\",\"run\",\"y\"]).agg(list)\n",
    "dy[[\"mean_fit_q\",\"fit_sigma\",\"equal\",\"eEqual\"]] = dy.apply(lambda x: fitGains(x[\"q\"]), axis=1, result_type='expand')\n",
    "dy.reset_index(inplace=True)\n",
    "dy.drop(columns=[\"pmt\",\"cryo\",\"q\",\"equal\",\"eEqual\"],inplace=True)\n",
    "dy = dy.groupby([\"y\"]).agg(list).reset_index()\n",
    "dy.head()"
   ]
  },
  {
   "cell_type": "code",
   "execution_count": null,
   "id": "d44b0ade",
   "metadata": {},
   "outputs": [],
   "source": [
    "fig = plt.figure(figsize=(12, 4.8))\n",
    "\n",
    "for quota in (-129.05,-76.25,-23.45,29.35,82.15):\n",
    "    \n",
    "    _sel = dy.y == quota\n",
    "    xs=dy[_sel].date.to_numpy()[0]\n",
    "    ys=dy[_sel].mean_fit_q.to_numpy()[0]\n",
    "    err=dy[_sel].fit_sigma.to_numpy()[0]\n",
    "    plt.errorbar( x=xs, y=ys, yerr=err, fmt='o',label=\"y$=${}cm\".format(quota))\n",
    "\n",
    "for i,r in enumerate(dy[_sel].run.to_numpy()[0]):\n",
    "    plt.annotate( str(r), xy=(xs[i],ys[i]),textcoords=\"offset points\", xytext=(0,25), ha='center')\n",
    "\n",
    "plt.ylim((0.35,0.45))\n",
    "plt.ylabel(\"Gain [$10^7$ electrons]\", fontsize=12)\n",
    "plt.title(\"ICARUS Run 2 - Mean PMT gain\", fontsize=14)\n",
    "plt.grid(alpha=0.5, linestyle=\"dashed\")\n",
    "plt.setp(plt.gca().get_xticklabels(), rotation=60, ha=\"right\", fontsize=12)\n",
    "plt.legend(fontsize=12)\n",
    "\n",
    "plt.show()"
   ]
  },
  {
   "cell_type": "markdown",
   "id": "c09498e4",
   "metadata": {},
   "source": [
    "## Gain by cryostat"
   ]
  },
  {
   "cell_type": "code",
   "execution_count": null,
   "id": "e80d67bc",
   "metadata": {},
   "outputs": [],
   "source": [
    "# WEST\n",
    "dw = data[data.cryo==1].groupby([\"timestamp\",\"date\",\"run\"]).agg(list).reset_index()\n",
    "dw[[\"mean_fit_q\",\"fit_sigma\",\"equal\",\"eEqual\"]] = dw.apply(lambda x: fitGains(x[\"q\"]), axis=1, result_type='expand')\n",
    "# EAST\n",
    "de = data[data.cryo==0].groupby([\"timestamp\",\"date\",\"run\"]).agg(list).reset_index()\n",
    "de[[\"mean_fit_q\",\"fit_sigma\",\"equal\",\"eEqual\"]] = de.apply(lambda x: fitGains(x[\"q\"]), axis=1, result_type='expand')"
   ]
  },
  {
   "cell_type": "code",
   "execution_count": null,
   "id": "a2d44ff9",
   "metadata": {},
   "outputs": [],
   "source": [
    "fig = plt.figure(figsize=(12, 4.8))\n",
    "\n",
    "plt.errorbar( x=dw.date, y=dw.mean_fit_q, yerr=dw.fit_sigma, fmt='o',label=\"WEST\")\n",
    "plt.errorbar( x=de.date, y=de.mean_fit_q, yerr=de.fit_sigma, fmt='o',label=\"EAST\")\n",
    "\n",
    "for i,r in enumerate(dw.run.to_numpy()):\n",
    "    plt.annotate( str(r), xy=(dw.date.to_numpy()[i],dw.mean_fit_q.to_numpy()[i]),textcoords=\"offset points\", xytext=(0,22), ha='center')\n",
    "\n",
    "#plt.ylim((0.4,0.5))\n",
    "plt.ylabel(\"Gain [$10^7$ electrons]\", fontsize=12)\n",
    "plt.title(\"ICARUS Run 3 - Mean PMT gain\", fontsize=14)\n",
    "plt.grid(alpha=0.5, linestyle=\"dashed\")\n",
    "plt.setp(plt.gca().get_xticklabels(), rotation=60, ha=\"right\", fontsize=12)\n",
    "plt.legend(fontsize=12)\n",
    "\n",
    "plt.show()"
   ]
  },
  {
   "cell_type": "markdown",
   "id": "81fd8e22",
   "metadata": {},
   "source": [
    "## Gain by wall"
   ]
  },
  {
   "cell_type": "code",
   "execution_count": null,
   "id": "555d56d6",
   "metadata": {},
   "outputs": [],
   "source": [
    "# WEST\n",
    "dww = data[data.wall==\"WW\"].groupby([\"timestamp\",\"date\",\"run\"]).agg(list).reset_index()\n",
    "dww[[\"mean_fit_q\",\"fit_sigma\",\"equal\",\"eEqual\"]] = dww.apply(lambda x: fitGains(x[\"q\"]), axis=1, result_type='expand')\n",
    "\n",
    "dwe = data[data.wall==\"WE\"].groupby([\"timestamp\",\"date\",\"run\"]).agg(list).reset_index()\n",
    "dwe[[\"mean_fit_q\",\"fit_sigma\",\"equal\",\"eEqual\"]] = dwe.apply(lambda x: fitGains(x[\"q\"]), axis=1, result_type='expand')\n",
    "\n",
    "# EAST\n",
    "dew = data[data.wall==\"EW\"].groupby([\"timestamp\",\"date\",\"run\"]).agg(list).reset_index()\n",
    "dew[[\"mean_fit_q\",\"fit_sigma\",\"equal\",\"eEqual\"]] = dew.apply(lambda x: fitGains(x[\"q\"]), axis=1, result_type='expand')\n",
    "\n",
    "dee = data[data.wall==\"EE\"].groupby([\"timestamp\",\"date\",\"run\"]).agg(list).reset_index()\n",
    "dee[[\"mean_fit_q\",\"fit_sigma\",\"equal\",\"eEqual\"]] = dee.apply(lambda x: fitGains(x[\"q\"]), axis=1, result_type='expand')"
   ]
  },
  {
   "cell_type": "code",
   "execution_count": null,
   "id": "fd05f6fa",
   "metadata": {},
   "outputs": [],
   "source": [
    "fig = plt.figure(figsize=(12, 4.8), dpi=150)\n",
    "\n",
    "plt.errorbar( x=dwe.date, y=dwe.mean_fit_q, yerr=dwe.fit_sigma, fmt='o',label=\"WE\")\n",
    "plt.errorbar( x=dew.date, y=dew.mean_fit_q, yerr=dew.fit_sigma, fmt='o',label=\"EW\")\n",
    "plt.errorbar( x=dww.date, y=dww.mean_fit_q, yerr=dww.fit_sigma, fmt='o',label=\"WW\")\n",
    "plt.errorbar( x=dee.date, y=dee.mean_fit_q, yerr=dee.fit_sigma, fmt='o',label=\"EE\")\n",
    "\n",
    "for i,r in enumerate(dw.run.to_numpy()):\n",
    "    plt.annotate( str(r), xy=(dww.date.to_numpy()[i],dww.mean_fit_q.to_numpy()[i]),textcoords=\"offset points\", xytext=(22,22), ha='center')\n",
    "\n",
    "plt.ylim((0.35,0.42))\n",
    "plt.ylabel(\"Gain [$10^7$ electrons]\", fontsize=12)\n",
    "plt.title(\"ICARUS Run 3 - Mean PMT gain\", fontsize=14)\n",
    "plt.grid(alpha=0.5, linestyle=\"dashed\")\n",
    "plt.setp(plt.gca().get_xticklabels(), rotation=60, ha=\"right\", fontsize=12)\n",
    "plt.legend(fontsize=12)\n",
    "\n",
    "plt.show()"
   ]
  },
  {
   "cell_type": "code",
   "execution_count": null,
   "id": "00f7fc42",
   "metadata": {},
   "outputs": [],
   "source": []
  }
 ],
 "metadata": {
  "kernelspec": {
   "display_name": "Python 3 (ipykernel)",
   "language": "python",
   "name": "python3"
  },
  "language_info": {
   "codemirror_mode": {
    "name": "ipython",
    "version": 3
   },
   "file_extension": ".py",
   "mimetype": "text/x-python",
   "name": "python",
   "nbconvert_exporter": "python",
   "pygments_lexer": "ipython3",
   "version": "3.9.13"
  }
 },
 "nbformat": 4,
 "nbformat_minor": 5
}
