{
 "cells": [
  {
   "cell_type": "code",
   "execution_count": 7,
   "id": "c486df9b",
   "metadata": {},
   "outputs": [],
   "source": [
    "from ROOT import TFile, TH1D, TDirectory, TF1, TCanvas\n",
    "\n",
    "def _normalize( hist ):\n",
    "    \n",
    "    ee=hist.GetEntries()\n",
    "    hist.Scale(1/ee)\n",
    "    \n",
    "    return "
   ]
  },
  {
   "cell_type": "code",
   "execution_count": 21,
   "id": "b35332d6",
   "metadata": {},
   "outputs": [
    {
     "data": {
      "image/png": "[encoded data removed]",
      "text/plain": [
       "<IPython.core.display.Image object>"
      ]
     },
     "metadata": {},
     "output_type": "display_data"
    }
   ],
   "source": [
    "# [ 30, 99, 120, 162, 166, 264, 334 ]:\n",
    "\n",
    "channel=334\n",
    "\n",
    "tfile1=TFile.Open(\"../histograms/pulseDistributionHist_run7412.root\")\n",
    "tfile2=TFile.Open(\"../histograms/pulseDistributionHist_run7449.root\")\n",
    "\n",
    "canvas = TCanvas(\"c%d\" % channel, \"c%d\" % channel, 1000, 400)\n",
    "\n",
    "canvas.Divide(2,1)\n",
    "\n",
    "for i, tfile in enumerate([ tfile1, tfile2 ]):\n",
    "    \n",
    "    hamplitude = tfile.Get(\"bkgcalibration/hamplitude%d\" % channel)\n",
    "    hcharge    = tfile.Get(\"bkgcalibration/hintegral%d\" % channel)\n",
    "                   \n",
    "    pad = canvas.cd(1)\n",
    "    \n",
    "    _normalize( hcharge )\n",
    "        \n",
    "    hcharge.SetStats(0)\n",
    "    hcharge.GetXaxis().SetRangeUser(0,2.5)\n",
    "    hcharge.SetLineWidth(2)\n",
    "    hcharge.SetLineColor(i+1)\n",
    "    hcharge.Draw(\"hist same\")\n",
    "\n",
    "    canvas.cd(2)\n",
    "    \n",
    "    _normalize( hamplitude )\n",
    "    \n",
    "    hamplitude.SetStats(0)\n",
    "    hamplitude.GetXaxis().SetRangeUser(0,15)\n",
    "    hamplitude.SetLineWidth(2)\n",
    "    hamplitude.SetLineColor(i+1)\n",
    "    hamplitude.Draw(\"hist same\")\n",
    "    \n",
    "canvas.Draw(\"\")\n",
    "    \n",
    "\n",
    "  "
   ]
  },
  {
   "cell_type": "code",
   "execution_count": null,
   "id": "235171b4",
   "metadata": {},
   "outputs": [],
   "source": []
  }
 ],
 "metadata": {
  "kernelspec": {
   "display_name": "Python 3 (ipykernel)",
   "language": "python",
   "name": "python3"
  },
  "language_info": {
   "codemirror_mode": {
    "name": "ipython",
    "version": 3
   },
   "file_extension": ".py",
   "mimetype": "text/x-python",
   "name": "python",
   "nbconvert_exporter": "python",
   "pygments_lexer": "ipython3",
   "version": "3.9.2"
  }
 },
 "nbformat": 4,
 "nbformat_minor": 5
}
