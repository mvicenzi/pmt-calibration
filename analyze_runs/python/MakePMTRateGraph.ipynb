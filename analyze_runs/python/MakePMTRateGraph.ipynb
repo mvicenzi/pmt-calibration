{
 "cells": [
  {
   "cell_type": "code",
   "execution_count": 42,
   "id": "c2d942f1",
   "metadata": {},
   "outputs": [],
   "source": [
    "import numpy as np\n",
    "import pandas as pd\n",
    "import uproot3 as uproot\n",
    "import matplotlib.pyplot as plt \n",
    "\n",
    "from scipy.optimize import curve_fit\n",
    "from scipy.special import factorial\n",
    "\n",
    "import os\n",
    "\n",
    "import sqlite3\n",
    "\n",
    "def loadFiles( tfile, treename, selbranches = [\"event\", \"ch\", \"amp\", \"area\", \"time\"], flatenndf=True ):\n",
    "    ttree = uproot.open(tfile)\n",
    "    data = ttree[treename].arrays(branches=selbranches, outputtype=pd.DataFrame, flatten=flatenndf)\n",
    "    \n",
    "    return data\n",
    "\n",
    "def posson_fit(k, lamb):\n",
    "    '''poisson function, parameter lamb is the fit parameter'''\n",
    "    return (lamb**k/factorial(k)) * np.exp(-lamb)\n",
    "\n",
    "\n",
    "def countevents( x, thr ):\n",
    "    \n",
    "    a = np.array(x)\n",
    "    counts = len( a[a>thr] )\n",
    "    \n",
    "    return counts\n"
   ]
  },
  {
   "cell_type": "code",
   "execution_count": 51,
   "id": "5e40a133",
   "metadata": {},
   "outputs": [
    {
     "name": "stdout",
     "output_type": "stream",
     "text": [
      "../histograms/pulseDistributionHist_run6069.root\n"
     ]
    },
    {
     "name": "stderr",
     "output_type": "stream",
     "text": [
      "/tmp/ipykernel_18345/3089815669.py:21: RuntimeWarning: invalid value encountered in power\n",
      "  return (lamb**k/factorial(k)) * np.exp(-lamb)\n",
      "/cvmfs/larsoft.opensciencegrid.org/products/numpy/v1_19_0b/Linux64bit+3.10-2.17-e20-p383b/lib/python3.8/site-packages/numpy-1.19.0-py3.8-linux-x86_64.egg/numpy/lib/histograms.py:905: RuntimeWarning: invalid value encountered in true_divide\n",
      "  return n/db/n.sum(), bin_edges\n"
     ]
    },
    {
     "name": "stdout",
     "output_type": "stream",
     "text": [
      "../histograms/pulseDistributionHist_run6232.root\n",
      "../histograms/pulseDistributionHist_run6101.root\n",
      "../histograms/pulseDistributionHist_run4734.root\n",
      "../histograms/pulseDistributionHist_run6372.root\n",
      "../histograms/pulseDistributionHist_run4887.root\n",
      "../histograms/pulseDistributionHist_run4886.root\n",
      "Impossible to create dataframe\n",
      "../histograms/pulseDistributionHist_run4987.root\n",
      "../histograms/pulseDistributionHist_run4986.root\n",
      "../histograms/pulseDistributionHist_run5077.root\n",
      "../histograms/pulseDistributionHist_run5894.root\n",
      "../histograms/pulseDistributionHist_run5076.root\n",
      "../histograms/pulseDistributionHist_run5092.root\n",
      "../histograms/pulseDistributionHist_run4466.root\n",
      "../histograms/pulseDistributionHist_run5093.root\n",
      "../histograms/pulseDistributionHist_run5125.root\n",
      "../histograms/pulseDistributionHist_run5126.root\n",
      "../histograms/pulseDistributionHist_run6036.root\n",
      "../histograms/pulseDistributionHist_run6030.root\n",
      "../histograms/pulseDistributionHist_run6001.root\n",
      "../histograms/pulseDistributionHist_run6468.root\n",
      "../histograms/pulseDistributionHist_run5837.root\n",
      "../histograms/pulseDistributionHist_run5543.root\n",
      "../histograms/pulseDistributionHist_run5457.root\n",
      "../histograms/pulseDistributionHist_run5390.root\n",
      "../histograms/pulseDistributionHist_run4568.root\n",
      "../histograms/pulseDistributionHist_run5260.root\n",
      "../histograms/pulseDistributionHist_run5985.root\n",
      "../histograms/pulseDistributionHist_run4325.root\n",
      "../histograms/pulseDistributionHist_run5210.root\n",
      "../histograms/pulseDistributionHist_run4632.root\n",
      "../histograms/pulseDistributionHist_run5635.root\n",
      "../histograms/pulseDistributionHist_run6603.root\n",
      "../histograms/pulseDistributionHist_run5984.root\n",
      "../histograms/pulseDistributionHist_run6555.root\n",
      "../histograms/pulseDistributionHist_run5679.root\n",
      "../histograms/pulseDistributionHist_run5573.root\n",
      "../histograms/pulseDistributionHist_run6608.root\n",
      "../histograms/pulseDistributionHist_run6628.root\n",
      "../histograms/pulseDistributionHist_run6633.root\n"
     ]
    }
   ],
   "source": [
    "FILENAMES=[\"../histograms/\"+file for file in os.listdir(\"../histograms/\")]\n",
    "\n",
    "for FILENAME in FILENAMES:\n",
    "    \n",
    "    print(FILENAME)\n",
    "    \n",
    "    ophit = loadFiles( FILENAME, \"simpleLightAna/ophit_ttree\", selbranches = [\"event\", \"channel_id\", \"amplitude\", \"integral\", \"start_time\"] )\n",
    "    data = ophit.groupby([\"channel_id\", \"event\"]).amplitude.agg(list)\n",
    "    data = data.reset_index()\n",
    "\n",
    "    data['counts16'] = data['amplitude'].apply( lambda x : countevents(x, 16) ) # 16 adc = 1.9 mV\n",
    "    \n",
    "    rates = []\n",
    "    erates = []\n",
    "    \n",
    "    for ch in range(360):\n",
    "    \n",
    "        weights, edges = np.histogram( data[data.channel_id==ch].counts16, range=(0, 10), bins=10, density=True)\n",
    "        centers = [ ( edges[i]+edges[i-1] ) / 2.0 for i in range( 1, len(edges) )  ]\n",
    "    \n",
    "        try:\n",
    "            parameters, cov_matrix = curve_fit(posson_fit, centers, weights, p0=[2])\n",
    "            #print(ch, parameters, cov_matrix)\n",
    "            rates.append( parameters[0] )\n",
    "            erates.append(cov_matrix[0]**2)\n",
    "        except:\n",
    "            #print(ch)\n",
    "            rates.append(-9999)\n",
    "            erates.append(-9999)\n",
    "    \n",
    "    \n",
    "    # Now we extract the timestamp, the run and the readout size from the file and put everything in a database\n",
    "    try:\n",
    "        ttree = uproot.open(FILENAME)\n",
    "        nticks = ttree[\"simpleLightAna/daqPMTwfttree\"][\"nticks\"].array(entrystop=1)[0]\n",
    "        run = ttree[\"simpleLightAna/eventstree\"][\"run\"].array(entrystop=1)[0]\n",
    "        timestamp = ttree[\"simpleLightAna/eventstree\"][\"timestamp\"].array(entrystop=1)[0]\n",
    "    except:\n",
    "        print(\"Impossible to create dataframe\")\n",
    "        continue\n",
    "    \n",
    "    df = pd.DataFrame( { \"channel_id\" : np.arange(360), \"counts\" : rates, \"ecounts\" : erates ,\"readout\" : nticks*2.0, \"run\" : run, \"timestamp\" : timestamp } )\n",
    "    \n",
    "    outfilename = ( FILENAME.replace(\"histograms\", \"rates\") ).replace(\"pulseDistributionHist\", \"rate_analysis\")\n",
    "    df.to_csv( outfilename, sep=',', index=False )"
   ]
  },
  {
   "cell_type": "code",
   "execution_count": 74,
   "id": "d94cae97",
   "metadata": {},
   "outputs": [
    {
     "name": "stdout",
     "output_type": "stream",
     "text": [
      "     readout   counts        rate\n",
      "350  10000.0  1.03471  103.471026\n",
      "     readout    counts       rate\n",
      "350  25000.0  1.467907  58.716261\n",
      "     readout    counts       rate\n",
      "350  30000.0  1.683506  56.116866\n",
      "ALL DONE!\n"
     ]
    },
    {
     "data": {
      "image/png": "[encoded data removed]",
      "text/plain": [
       "<Figure size 720x374.4 with 3 Axes>"
      ]
     },
     "metadata": {
      "needs_background": "light"
     },
     "output_type": "display_data"
    }
   ],
   "source": [
    "data = pd.concat( [pd.read_csv( \"../rates/\"+file, sep=\",\" ) for file in os.listdir(\"../rates/\")] )\n",
    "data = data[data.counts>0]\n",
    "\n",
    "data['rate'] = data['counts']/(data['readout']*1e-6)\n",
    "#data['erate'] = data['ecounts']/(data['readout']*1e-6)\n",
    "\n",
    "print(data[(data.run==4987) & (data.channel_id==350)][['readout', 'counts', 'rate']])\n",
    "print(data[(data.run==5260) & (data.channel_id==350)][['readout', 'counts', 'rate']])\n",
    "print(data[(data.run==6030) & (data.channel_id==350)][['readout', 'counts', 'rate']])\n",
    "\n",
    "fig, ax = plt.subplots(3,1, figsize=(10, 5.2))\n",
    "\n",
    "for ch in [ 350, 359 ]:\n",
    "    \n",
    "    SEL_CH=data.channel_id==ch\n",
    "    datasel=data[SEL_CH]\n",
    "    \n",
    "    ax[0].plot( datasel.timestamp, datasel.rate, '.' )\n",
    "    ax[1].plot( datasel.timestamp, datasel.counts, '.' )\n",
    "    ax[2].plot( datasel.timestamp, datasel.readout, '.' )\n",
    "    \n",
    "print(\"ALL DONE!\")"
   ]
  },
  {
   "cell_type": "code",
   "execution_count": null,
   "id": "e21b89ee",
   "metadata": {},
   "outputs": [],
   "source": []
  },
  {
   "cell_type": "code",
   "execution_count": null,
   "id": "2f0d65aa",
   "metadata": {},
   "outputs": [],
   "source": []
  },
  {
   "cell_type": "code",
   "execution_count": null,
   "id": "66df49da",
   "metadata": {},
   "outputs": [],
   "source": []
  },
  {
   "cell_type": "code",
   "execution_count": null,
   "id": "364b0f31",
   "metadata": {},
   "outputs": [],
   "source": []
  },
  {
   "cell_type": "code",
   "execution_count": null,
   "id": "dfee0b15",
   "metadata": {},
   "outputs": [],
   "source": []
  }
 ],
 "metadata": {
  "kernelspec": {
   "display_name": "Python 3 (ipykernel)",
   "language": "python",
   "name": "python3"
  },
  "language_info": {
   "codemirror_mode": {
    "name": "ipython",
    "version": 3
   },
   "file_extension": ".py",
   "mimetype": "text/x-python",
   "name": "python",
   "nbconvert_exporter": "python",
   "pygments_lexer": "ipython3",
   "version": "3.9.2"
  }
 },
 "nbformat": 4,
 "nbformat_minor": 5
}
