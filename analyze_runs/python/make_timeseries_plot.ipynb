{
 "cells": [
  {
   "cell_type": "code",
   "execution_count": null,
   "id": "0940d693-c44e-421f-857b-c708e7a0614a",
   "metadata": {
    "scrolled": true
   },
   "outputs": [],
   "source": [
    "import numpy as np\n",
    "import pandas as pd\n",
    "import sqlite3\n",
    "import os\n",
    "\n",
    "import matplotlib.pyplot as plt\n",
    "from matplotlib.dates import DateFormatter\n",
    "\n",
    "from gaussfit import *"
   ]
  },
  {
   "cell_type": "markdown",
   "id": "bffd9986",
   "metadata": {},
   "source": [
    "## Functions for channel mapping"
   ]
  },
  {
   "cell_type": "code",
   "execution_count": null,
   "id": "c4a37409",
   "metadata": {},
   "outputs": [],
   "source": [
    "def readSqlitedb(database=\"/cvmfs/icarus.opensciencegrid.org/products/icarus/icarus_data/v09_62_00/icarus_data/database/ChannelMapICARUS.db\", table=\"pmt_placements\"):\n",
    "\n",
    "    # Read sqlite query results into a pandas DataFrame\n",
    "    con = sqlite3.connect(database)\n",
    "    df = pd.read_sql_query(\"SELECT * from {}\".format(table), con)\n",
    "\n",
    "    con.close()\n",
    "\n",
    "    return df\n",
    "\n",
    "def channel_to_PMTid(channels):\n",
    "    \n",
    "    geo = readSqlitedb()\n",
    "    \n",
    "    if np.isscalar(channels):\n",
    "        pmt_id = geo[geo.channel_id==channels].pmt_id.values[0]\n",
    "        return pmt_id\n",
    "    else:\n",
    "        pmt_ids = [ geo[geo.channel_id==ch].pmt_id.values[0] for ch in channels ] \n",
    "        return pmt_ids\n",
    "    \n",
    "def PMTid_to_channel(pmt_ids):\n",
    "    \n",
    "    geo = readSqlitedb()\n",
    "    \n",
    "    if np.isscalar(pmt_ids):\n",
    "        channel = geo[geo.pmt_id==pmt_ids].channel_id.values[0]\n",
    "        return channel\n",
    "    else:\n",
    "        channels = [ geo[geo.pmt_id==pmt].channel_id.values[0] for pmt in pmt_ids ] \n",
    "        return channels"
   ]
  },
  {
   "cell_type": "markdown",
   "id": "30ed68da",
   "metadata": {},
   "source": [
    "## Functions for data loading"
   ]
  },
  {
   "cell_type": "code",
   "execution_count": null,
   "id": "ce73bcd5",
   "metadata": {},
   "outputs": [],
   "source": [
    "# Get the timestamp\n",
    "def getTimestamp(file):\n",
    "    \n",
    "    buff=file.split('_')\n",
    "    timestamp = int(buff[-1].split('.')[0])\n",
    "    \n",
    "    return timestamp\n",
    "    \n",
    "\n",
    "# Load a single file\n",
    "def getDataFrame(file, offchs, timeseries=True):\n",
    "   \n",
    "    df=pd.read_csv(file, sep=',')\n",
    "    \n",
    "    # remove list of PMTs that are off\n",
    "    df= df[~df['pmt'].isin(offchs)]\n",
    "    \n",
    "    if timeseries:\n",
    "        df[\"timestamp\"] = getTimestamp(file)\n",
    "        df.set_index(\"timestamp\", inplace=True)\n",
    "    \n",
    "    return df\n",
    "    \n",
    "# Load a dataframe dictionary having timestamp as key   \n",
    "def dataLoaderDict( offPMTs, interval=(1610067905, 1637788392), sourcedir = \"../calibrationdb/\"):\n",
    "\n",
    "    data = { getTimestamp(file) : getDataFrame(sourcedir+file, offPMTs, False) for file in  os.listdir(sourcedir) if (\"backgroundphotons\" in file and getTimestamp(file)>=interval[0] and getTimestamp(file)<interval[1])}\n",
    "    return data\n",
    "\n",
    "############################### DATA IMPORTER FUNCTION ###############################\n",
    "def dataLoader( offchPMTs, sourcedir = \"../calibrationdb/\", interval=(1610067905, 1637788392)):\n",
    "        \n",
    "    print(\"Import data in folder{} for interval ({}:{})\".format(sourcedir, interval[0], interval[1]))\n",
    "    \n",
    "    # Load the data from the fit database\n",
    "    data = pd.concat([ getDataFrame(sourcedir+file, offchPMTs, True) for file in  os.listdir(sourcedir) if \"backgroundphotons\" in file ])\n",
    "    \n",
    "    # keep data only for the selected interval\n",
    "    data = data.loc[(data.index>=interval[0]) & (data.index<interval[1])]\n",
    "          \n",
    "    # Sort the indeces by time\n",
    "    data = data.sort_index()\n",
    "    \n",
    "    return data\n",
    "\n",
    "###############################\n",
    "def get_mean_q(dataDict):\n",
    "    \n",
    "    t, q, eq = [], [], []\n",
    "    for tt in dataDict.keys():\n",
    "        xs, ys, param, eparam  = fitGainsDistribution( dataDict[tt], BINSIZE=0.005, RMIN=0.0, RMAX=1.0, p0=(0.4, 0.04) )\n",
    "        q.append(param[1])\n",
    "        t.append(datetime.fromtimestamp(tt).strftime('%D %H:%M'))\n",
    "        eq.append(eparam[1])\n",
    "        \n",
    "    return t, q, eq    "
   ]
  },
  {
   "cell_type": "markdown",
   "id": "8383e420",
   "metadata": {},
   "source": [
    "# Plotting"
   ]
  },
  {
   "cell_type": "code",
   "execution_count": null,
   "id": "b8a26411",
   "metadata": {},
   "outputs": [],
   "source": [
    "# Define source parameters \n",
    "sdir   = \"../calibrationdb/\"\n",
    "\n",
    "# Import data between December 2022 and December 2023\n",
    "trange = (1671100000, 1702598400)\n",
    "\n",
    "offPMTs = [1, 111, 143, 166, 192, 230, 238, 254, 222, 302, 309, 340, 353, 290 ]\n",
    "offchs = PMTid_to_channel(offPMTs)\n",
    "print(offchs)\n",
    "\n",
    "data   = dataLoader( offchs, sdir, interval= trange)\n",
    "dataDict = dataLoaderDict( offchs, interval= trange, sourcedir = sdir )"
   ]
  },
  {
   "cell_type": "markdown",
   "id": "652b0e0c",
   "metadata": {},
   "source": [
    "## Mean gain"
   ]
  },
  {
   "cell_type": "code",
   "execution_count": null,
   "id": "8449efdc",
   "metadata": {},
   "outputs": [],
   "source": [
    "t, q, eq = get_mean_q(dataDict)\n",
    "\n",
    "plt.errorbar( x=t, y=q, yerr=eq, fmt='o-')\n",
    "plt.xlabel(\"Time\")\n",
    "plt.ylabel(\"Gain [10^7 electrons]\")\n",
    "plt.title(\"Mean gain vs time\")\n",
    "plt.show()"
   ]
  },
  {
   "cell_type": "code",
   "execution_count": null,
   "id": "be81123d-f2ca-4496-afcb-22c17e82b460",
   "metadata": {},
   "outputs": [],
   "source": [
    "fig, ax = plt.subplots(1,1, figsize=(15, 7))\n",
    "\n",
    "for PMT in range(0, 360): #[1, 240]:   \n",
    "    \n",
    "        if PMT in offchs:\n",
    "            continue\n",
    "    \n",
    "        df = data[data.pmt==PMT]\n",
    "        \n",
    "        # Extract the data of interest.\n",
    "        t = np.array([datetime.fromtimestamp(tt).strftime('%D %H:%M') for tt in df.index])\n",
    "        q = np.array(df[\"q\"])\n",
    "        eq = np.array(df[\"eq\"])\n",
    "        npoints = len(q)\n",
    "    \n",
    "        # Make the data plot\n",
    "        if npoints ==0:\n",
    "            print(\"PMT {} has no correct data associated\".format(PMT))\n",
    "            continue\n",
    "                  \n",
    "        #label='\\n'.join( ['Data PMT %d' % pmt,  \n",
    "        #              '  Operative voltage: %d V' % voltage, \n",
    "        #              '  Number of time points: %d' % npoints])\n",
    "        out = ax.errorbar( x=t, y=q, yerr=eq, fmt='o-')#, label=label)\n",
    "        \n",
    "        \n",
    "        #legend = fig.legend(fontsize=10, bbox_to_anchor=[1.18, 0.99])\n",
    "        #legend.get_frame().set_alpha(None)\n",
    "        fig.tight_layout()\n",
    "        \n",
    "plt.show()\n",
    "                \n",
    "print(\"ALL DONE\")"
   ]
  },
  {
   "cell_type": "code",
   "execution_count": null,
   "id": "0fa8ccd4-e359-488f-85f5-ec7035883eba",
   "metadata": {},
   "outputs": [],
   "source": []
  },
  {
   "cell_type": "code",
   "execution_count": null,
   "id": "adb70562",
   "metadata": {},
   "outputs": [],
   "source": []
  }
 ],
 "metadata": {
  "kernelspec": {
   "display_name": "Python 3 (ipykernel)",
   "language": "python",
   "name": "python3"
  },
  "language_info": {
   "codemirror_mode": {
    "name": "ipython",
    "version": 3
   },
   "file_extension": ".py",
   "mimetype": "text/x-python",
   "name": "python",
   "nbconvert_exporter": "python",
   "pygments_lexer": "ipython3",
   "version": "3.9.2"
  }
 },
 "nbformat": 4,
 "nbformat_minor": 5
}
