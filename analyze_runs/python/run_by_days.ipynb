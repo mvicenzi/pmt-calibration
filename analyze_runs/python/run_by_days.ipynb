{
 "cells": [
  {
   "cell_type": "code",
   "execution_count": 52,
   "id": "58b0ccbe-322d-4e01-b7b8-0293b8ee89bb",
   "metadata": {},
   "outputs": [
    {
     "name": "stdout",
     "output_type": "stream",
     "text": [
      "[[      5076 1614300226         48]\n",
      " [      4886 1613074636         34]\n",
      " [      4986 1613690547         41]\n",
      " [      7115 1637013221        311]\n",
      " [      7033 1636156756        301]\n",
      " [      6732 1632175995        255]\n",
      " [      6628 1630886487        240]\n",
      " [      6603 1630450100        235]\n",
      " [      6468 1628632260        214]\n",
      " [      5092 1614550524         51]\n",
      " [      5457 1617648069         87]\n",
      " [      5635 1619133315        104]\n",
      " [      6719 1631921486        252]\n",
      " [      7210 1637788392        320]\n",
      " [      6036 1623603606        156]\n",
      " [      6555 1629323269        222]\n",
      " [      6608 1630531577        236]\n",
      " [      6736 1632274166        257]\n",
      " [      6641 1631138651        243]\n",
      " [      4734 1612389343         26]\n",
      " [      4632 1611795400         19]\n",
      " [      5125 1614813271         54]\n",
      " [      5260 1616014922         68]\n",
      " [      5390 1616805688         77]\n",
      " [      5837 1620868987        125]\n",
      " [      5894 1621568782        133]\n",
      " [      5984 1622315494        141]\n",
      " [      6030 1623445835        154]\n",
      " [      6101 1624629632        168]\n",
      " [      6372 1627585984        202]\n",
      " [      6633 1631056586        242]\n",
      " [      6696 1631745067        250]\n",
      " [      6842 1633731514        273]\n",
      " [      7229 1638074890        324]\n",
      " [      5093 1614552917         51]\n",
      " [      6232 1626715902        192]\n",
      " [      6069 1624231380        163]\n",
      " [      6001 1622654341        145]\n",
      " [      5985 1622317373        141]\n",
      " [      5679 1619662082        111]\n",
      " [      5573 1618615059         98]\n",
      " [      5543 1618539763         98]\n",
      " [      5210 1615502170         62]\n",
      " [      5126 1614815375         54]\n",
      " [      5077 1614303240         49]\n",
      " [      4987 1613693736         41]\n",
      " [      4887 1613076619         34]\n",
      " [      4568 1611272141         13]\n",
      " [      4466 1610668201          6]\n",
      " [      4325 1610067905          0]]\n"
     ]
    }
   ],
   "source": [
    "import os, sys\n",
    "import numpy as np\n",
    "\n",
    "def getinfo(file):\n",
    "    buff=file.split(\"_\")\n",
    "    run=int(buff[1].split('run')[1])\n",
    "    time = int(buff[2].split('.')[0])\n",
    "    return [run, time]\n",
    "    \n",
    "info = np.array([ getinfo(file) for file in os.listdir( \"../calibrationdb/\" ) if \"csv\" in file ])\n",
    "mint=np.min(info[:,1])\n",
    "info = np.insert( info,2, (info[:,1]-mint)/(3600*24), axis=1 )\n",
    "print(info)"
   ]
  },
  {
   "cell_type": "code",
   "execution_count": null,
   "id": "913d2c2c-ec3c-4c20-9a05-d58f99927bbd",
   "metadata": {},
   "outputs": [],
   "source": []
  }
 ],
 "metadata": {
  "kernelspec": {
   "display_name": "Python 3 (ipykernel)",
   "language": "python",
   "name": "python3"
  },
  "language_info": {
   "codemirror_mode": {
    "name": "ipython",
    "version": 3
   },
   "file_extension": ".py",
   "mimetype": "text/x-python",
   "name": "python",
   "nbconvert_exporter": "python",
   "pygments_lexer": "ipython3",
   "version": "3.9.2"
  }
 },
 "nbformat": 4,
 "nbformat_minor": 5
}
