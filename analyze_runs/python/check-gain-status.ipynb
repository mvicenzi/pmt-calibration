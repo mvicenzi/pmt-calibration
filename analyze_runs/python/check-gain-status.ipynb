{
 "cells": [
  {
   "cell_type": "code",
   "execution_count": null,
   "id": "regulated-reach",
   "metadata": {},
   "outputs": [],
   "source": [
    "from helpers import *\n",
    "from gaussfit import *\n",
    "\n",
    "from pylab import rcParams\n",
    "rcParams['figure.figsize'] = 7, 5"
   ]
  },
  {
   "cell_type": "markdown",
   "id": "813b5322",
   "metadata": {},
   "source": [
    "## Configuration"
   ]
  },
  {
   "cell_type": "code",
   "execution_count": null,
   "id": "a228c15a",
   "metadata": {},
   "outputs": [],
   "source": [
    "# list of PMTs at 0 voltage form HV files + disconnected pmts: 290\n",
    "offPMTs = [1, 111, 143, 166, 192, 230, 238, 254, 222, 302, 309, 340, 353, 290 ]\n",
    "offChs = PMTid_to_channel(offPMTs)\n",
    "\n",
    "# drifting PMTs --> wait for full list\n",
    "driftPMTs = [ 59, 63, 81, 93, 95, 142, 148, 169, 170, 179, 282, 310]\n",
    "driftChs = PMTid_to_channel(driftPMTs)\n",
    "\n",
    "# PMTs not changed\n",
    "nochangePMTs = [310, 282, 262, 248, 90]\n",
    "nochangeChs = PMTid_to_channel(nochangePMTs)\n",
    "\n",
    "# PMTS not changed + lowered due to high LVDS counts\n",
    "lvdsPMTs = [ 262, 248 ]\n",
    "lvdsChs = PMTid_to_channel(lvdsPMTs)\n",
    "\n",
    "# PMTs manual fix\n",
    "manualPMTs = [ 263, 93, 95, 337, 194, 148, 236, 113, 104]\n",
    "manualChs = PMTid_to_channel(manualPMTs)"
   ]
  },
  {
   "cell_type": "code",
   "execution_count": null,
   "id": "469599e3",
   "metadata": {},
   "outputs": [],
   "source": [
    "srcpath = \"/icarus/data/users/mvicenzi/pmt-calibration/calibrationdb/\"\n",
    "histpath = \"/icarus/data/users/mvicenzi/pmt-calibration/quick/\"\n",
    "figpath = \"/icarus/data/users/mvicenzi/pmt-calibration/figs/\"\n",
    "\n",
    "#file = srcpath + \"backgroundphotons_run9226_1670516550.csv\" #nominal \n",
    "#file = srcpath + \"backgroundphotons_run9227_1670518289.csv\" #+50V\n",
    "#file = srcpath + \"backgroundphotons_run9228_1670519753.csv\" #+100V\n",
    "#file = srcpath + \"backgroundphotons_run9229_1670521305.csv\" #-30V\n",
    "#file = srcpath + \"backgroundphotons_run9230_1670522684.csv\" #-50V\n",
    "\n",
    "#file = srcpath + \"backgroundphotons_run9246_1670941359.csv\"\n",
    "#file = srcpath + \"backgroundphotons_run9249_1670967127.csv\"\n",
    "#file = srcpath + \"backgroundphotons_run9260_1671044146.csv\"\n",
    "#file = srcpath + \"backgroundphotons_run9271_1671126368.csv\"\n",
    "#file = srcpath + \"backgroundphotons_run9383_1673718128.csv\"\n",
    "#file = srcpath + \"backgroundphotons_run9499_1676437736.csv\"\n",
    "#file = srcpath + \"backgroundphotons_run9627_1678470964.csv\"\n",
    "#file = srcpath + \"backgroundphotons_run9598_1677975945.csv\"\n",
    "#file = srcpath + \"backgroundphotons_run9560_1676853415.csv\"\n",
    "#file = srcpath + \"backgroundphotons_run9745_1681427955.csv\"\n",
    "#file = srcpath + \"backgroundphotons_run9746_1681496735.csv\"\n",
    "#file = srcpath + \"backgroundphotons_run9724_1680365921.csv\"\n",
    "#file = srcpath + \"backgroundphotons_run9448_1675451711.csv\"\n",
    "#file = srcpath + \"backgroundphotons_run9795_1682850707.csv\"\n",
    "#file = srcpath +\"backgroundphotons_run9947_1686657231.csv\"\n",
    "#file = srcpath +\"backgroundphotons_run10040_1688176609.csv\"\n",
    "#file = srcpath +\"backgroundphotons_run10058_1688574998.csv\"\n",
    "#file = srcpath +\"backgroundphotons_run10097_1689213284.csv\"\n",
    "\n",
    "file = getMostRecentCalibration(srcpath)"
   ]
  },
  {
   "cell_type": "markdown",
   "id": "ee2347af",
   "metadata": {},
   "source": [
    "## PMT gain distribution"
   ]
  },
  {
   "cell_type": "code",
   "execution_count": null,
   "id": "capital-memphis",
   "metadata": {
    "scrolled": true
   },
   "outputs": [],
   "source": [
    "print( \"Loading data from: \"+ file )\n",
    "run=getRun(file)\n",
    "timestamp=getTimestamp(file)\n",
    "data = getDataFrame(file, offPMTs, False)\n",
    "\n",
    "fitOutput  = fitGainsDistribution( data, BINSIZE=0.005,RMIN=0.0,RMAX=1.0, p0=(0.4, 0.04) )\n",
    "\n",
    "plt.xlim((0.1, 0.8))\n",
    "plt = makeplot(timestamp, figpath+\"gain_hist_\"+str(run)+\".pdf\", *fitOutput )\n",
    "plt.savefig(\"run\"+str(run)+\"_histo.png\", dpi=900)\n",
    "\n",
    "#data[[\"pmt\", \"q\", \"eq\"]].to_csv(histpath+\"histogram_run\"+str(run)+\"_\"+str(timestamp)+\".csv\")"
   ]
  },
  {
   "cell_type": "markdown",
   "id": "6dc7cbbf",
   "metadata": {},
   "source": [
    "## Scatter plots"
   ]
  },
  {
   "cell_type": "code",
   "execution_count": null,
   "id": "persistent-hopkins",
   "metadata": {
    "scrolled": false
   },
   "outputs": [],
   "source": [
    "plt.scatter(data[\"pmt\"],data[\"q\"],marker=\"o\")\n",
    "\n",
    "## latest equalization target\n",
    "plt.axhline(y=0.45, color=\"red\", linestyle='dotted')\n",
    "\n",
    "## KNOWN HV ISSUES\n",
    "drift_data = data[data['pmt'].isin(driftChs)]\n",
    "plt.scatter(drift_data[\"pmt\"],drift_data[\"q\"],marker=\"x\",color=\"red\", label=\"known HV issues\")\n",
    "\n",
    "## NOT EQUALIZED\n",
    "nochange_data = data[data['pmt'].isin(nochangeChs)]\n",
    "plt.scatter(nochange_data['pmt'],nochange_data['q'],marker=\"^\",color=\"green\", label=\"Not changed/fit failed\")\n",
    "\n",
    "## MANUALLY EQUALIZED\n",
    "manual_data = data[data['pmt'].isin(manualChs)]\n",
    "#plt.scatter(manual_data['pmt'],manual_data['q'],marker=\"^\",color=\"violet\", label=\"Manual adjustment\")\n",
    "\n",
    "plt.ylim((0.2,0.75))\n",
    "plt.xlabel(\"PMT channel ID\")\n",
    "plt.ylabel(\"Gains [10^7 electrons]\")\n",
    "plt.legend()\n",
    "plt.grid()\n",
    "\n",
    "plt.savefig(\"run\"+str(run)+\"_scatter.png\", dpi=900)"
   ]
  },
  {
   "cell_type": "code",
   "execution_count": null,
   "id": "6d1f9ed0",
   "metadata": {},
   "outputs": [],
   "source": [
    "## PRINTING OUTLIERS\n",
    "low_bound = 0.4\n",
    "high_bound = 0.46\n",
    "\n",
    "ch_high = data.loc[ data[\"q\"] > high_bound, [\"pmt\", \"q\"]]\n",
    "ch_low = data.loc[ data[\"q\"] < low_bound, [\"pmt\", \"q\"]]\n",
    "\n",
    "print(\"PMT channels above \"+ str(high_bound))\n",
    "pmt_high = channel_to_PMTid(ch_high[\"pmt\"].to_numpy())\n",
    "print(\"Ch ID: \", ch_high.pmt.to_numpy() )\n",
    "print(\"PMT ID: \", pmt_high )\n",
    "print(\"q: \", ch_high.q.to_numpy() )\n",
    "\n",
    "print(\"PMT channels below \"+ str(low_bound))\n",
    "pmt_low = channel_to_PMTid(ch_low[\"pmt\"].to_numpy())\n",
    "print(\"Ch ID: \", ch_low.pmt.to_numpy() )\n",
    "print(\"PMT ID: \", pmt_low )\n",
    "print(\"q: \", ch_low.q.to_numpy() )"
   ]
  },
  {
   "cell_type": "markdown",
   "id": "aa29e673",
   "metadata": {},
   "source": [
    "## Comparisons and random stuff"
   ]
  },
  {
   "cell_type": "code",
   "execution_count": null,
   "id": "630b80f5",
   "metadata": {
    "scrolled": false
   },
   "outputs": [],
   "source": [
    "file0 = srcpath +\"backgroundphotons_run9226_1670516550.csv\"\n",
    "file1 = srcpath +\"backgroundphotons_run9246_1670941359.csv\"\n",
    "file2 = srcpath +\"backgroundphotons_run9249_1670967127.csv\"\n",
    "file3 = srcpath +\"backgroundphotons_run9260_1671044146.csv\"\n",
    "file4 = srcpath +\"backgroundphotons_run9271_1671126368.csv\"\n",
    "\n",
    "data_0 = getDataFrame(file0, offPMTs, False)\n",
    "data_nom = getDataFrame(file3, offPMTs, False)\n",
    "data_pre = getDataFrame(file1, offPMTs, False)\n",
    "data_after = getDataFrame(file2, offPMTs, False)\n",
    "data_fin = getDataFrame(file4, offPMTs, False)\n",
    "\n",
    "manual_data_0 = data_0[data_0['pmt'].isin(manual_channels)]\n",
    "plt.scatter(manual_data_0['pmt'],manual_data_0['q'],marker=\"s\", color=\"green\", label=\"Start (9226)\")\n",
    "manual_data_nom = data_nom[data_nom['pmt'].isin(manual_channels)]\n",
    "plt.scatter(manual_data_nom['pmt'],manual_data_nom['q'],marker=\"x\", color=\"red\", label=\"After second fix (9260)\")\n",
    "manual_data_pre = data_pre[data_pre['pmt'].isin(manual_channels)]\n",
    "plt.scatter(manual_data_pre['pmt'],manual_data_pre['q'],marker=\"^\", label=\"Before manual fix (9246)\")\n",
    "manual_data_after= data_after[data_after['pmt'].isin(manual_channels)]\n",
    "plt.scatter(manual_data_after['pmt'],manual_data_after['q'],marker=\"o\",color=\"orange\", label=\"After manual fix (9249)\")\n",
    "manual_data_fin= data_fin[data_fin['pmt'].isin(manual_channels)]\n",
    "plt.scatter(manual_data_fin['pmt'],manual_data_fin['q'],marker=\">\",color=\"purple\", label=\"Final (9271)\")\n",
    "\n",
    "plt.axhline(y=0.45, color=\"red\", linestyle='dotted')\n",
    "plt.legend()\n",
    "plt.xlabel(\"PMT channel ID\")\n",
    "plt.ylabel(\"Gains [10^7 electrons]\")\n",
    "plt.grid()\n",
    "plt.xlim((0.0, 359))\n",
    "\n",
    "\n",
    "print(manual_channels)"
   ]
  },
  {
   "cell_type": "code",
   "execution_count": null,
   "id": "900c47b6",
   "metadata": {},
   "outputs": [],
   "source": [
    "file0 = srcpath +\"backgroundphotons_run9271_1671126368.csv\"\n",
    "file1 = srcpath +\"backgroundphotons_run9383_1673718128.csv\"\n",
    "\n",
    "data_pre = getDataFrame(file0, offPMTs, False)\n",
    "data_after = getDataFrame(file1, offPMTs, False)\n",
    "\n",
    "plt.scatter(data_pre['pmt'],data_pre['q'],marker=\"o\", alpha=0.5, label=\"Run 9271\")\n",
    "plt.scatter(data_after['pmt'],data_after['q'],marker=\"o\",color=\"orange\", label=\"Run 9383\")\n",
    "\n",
    "plt.axhline(y=0.45, color=\"red\", linestyle='dotted')\n",
    "plt.legend()\n",
    "plt.xlabel(\"PMT channel ID\")\n",
    "plt.ylabel(\"Gains [10^7 electrons]\")\n",
    "plt.grid()\n",
    "plt.xlim((0.0, 359))"
   ]
  },
  {
   "cell_type": "code",
   "execution_count": null,
   "id": "d92db729",
   "metadata": {},
   "outputs": [],
   "source": [
    "file1 = srcpath +\"backgroundphotons2_run10040_1688172066.csv\"\n",
    "file2 = srcpath +\"backgroundphotons_run10040_1688176609.csv\"\n",
    "file3 = srcpath +\"backgroundphotons_run10058_1688574998.csv\"\n",
    "file4 = srcpath +\"backgroundphotons_run10097_1689213284.csv\"\n",
    "\n",
    "data1 = getDataFrame(file1, offPMTs, False)\n",
    "data2 = getDataFrame(file2, offPMTs, False)\n",
    "data3 = getDataFrame(file3, offPMTs, False)\n",
    "data4 = getDataFrame(file4, offPMTs, False)"
   ]
  },
  {
   "cell_type": "code",
   "execution_count": null,
   "id": "27881693",
   "metadata": {},
   "outputs": [],
   "source": [
    "plt.scatter(data1['pmt'],data1['q'],marker=\"o\", label=\"10040 - new \")\n",
    "plt.scatter(data2['pmt'],data2['q'],marker=\"o\", label=\"10040 - old\")\n",
    "#plt.scatter(data3['pmt'],data3['q'],marker=\"o\", alpha=0.5, label=\"10058\")\n",
    "#plt.scatter(data4['pmt'],data3['q'],marker=\"o\", alpha=0.5, label=\"10097\")\n",
    "\n",
    "plt.axhline(y=0.45, color=\"red\", linestyle='dotted')\n",
    "plt.legend()\n",
    "plt.xlabel(\"PMT channel ID\")\n",
    "plt.ylabel(\"Gains [10^7 electrons]\")\n",
    "plt.grid()\n",
    "plt.xlim((0.0, 359))\n",
    "plt.ylim((0.3, 0.5))"
   ]
  },
  {
   "cell_type": "code",
   "execution_count": null,
   "id": "14100f06",
   "metadata": {},
   "outputs": [],
   "source": [
    "fitOutput1  = fitGainsDistribution( data1, BINSIZE=0.005,RMIN=0.0,RMAX=1.0, p0=(0.4, 0.04) )\n",
    "fitOutput2  = fitGainsDistribution( data2, BINSIZE=0.005,RMIN=0.0,RMAX=1.0, p0=(0.4, 0.04) )\n",
    "#fitOutput3  = fitGainsDistribution( data3, BINSIZE=0.005,RMIN=0.0,RMAX=1.0, p0=(0.4, 0.04) )\n",
    "#fitOutput4  = fitGainsDistribution( data4, BINSIZE=0.005,RMIN=0.0,RMAX=1.0, p0=(0.4, 0.04) )\n",
    "\n",
    "fig = plt.figure(figsize=(10, 5))\n",
    "plt.xlim((0.3, 0.6))\n",
    "plt = makeplot(timestamp, figpath+\"gain_1hist_\"+str(run)+\".pdf\", *fitOutput1 )\n",
    "plt = makeplot(timestamp, figpath+\"gain_2hist_\"+str(run)+\".pdf\", *fitOutput2 )\n",
    "#plt = makeplot(timestamp, figpath+\"gain_3hist_\"+str(run)+\".pdf\", *fitOutput3 )\n",
    "#plt = makeplot(timestamp, figpath+\"gain_4hist_\"+str(run)+\".pdf\", *fitOutput4 )\n",
    "\n",
    "plt.savefig(\"runs_diff_files.png\", dpi=900)"
   ]
  },
  {
   "cell_type": "code",
   "execution_count": null,
   "id": "9d0786eb",
   "metadata": {},
   "outputs": [],
   "source": []
  }
 ],
 "metadata": {
  "kernelspec": {
   "display_name": "Python 3 (ipykernel)",
   "language": "python",
   "name": "python3"
  },
  "language_info": {
   "codemirror_mode": {
    "name": "ipython",
    "version": 3
   },
   "file_extension": ".py",
   "mimetype": "text/x-python",
   "name": "python",
   "nbconvert_exporter": "python",
   "pygments_lexer": "ipython3",
   "version": "3.9.2"
  }
 },
 "nbformat": 4,
 "nbformat_minor": 5
}
