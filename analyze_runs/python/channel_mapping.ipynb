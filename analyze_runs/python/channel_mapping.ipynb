{
 "cells": [
  {
   "cell_type": "code",
   "execution_count": 25,
   "id": "6e073928",
   "metadata": {},
   "outputs": [
    {
     "name": "stdout",
     "output_type": "stream",
     "text": [
      "     pmt_id hv_cable_label signal_cable_label digitizer_label  \\\n",
      "182     166         B28-06             A35-06        WE-BOT-B   \n",
      "\n",
      "     digitizer_ch_number hv_supply_label  hv_supply_ch_number  channel_id  \n",
      "182                   11        PMT1-RA4                   26         195  \n",
      "290 79\n",
      "222 139\n",
      "254 106\n",
      "309 58\n",
      "143 212\n",
      "302 51\n",
      "---\n",
      "353 2\n",
      "340 29\n",
      "111 240\n",
      "---\n",
      "238 124\n",
      "230 131\n",
      "192 169\n",
      "1 358\n"
     ]
    }
   ],
   "source": [
    "import numpy as np\n",
    "import pandas as pd\n",
    "\n",
    "import matplotlib.pyplot as plt\n",
    "from matplotlib.dates import DateFormatter\n",
    "\n",
    "\n",
    "from helpers import *\n",
    "from gaussfit import *\n",
    "\n",
    "channel_to_check = [2, 47, 58, 85, 88, 51, 263, 29, 240, 297]\n",
    "geo=readSqlitedb()\n",
    "\n",
    "var=[\"pmt_id\", \"hv_cable_label\", \"signal_cable_label\", \"digitizer_label\", \"digitizer_ch_number\", \"hv_supply_label\", \"hv_supply_ch_number\", \"channel_id\"]\n",
    "print( geo[ geo.channel_id==195][var] )\n",
    "#print( geo[ geo.channel_id==29][var] )\n",
    "#print( geo[ geo.channel_id==240][var] )\n",
    "#print( geo[ geo.channel_id==297][var] )\n",
    "\n",
    "for checkme in [290, 222, 254, 309, 143, 302]: #[353, 340, 111] #[238, 230. 192, 1]\n",
    "    print(checkme, geo[ geo.pmt_id==checkme].channel_id.values[0] )\n",
    "print(\"---\")\n",
    "for checkme in [353, 340, 111]: \n",
    "    print(checkme, geo[ geo.pmt_id==checkme].channel_id.values[0] )\n",
    "print(\"---\")\n",
    "for checkme in [238, 230, 192, 1]: \n",
    "    print(checkme, geo[ geo.pmt_id==checkme].channel_id.values[0] )  "
   ]
  },
  {
   "cell_type": "code",
   "execution_count": 47,
   "id": "0afbbad3",
   "metadata": {},
   "outputs": [
    {
     "data": {
      "text/plain": [
       "300     1\n",
       "301     6\n",
       "302     0\n",
       "303    12\n",
       "304     7\n",
       "305     2\n",
       "306    13\n",
       "307     9\n",
       "308     3\n",
       "309     8\n",
       "310     5\n",
       "311    10\n",
       "312     4\n",
       "313    14\n",
       "314    11\n",
       "Name: digitizer_ch_number, dtype: int64"
      ]
     },
     "execution_count": 47,
     "metadata": {},
     "output_type": "execute_result"
    }
   ],
   "source": [
    "geo[geo.digitizer_label==\"EE-TOP-C\"].digitizer_ch_number"
   ]
  },
  {
   "cell_type": "code",
   "execution_count": null,
   "id": "c575efc0",
   "metadata": {},
   "outputs": [],
   "source": []
  }
 ],
 "metadata": {
  "kernelspec": {
   "display_name": "Python 3 (ipykernel)",
   "language": "python",
   "name": "python3"
  },
  "language_info": {
   "codemirror_mode": {
    "name": "ipython",
    "version": 3
   },
   "file_extension": ".py",
   "mimetype": "text/x-python",
   "name": "python",
   "nbconvert_exporter": "python",
   "pygments_lexer": "ipython3",
   "version": "3.9.2"
  }
 },
 "nbformat": 4,
 "nbformat_minor": 5
}
