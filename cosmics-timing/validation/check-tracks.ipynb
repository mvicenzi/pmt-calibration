{
 "cells": [
  {
   "cell_type": "code",
   "execution_count": null,
   "metadata": {},
   "outputs": [],
   "source": [
    "import uproot\n",
    "import pandas as pd\n",
    "import numpy as np\n",
    "import matplotlib.pyplot as plt\n",
    "from scipy import stats\n",
    "\n",
    "from datetime import datetime\n",
    "date = datetime.today().strftime('%Y%m%d')"
   ]
  },
  {
   "cell_type": "code",
   "execution_count": null,
   "metadata": {},
   "outputs": [],
   "source": [
    "def loadSingleFile( tfile, treename):\n",
    "    ttree = uproot.open(tfile)\n",
    "    data = ttree[treename].arrays(library=\"pd\")\n",
    "    return data\n",
    "\n",
    "def getData(RUN, PATH=\"/exp/icarus/data/users/mvicenzi/pmt-calibration/track_matches/\", new=False):\n",
    "\n",
    "    FILENAME = PATH + \"run{}_matched_light_tracks.root\".format(RUN)\n",
    "    dfw = loadSingleFile(FILENAME, \"trackLightMatchW\")\n",
    "    dfe = loadSingleFile(FILENAME, \"trackLightMatchE\")\n",
    "    df = pd.concat([dfe, dfw])\n",
    "\n",
    "    print(\"{}: considering {} track-flash matches\".format( RUN, len(df) ) )\n",
    "\n",
    "    del dfw\n",
    "    del dfe\n",
    "    return df\n",
    "\n",
    "def getDataNEW(RUN, PATH=\"/exp/icarus/data/users/mvicenzi/pmt-calibration/track_matches/\"):\n",
    "\n",
    "    FILENAME = PATH + \"run{}NEW_matched_light_tracks.root\".format(RUN)\n",
    "    dfw = loadSingleFile(FILENAME, \"trackLightMatchW\")\n",
    "    dfe = loadSingleFile(FILENAME, \"trackLightMatchE\")\n",
    "    df = pd.concat([dfe, dfw])\n",
    "\n",
    "    print(\"{}: considering {} track-flash matches\".format( RUN, len(df) ) )\n",
    "\n",
    "    del dfw\n",
    "    del dfe\n",
    "    return df"
   ]
  },
  {
   "cell_type": "code",
   "execution_count": null,
   "metadata": {},
   "outputs": [],
   "source": [
    "df11813 = getData(11813)\n",
    "df11816 = getData(11816)\n",
    "df11816NEW = getDataNEW(11816)\n",
    "df8552 = getData(8552)\n",
    "df9337 = getData(9337)\n",
    "df9441 = getData(9441)"
   ]
  },
  {
   "cell_type": "code",
   "execution_count": null,
   "metadata": {},
   "outputs": [],
   "source": [
    "df12014 = getData(12014)\n",
    "df11831 = getData(11831)\n",
    "df11873 = getData(11873)\n",
    "df11949 = getData(11949)"
   ]
  },
  {
   "cell_type": "code",
   "execution_count": null,
   "metadata": {},
   "outputs": [],
   "source": [
    "df11843 = getData(11843)\n",
    "df11933 = getData(11933)"
   ]
  },
  {
   "cell_type": "code",
   "execution_count": null,
   "metadata": {},
   "outputs": [],
   "source": [
    "df9441.head()"
   ]
  },
  {
   "cell_type": "code",
   "execution_count": null,
   "metadata": {},
   "outputs": [],
   "source": [
    "def plot_3D(df, RUN):    \n",
    "    \n",
    "    fig, ax = plt.subplots(1,2, figsize=(12, 4.3),dpi=200)\n",
    "\n",
    "    ax[0].plot( [df.track_end_z, df.track_start_z], [df.track_end_y, df.track_start_y], color='black', lw=0.1 )\n",
    "    ax[0].axhline(y=125., linestyle=\"dashed\")\n",
    "    ax[0].axhline(y=-175., linestyle=\"dashed\")\n",
    "\n",
    "    ax[1].axvline(x=209., linestyle=\"dotted\", color=\"C1\", label=\"Cathode\")\n",
    "    ax[1].axvline(x=-209., linestyle=\"dotted\", color=\"C1\")\n",
    "    ax[1].plot( [df.track_end_x, df.track_start_x], [df.track_end_y, df.track_start_y], color='black', lw=0.1 )\n",
    "    ax[1].axhline(y=125., linestyle=\"dashed\")\n",
    "    ax[1].axhline(y=-175., linestyle=\"dashed\")\n",
    "\n",
    "    # consider steeper angles?\n",
    "    #_sel_dir_z= (df.track_dir_z > -0.3) & (df.track_dir_z < 0.3 ) \n",
    "    #_sel_dir_x = (df.track_dir_X > -0.1) & (df.track_dir_x < 0.1 )\n",
    "    #_seldir= _sel_dir_z\n",
    "    #ax[0].plot( [dfmatches[_seldir].track_end_z, dfmatches[_seldir].track_start_z], [dfmatches[_seldir].track_end_y, dfmatches[_seldir].track_start_y], color='red', lw=0.1 )\n",
    "    #ax[1].plot( [dfmatches[_seldir].track_end_x, dfmatches[_seldir].track_start_x], [dfmatches[_seldir].track_end_y, dfmatches[_seldir].track_start_y], color='red', lw=0.1 )\n",
    "    #print( len(df), len(df[_seldir]) )\n",
    "\n",
    "    ax[0].set_ylabel(\"Y [cm]\" )  \n",
    "    ax[0].set_xlabel(\"Z [cm]\" )\n",
    "    ax[0].grid(alpha=0.5)\n",
    "\n",
    "    ax[1].set_ylabel(\"Y [cm]\" )  \n",
    "    ax[1].set_xlabel(\"X [cm]\" ) \n",
    "    ax[1].grid(alpha=0.5)\n",
    "\n",
    "    watermark = r'$\\mathbf{ICARUS}\\,$ Data' +' - Run {}'.format(RUN)\n",
    "    ax[0].text(0.01, 1.05, watermark, fontsize=12, color='black', alpha=1,\n",
    "         ha='left', va='center', transform=ax[0].transAxes)\n",
    "\n",
    "    plt.legend()\n",
    "\n",
    "    # save the image as pdf!\n",
    "    #savepath = \"figs/tracks/run{}_tracks_standard_selection.pdf\".format(RUN)\n",
    "    #print(\"Saving to {}...\".format(savepath))\n",
    "    #plt.savefig(savepath,dpi=200)\n",
    "\n",
    "    plt.show()"
   ]
  },
  {
   "cell_type": "code",
   "execution_count": null,
   "metadata": {},
   "outputs": [],
   "source": [
    "plot_3D(df8552,8552)"
   ]
  },
  {
   "cell_type": "code",
   "execution_count": null,
   "metadata": {},
   "outputs": [],
   "source": [
    "plot_3D(df9337,9337)"
   ]
  },
  {
   "cell_type": "code",
   "execution_count": null,
   "metadata": {},
   "outputs": [],
   "source": [
    "def compare_histograms(column_name, lims=None, **dataframes):\n",
    "    \"\"\"\n",
    "    Compare histograms of a given column across multiple dataframes.\n",
    "    \n",
    "    Parameters:\n",
    "    column_name (str): The column to plot histograms for.\n",
    "    **dataframes: Named dataframes to compare.\n",
    "    \"\"\"\n",
    "    plt.figure(figsize=(10, 6))\n",
    "    \n",
    "    for label, df in dataframes.items():\n",
    "        if column_name in df.columns:\n",
    "            plt.hist(df[column_name], bins=50, alpha=1, label=label, density=True, histtype='step', linewidth=2, range=lims)\n",
    "        else:\n",
    "            print(f\"Warning: Column '{column_name}' not found in dataframe '{label}'.\")\n",
    "    \n",
    "    plt.xlabel(column_name)\n",
    "    plt.ylabel(\"Normalized events\")\n",
    "    plt.title(f\"Comparison of Histograms for '{column_name}'\")\n",
    "    plt.legend()\n",
    "    plt.grid(True)\n",
    "    plt.show()"
   ]
  },
  {
   "cell_type": "code",
   "execution_count": null,
   "metadata": {},
   "outputs": [],
   "source": [
    "# Example usage:\n",
    "#compare_histograms(\"track_start_x\", run11813_v09_87=df11813, run11816_v09_87=df11816, run8552=df8552, run11816_v09_90=df11816NEW, run9337=df9337, run9441=df9441, run12014=df12014, run11831=df11831, run11873=df11873, run11949=df11949 )\n",
    "#compare_histograms(\"track_start_y\", lims=(100,150), run11813_v09_87=df11813, run11816_v09_87=df11816, run11816_v09_90=df11816NEW, run8552=df8552, run9337=df9337, run9441=df9441, run12014=df12014, run11831=df11831, run11873=df11873, run11949=df11949 )\n",
    "#compare_histograms(\"track_start_z\", run11813_v09_87=df11813, run11816_v09_87=df11816, run8552=df8552, run11816_v09_90=df11816NEW, run9337=df9337, run9441=df9441,  run12014=df12014, run11831=df11831, run11873=df11873, run11949=df11949 )\n",
    "\n",
    "compare_histograms(\"track_start_x\", run9337=df9337, run11813=df11813, run11816=df11816, run11831=df11831, run11843=df11843, run11873=df11873, run11933=df11933, run11949=df11949,run12014=df12014 )\n",
    "compare_histograms(\"track_start_y\", lims=(100,150), run9337=df9337, run11813=df11813, run11816=df11816, run11831=df11831, run11843=df11843, run11873=df11873, run11933=df11933, run11949=df11949,run12014=df12014)\n",
    "compare_histograms(\"track_start_z\", run9337=df9337, run11813=df11813, run11816=df11816, run11831=df11831, run11843=df11843, run11873=df11873, run11933=df11933, run11949=df11949,run12014=df12014 )"
   ]
  },
  {
   "cell_type": "code",
   "execution_count": null,
   "metadata": {},
   "outputs": [],
   "source": [
    "#compare_histograms(\"track_end_x\", run11813_v09_87=df11813, run11816_v09_87=df11816, run8552=df8552, run11816_v09_90=df11816NEW, run9337=df9337, run9441=df9441,  run12014=df12014, run11831=df11831, run11873=df11873, run11949=df11949 )\n",
    "#compare_histograms(\"track_end_y\", lims=(-190,-160), run11813_v09_87=df11813, run11816_v09_87=df11816, run8552=df8552, run11816_v09_90=df11816NEW, run9337=df9337, run9441=df9441,  run12014=df12014, run11831=df11831, run11873=df11873, run11949=df11949 )\n",
    "#compare_histograms(\"track_end_z\", run11813_v09_87=df11813, run11816_v09_87=df11816, run8552=df8552, run11816_v09_90=df11816NEW, run9337=df9337, run9441=df9441,  run12014=df12014, run11831=df11831, run11873=df11873, run11949=df11949 )\n",
    "\n",
    "compare_histograms(\"track_end_x\", run11813=df11813, run11816=df11816, run11831=df11831, run11843=df11843, run11873=df11873, run11933=df11933, run11949=df11949,run12014=df12014)\n",
    "compare_histograms(\"track_end_y\", lims=(-190,-160), run11813=df11813, run11816=df11816, run11831=df11831, run11843=df11843, run11873=df11873, run11933=df11933, run11949=df11949,run12014=df12014 )\n",
    "compare_histograms(\"track_end_z\", run11813=df11813, run11816=df11816, run11831=df11831, run11843=df11843, run11873=df11873, run11933=df11933, run11949=df11949,run12014=df12014 )"
   ]
  },
  {
   "cell_type": "code",
   "execution_count": null,
   "metadata": {},
   "outputs": [],
   "source": [
    "#compare_histograms(\"track_length\", lims=(200,800),run11813_v09_87=df11813, run11816_v09_87=df11816, run8552=df8552, run11816_v09_90=df11816NEW, run9337=df9337, run9441=df9441, run11831=df11831, run11873=df11873, run11949=df11949 )\n",
    "\n",
    "compare_histograms(\"track_length\", lims=(200,800), run11813=df11813, run11816=df11816, run11831=df11831, run11843=df11843, run11873=df11873, run11933=df11933, run11949=df11949,run12014=df12014 )"
   ]
  },
  {
   "cell_type": "code",
   "execution_count": null,
   "metadata": {},
   "outputs": [],
   "source": [
    "compare_histograms(\"track_dir_x\", run11813_v09_87=df11813, run11816_v09_87=df11816, run8552=df8552, run11816_v09_90=df11816NEW, run9337=df9337, run9441=df9441, run12014=df12014, run11831=df11831, run11873=df11873, run11949=df11949 )\n",
    "compare_histograms(\"track_dir_y\", run11813_v09_87=df11813, run11816_v09_87=df11816, run8552=df8552, run11816_v09_90=df11816NEW, run9337=df9337, run9441=df9441, run12014=df12014, run11831=df11831, run11873=df11873, run11949=df11949 )\n",
    "compare_histograms(\"track_dir_z\", run11813_v09_87=df11813, run11816_v09_87=df11816, run8552=df8552, run11816_v09_90=df11816NEW, run9337=df9337, run9441=df9441, run12014=df12014, run11831=df11831, run11873=df11873, run11949=df11949 )"
   ]
  },
  {
   "cell_type": "code",
   "execution_count": null,
   "metadata": {},
   "outputs": [],
   "source": [
    "compare_histograms(\"track_charge_z\", lims=(200,800),run11813_v09_87=df11813, run11816_v09_87=df11816, run8552=df8552, run11816_v09_90=df11816NEW, run9337=df9337, run9441=df9441, run12014=df12014, run11831=df11831, run11873=df11873, run11949=df11949 )"
   ]
  },
  {
   "cell_type": "code",
   "execution_count": null,
   "metadata": {},
   "outputs": [],
   "source": [
    "compare_histograms(\"flash_z\", lims=(200,800),run11813_v09_87=df11813, run11816_v09_87=df11816, run8552=df8552, run11816_v09_90=df11816NEW, run9337=df9337, run9441=df9441, run12014=df12014)"
   ]
  },
  {
   "cell_type": "markdown",
   "metadata": {},
   "source": [
    "## PE CUT "
   ]
  },
  {
   "cell_type": "code",
   "execution_count": null,
   "metadata": {},
   "outputs": [],
   "source": [
    "import numpy as np\n",
    "import matplotlib.pyplot as plt\n",
    "\n",
    "def plot_multi_pe_histogram(df, run, xmin=0, xmax=600, bins=200):\n",
    "    \"\"\"\n",
    "    Plot overlaid histograms of distances between each PMT and the corresponding track,\n",
    "    for different pmt_pe cuts (0, 100, 300, 500).\n",
    "\n",
    "    Parameters:\n",
    "        df : pandas.DataFrame\n",
    "            DataFrame containing event data with the following expected columns:\n",
    "              - 'track_start_x', 'track_start_y', 'track_start_z': track starting point.\n",
    "              - 'track_dir_x', 'track_dir_y', 'track_dir_z': track direction components.\n",
    "              - 'pmt_pe': list of photoelectron counts for each PMT in the event.\n",
    "              - 'pmt_x', 'pmt_y', 'pmt_z': lists of PMT positions.\n",
    "        bins : int, optional\n",
    "            Number of bins to use for the histograms (default is 50).\n",
    "\n",
    "    Returns:\n",
    "        fig, ax : matplotlib Figure and Axes objects containing the overlaid histograms.\n",
    "    \"\"\"\n",
    "    # Define the pmt_pe thresholds\n",
    "    pe_cuts = [0, 100, 150, 200, 300, 500, 800]\n",
    "    # Dictionary to store computed distances for each cut\n",
    "    distances = {cut: [] for cut in pe_cuts}\n",
    "    \n",
    "    # Loop over each event (row) in the DataFrame\n",
    "    for _, row in df.iterrows():\n",
    "        # Extract and normalize the track direction vector\n",
    "        track_start = np.array([\n",
    "            #row['track_start_x'], \n",
    "            row['track_start_y'], \n",
    "            row['track_start_z']\n",
    "        ])\n",
    "        track_dir = np.array([\n",
    "            #row['track_dir_x'], \n",
    "            row['track_dir_y'], \n",
    "            row['track_dir_z']\n",
    "        ])\n",
    "        norm = np.linalg.norm(track_dir)\n",
    "        if norm == 0:\n",
    "            continue  # Skip events with an invalid track direction\n",
    "        track_dir = track_dir / norm\n",
    "        \n",
    "        # Extract PMT data as numpy arrays\n",
    "        pmt_pe = np.array(row['pmt_pe'])\n",
    "        #pmt_x  = np.array(row['pmt_x'])\n",
    "        pmt_y  = np.array(row['pmt_y'])\n",
    "        pmt_z  = np.array(row['pmt_z'])\n",
    "        \n",
    "        # Loop over each PMT in the event\n",
    "        for i in range(len(pmt_pe)):\n",
    "            # Compute the distance from PMT position to the track line\n",
    "            #pmt_pos = np.array([pmt_x[i], pmt_y[i], pmt_z[i]])\n",
    "            pmt_pos = np.array([pmt_y[i], pmt_z[i]])\n",
    "            vec = pmt_pos - track_start\n",
    "            proj_length = np.dot(vec, track_dir)\n",
    "            proj = proj_length * track_dir\n",
    "            perp = vec - proj\n",
    "            distance = np.linalg.norm(perp)\n",
    "            \n",
    "            # Append the distance to the list for each applicable pmt_pe threshold\n",
    "            for cut in pe_cuts:\n",
    "                if pmt_pe[i] >= cut:\n",
    "                    distances[cut].append(distance)\n",
    "    \n",
    "    # Create the plot with histograms for each pmt_pe cut\n",
    "    fig, ax = plt.subplots(figsize=(8, 6))\n",
    "    for idx, cut in enumerate(pe_cuts):\n",
    "        ax.hist(distances[cut], bins=bins, range=(xmin,xmax),histtype='step', linewidth=2, density=True, label=f'pmt_pe ≥ {cut}')\n",
    "    \n",
    "    ax.set_xlabel('Distance [cm]')\n",
    "    ax.set_ylabel('# of channels')\n",
    "    ax.set_title(\"Run {}\".format(run))\n",
    "    ax.grid(linestyle=\"dashed\",alpha=0.5)\n",
    "    ax.legend()\n",
    "    plt.tight_layout()\n",
    "    \n",
    "    return fig, ax\n",
    "\n",
    "# Example usage:\n",
    "# fig, ax = plot_multi_pe_histogram(your_dataframe, bins=50)\n",
    "# plt.show()\n"
   ]
  },
  {
   "cell_type": "code",
   "execution_count": null,
   "metadata": {},
   "outputs": [],
   "source": [
    "fig, ax = plot_multi_pe_histogram(df8552, 8552, bins=300)\n",
    "plt.show()"
   ]
  },
  {
   "cell_type": "code",
   "execution_count": null,
   "metadata": {},
   "outputs": [],
   "source": [
    "fig, ax = plot_multi_pe_histogram(df12014, 12014, bins=300)\n",
    "plt.show()"
   ]
  },
  {
   "cell_type": "code",
   "execution_count": null,
   "metadata": {},
   "outputs": [],
   "source": [
    "fig, ax = plot_multi_pe_histogram(df9337, 9337, bins=300)\n",
    "plt.show()"
   ]
  }
 ],
 "metadata": {
  "kernelspec": {
   "display_name": "Python 3 (ipykernel)",
   "language": "python",
   "name": "python3"
  },
  "language_info": {
   "codemirror_mode": {
    "name": "ipython",
    "version": 3
   },
   "file_extension": ".py",
   "mimetype": "text/x-python",
   "name": "python",
   "nbconvert_exporter": "python",
   "pygments_lexer": "ipython3",
   "version": "3.9.15"
  }
 },
 "nbformat": 4,
 "nbformat_minor": 2
}
