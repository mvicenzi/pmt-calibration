{
 "cells": [
  {
   "cell_type": "code",
   "execution_count": null,
   "metadata": {},
   "outputs": [],
   "source": [
    "import uproot\n",
    "import pandas as pd\n",
    "import numpy as np\n",
    "import matplotlib.pyplot as plt\n",
    "from scipy import stats\n",
    "from scipy.optimize import curve_fit\n",
    "\n",
    "COSMICSDB = \"/exp/icarus/data/users/mvicenzi/timing-database/pmt_cosmics_timing_data/\"\n",
    "PATH = \"/exp/icarus/data/users/mvicenzi/pmt-calibration/residualsdb/\""
   ]
  },
  {
   "cell_type": "code",
   "execution_count": null,
   "metadata": {},
   "outputs": [],
   "source": [
    "def plot_comparison(f1, f2, label1, label2, b, r):\n",
    "\n",
    "    df1 = pd.read_csv(f1)\n",
    "    df2 = pd.read_csv(f2)\n",
    "\n",
    "    fig, ax = plt.subplots(1,2, figsize=(16, 5))\n",
    "    l1 = \"{}\\nMean: {:.2f} ns\\nStd: {:.2f} ns\".format(label1, np.mean(df1.mean_residual_ns),np.std(df1.mean_residual_ns))\n",
    "    l2 = \"{}\\nMean: {:.2f} ns\\nStd: {:.2f} ns\".format(label2, np.mean(df2.mean_residual_ns),np.std(df2.mean_residual_ns))\n",
    "\n",
    "    ax[0].hist(df1.mean_residual_ns, bins=b, linewidth=2, range=r, histtype=\"step\", label=l1)\n",
    "    ax[0].hist(df2.mean_residual_ns, bins=b, linewidth=2, range=r, histtype=\"step\", label=l2)\n",
    "\n",
    "    ax[0].set_xlabel(\"Time residuals [ns]\")\n",
    "    ax[0].set_ylabel(\"Number of PMTs\")\n",
    "    ax[0].grid(linestyle=\"dashed\",alpha=0.5)\n",
    "\n",
    "    channels = np.unique(df2.channel.to_numpy())\n",
    "    diff = []\n",
    "    for c in channels:\n",
    "        new=(df1[df1.channel_id==c].mean_residual_ns.values[0])\n",
    "        old=(df2[df2.channel==c].mean_residual_ns.values[0])\n",
    "        diff.append(new-old)\n",
    "    \n",
    "    print(\"There are {} channels in both files\".format(len(diff)))\n",
    "    ax[1].hist(diff, bins=b, linewidth=2, range=(-4,4), histtype=\"step\")\n",
    "    \n",
    "    ax[1].set_xlabel(\"New - old time residual [ns]\")\n",
    "    ax[1].set_ylabel(\"# of PMTs\")\n",
    "    ax[1].grid(linestyle=\"dashed\",alpha=0.5)\n",
    "\n",
    "    ax[0].legend()\n",
    "    plt.show()"
   ]
  },
  {
   "cell_type": "code",
   "execution_count": null,
   "metadata": {},
   "outputs": [],
   "source": [
    "def check_bias(f1, f2, label1, label2):\n",
    "\n",
    "    df = pd.read_csv(f1)\n",
    "    df2 = pd.read_csv(f2)\n",
    "   \n",
    "    # Verify potential presence of biases \n",
    "    fig, ax = plt.subplots(1,2, figsize=(16, 5))\n",
    "    ax[0].errorbar( x=df.y, y=df.mean_residual_ns, yerr=df.emean_ns, marker='.', elinewidth=2.0, lw=0, label=label1)\n",
    "    ax[0].errorbar( x=df2.y, y=df2.mean_residual_ns, yerr=df2.emean_ns, marker='.', elinewidth=2.0, lw=0, label=label2 )\n",
    "    ax[1].errorbar( x=df.z, y=df.mean_residual_ns, yerr=df.emean_ns, marker='.', elinewidth=2.0, lw=0 , label=label1)\n",
    "    ax[1].errorbar( x=df2.z, y=df2.mean_residual_ns, yerr=df2.emean_ns, marker='.', elinewidth=2.0, lw=0, label=label2)\n",
    "    ax[0].set_ylabel(\"Cosmics Residuals [ns]\", fontsize=16)\n",
    "    ax[1].set_ylabel(\"Cosmics Residuals [ns]\", fontsize=16)\n",
    "    ax[0].set_xlabel(\"Y position [cm]\", fontsize=16)\n",
    "    ax[1].set_xlabel(\"Z position [cm]\", fontsize=16)\n",
    "\n",
    "    plt.tight_layout()\n",
    "    ax[0].grid(alpha=0.5,linestyle=\"dashed\")    \n",
    "    ax[1].grid(alpha=0.5,linestyle=\"dashed\")\n",
    "    plt.legend()\n",
    "    plt.show()"
   ]
  },
  {
   "cell_type": "code",
   "execution_count": null,
   "metadata": {},
   "outputs": [],
   "source": [
    "# The fit function\n",
    "def gaus(x,a,mean,sigma):\n",
    "    return a*np.exp(-(x-mean)**2/(2*sigma**2))\n",
    "\n",
    "# The fit strategy\n",
    "def fitGaussian(hdf, target='mean_residual_ns', BINSIZE=0.5,RMIN=-10.0,RMAX=10., p0=(0.1, 1.)):\n",
    "\n",
    "    nbins=int((RMAX-RMIN)/BINSIZE)\n",
    "    ys,edges = np.histogram(hdf[target],bins=nbins,range=(RMIN,RMAX))\n",
    "    xs=np.array([edges[i]+0.5*(edges[i+1]-edges[i]) for i in range(len(ys))])\n",
    "\n",
    "    param = [np.max(ys), p0[0], p0[1] ]\n",
    "    bounds = np.array([(param[0]*0.5,param[0]*1.5),\n",
    "              (param[1]*0.2,param[1]*1.3),\n",
    "              (param[2]*0.1,param[2]*1.4)])\n",
    "    \n",
    "    param,pcov = curve_fit(gaus, xs, ys, p0=param, bounds=(bounds[:,0],bounds[:,1]) )\n",
    "    param_errors = np.diag(pcov)**0.5\n",
    "    \n",
    "    return xs, ys, param, param_errors"
   ]
  },
  {
   "cell_type": "code",
   "execution_count": null,
   "metadata": {},
   "outputs": [],
   "source": [
    "def plot_validation(PATH, period, run, corr):\n",
    "\n",
    "    nolaser = PATH + \"{}/run{}_residuals_nocorr.csv\".format(period, run)\n",
    "    laser =  PATH + \"{}/run{}_residuals_laseronly.csv\".format(period, run)\n",
    "    cosmics = PATH + \"{}/run{}_residuals_lasercosmics.csv\".format(period, run)\n",
    "\n",
    "    dfnolaser = pd.read_csv(nolaser).set_index([\"channel_id\"])\n",
    "    dflaser = pd.read_csv(laser).set_index([\"channel_id\"])\n",
    "    dfcosmics = pd.read_csv(cosmics).set_index([\"channel_id\"])\n",
    "\n",
    "    # Plotting residuals distribution with/without corrections\n",
    "    fig = plt.figure(figsize=(8,5),dpi=200)\n",
    "\n",
    "    rmin=-7\n",
    "    rmax=7\n",
    "    r=(rmin,rmax)\n",
    "    s=0.3\n",
    "    b=int((rmax-rmin)/s)\n",
    "\n",
    "    xs1, ys1, param1, param_errors1 = fitGaussian(dfnolaser,BINSIZE=s,RMIN=rmin,RMAX=rmax)\n",
    "    xs2, ys2, param2, param_errors2 = fitGaussian(dflaser,BINSIZE=s,RMIN=rmin,RMAX=rmax)\n",
    "    xs3, ys3, param3, param_errors3 = fitGaussian(dfcosmics,BINSIZE=s,RMIN=rmin,RMAX=rmax)\n",
    "    xss = np.arange(rmin,rmax,0.1)\n",
    "\n",
    "    ### PLOT FITS\n",
    "    l_nolaser = \"Base sample\"\n",
    "    l_nolaserf= \"$\\mu$: {:.2f} ns\\n$\\sigma$: {:.2f} ns\".format(param1[1],param1[2])\n",
    "    l_laser = \"Laser only\"\n",
    "    l_laserf = \"$\\mu$: {:.2f} ns\\n$\\sigma$: {:.2f} ns\".format(param2[1],param2[2])\n",
    "    l_cosmics = \"Laser + cosmics\"\n",
    "    l_cosmicsf = \"$\\mu$: {:.2f} ns\\n$\\sigma$: {:.2f} ns\".format(param3[1],param3[2])\n",
    "    plt.hist(dfnolaser.mean_residual_ns, bins=b, linewidth=2, range=r, histtype=\"step\", label=l_nolaser)\n",
    "    plt.plot(xss,gaus(xss,*param1),\"-.\",color=\"darkblue\",lw=3, label=l_nolaserf)\n",
    "    plt.hist(dflaser.mean_residual_ns, bins=b, linewidth=2, range=r, histtype=\"step\", label=l_laser)\n",
    "    plt.plot(xss,gaus(xss,*param2),\"-.\",color=\"red\",lw=3, label=l_laserf)\n",
    "    plt.hist(dfcosmics.mean_residual_ns, bins=b, linewidth=2, range=r, histtype=\"step\", label=l_cosmics)\n",
    "    plt.plot(xss,gaus(xss,*param3),\"-.\",color=\"darkgreen\",lw=3, label=l_cosmicsf)\n",
    "    handles, labels = plt.gca().get_legend_handles_labels()\n",
    "    order = [0,1,2,3,4,5] ## for just 2\n",
    "    plt.legend([handles[idx] for idx in order],[labels[idx] for idx in order]) \n",
    "\n",
    "    watermark = r'$\\mathbf{ICARUS}\\,$' + 'Data\\nWork in Progress'\n",
    "    plt.text(0.02, 0.92, watermark, fontsize=14, color='blue', alpha=1,\n",
    "            ha='left', va='center', transform=plt.gca().transAxes)\n",
    "\n",
    "    plt.xlabel(\"Time residuals [ns]\",fontsize=12)\n",
    "    plt.ylabel(\"Number of PMTs\",fontsize=12)\n",
    "    plt.title(\"Run {} with {} corrections\".format(run,corr))\n",
    "\n",
    "    plt.grid(linestyle=\"dashed\",alpha=0.5)\n",
    "    #name = \"figs/run{}_base_vs_laseronly_vs_lasercosmics_w{}\".format(run,corr)\n",
    "    #plt.savefig(name+\".pdf\",dpi=200)\n",
    "    plt.show()\n"
   ]
  },
  {
   "cell_type": "markdown",
   "metadata": {},
   "source": [
    "### 8461: Compare old vs new cosmics corrections\n",
    "Comparing both the residuals themselves, as well as their effect on validation samples.\n",
    "if improvements across the board, replace in database with new values.\n",
    "Need also to check dependance vs z,y...\n",
    "\n",
    "Validation runs:\n",
    "- 8552"
   ]
  },
  {
   "cell_type": "code",
   "execution_count": null,
   "metadata": {},
   "outputs": [],
   "source": [
    "f1 = PATH + \"Run_1/run8461_residuals_laseronly.csv\"\n",
    "f2 = COSMICSDB + \"pmt_cosmics_timing_data_run08046_from8461.csv\"\n",
    "\n",
    "rmin=-10\n",
    "rmax=10\n",
    "r=(rmin,rmax)\n",
    "s=0.3\n",
    "b=int((rmax-rmin)/s)\n",
    "plot_comparison(f1, f2, \"New 8461 corr.\", \"Old 8461 corr.\",b,r)\n",
    "check_bias(f1, f2, \"New 8461 corr.\", \"Old 8461 corr.\")"
   ]
  },
  {
   "cell_type": "code",
   "execution_count": null,
   "metadata": {},
   "outputs": [],
   "source": [
    "plot_validation(PATH,\"Run_1\",8552,8461)"
   ]
  },
  {
   "cell_type": "code",
   "execution_count": null,
   "metadata": {},
   "outputs": [],
   "source": [
    "laser =  PATH + \"Run_1/run8552_residuals_laseronly.csv\"\n",
    "cosmics = PATH + \"Run_1/run8552_residuals_lasercosmics.csv\"\n",
    "check_bias(laser, cosmics, \"laser corrected\", \"cosmics corrected\")"
   ]
  },
  {
   "cell_type": "markdown",
   "metadata": {},
   "source": [
    "## 9337"
   ]
  },
  {
   "cell_type": "code",
   "execution_count": null,
   "metadata": {},
   "outputs": [],
   "source": [
    "f1 = PATH + \"Run_2/run9337_residuals_laseronly.csv\"\n",
    "f2 = COSMICSDB + \"pmt_cosmics_timing_data_run09301_from9337.csv\"\n",
    "\n",
    "rmin=-10\n",
    "rmax=10\n",
    "r=(rmin,rmax)\n",
    "s=0.3\n",
    "b=int((rmax-rmin)/s)\n",
    "plot_comparison(f1, f2, \"New 9337 corr.\", \"Old 9337 corr.\",b,r)\n",
    "check_bias(f1, f2, \"New 9337 corr.\", \"Old 9337 corr.\")"
   ]
  },
  {
   "cell_type": "code",
   "execution_count": null,
   "metadata": {},
   "outputs": [],
   "source": [
    "plot_validation(PATH, \"Run_2\", 9441, 9337)\n",
    "plot_validation(PATH, \"Run_2\", 9595, 9337)"
   ]
  },
  {
   "cell_type": "code",
   "execution_count": null,
   "metadata": {},
   "outputs": [],
   "source": [
    "laser =  PATH + \"Run_2/run9441_residuals_laseronly.csv\"\n",
    "cosmics = PATH + \"Run_2/run9441_residuals_lasercosmics.csv\"\n",
    "check_bias(laser, cosmics, \"laser corrected\", \"cosmics corrected\")"
   ]
  },
  {
   "cell_type": "markdown",
   "metadata": {},
   "source": [
    "## 9730"
   ]
  },
  {
   "cell_type": "code",
   "execution_count": null,
   "metadata": {},
   "outputs": [],
   "source": [
    "f1 = PATH + \"Run_2/run9730_residuals_laseronly.csv\"\n",
    "f2 = COSMICSDB + \"pmt_cosmics_timing_data_run09628_from9730.csv\"\n",
    "\n",
    "rmin=-10\n",
    "rmax=10\n",
    "r=(rmin,rmax)\n",
    "s=0.3\n",
    "b=int((rmax-rmin)/s)\n",
    "plot_comparison(f1, f2, \"New 9730 corr.\", \"Old 9730 corr.\",b,r)\n",
    "check_bias(f1, f2, \"New 9730 corr.\", \"Old 9730 corr.\")"
   ]
  },
  {
   "cell_type": "code",
   "execution_count": null,
   "metadata": {},
   "outputs": [],
   "source": [
    "plot_validation(PATH,\"Run_2\",9688,9730)\n",
    "plot_validation(PATH,\"Run_2\",9764,9730)"
   ]
  },
  {
   "cell_type": "markdown",
   "metadata": {},
   "source": [
    "## 10085"
   ]
  },
  {
   "cell_type": "code",
   "execution_count": null,
   "metadata": {},
   "outputs": [],
   "source": [
    "f1 = PATH + \"Run_2/run10085_residuals_laseronly.csv\"\n",
    "f2 = COSMICSDB + \"pmt_cosmics_timing_data_run09773_from10085.csv\"\n",
    "\n",
    "rmin=-10\n",
    "rmax=10\n",
    "r=(rmin,rmax)\n",
    "s=0.3\n",
    "b=int((rmax-rmin)/s)\n",
    "plot_comparison(f1, f2, \"New 10085 corr.\", \"Old 10085 corr.\",b,r)\n",
    "check_bias(f1, f2, \"New 10085 corr.\", \"Old 10085 corr.\")"
   ]
  },
  {
   "cell_type": "code",
   "execution_count": null,
   "metadata": {},
   "outputs": [],
   "source": [
    "plot_validation(PATH,\"Run_2\",9840,10085)\n",
    "plot_validation(PATH,\"Run_2\",9974,10085)"
   ]
  },
  {
   "cell_type": "code",
   "execution_count": null,
   "metadata": {},
   "outputs": [],
   "source": [
    "laser =  PATH + \"Run_2/run9974_residuals_laseronly.csv\"\n",
    "cosmics = PATH + \"Run_2/run9974_residuals_lasercosmics.csv\"\n",
    "check_bias(laser, cosmics, \"laser corrected\", \"cosmics corrected\")"
   ]
  },
  {
   "cell_type": "markdown",
   "metadata": {},
   "source": [
    "## 12014"
   ]
  },
  {
   "cell_type": "code",
   "execution_count": null,
   "metadata": {},
   "outputs": [],
   "source": [
    "plot_validation(PATH,\"Run_3\",11813,12014)\n",
    "plot_validation(PATH,\"Run_3\",11816,12014)\n",
    "plot_validation(PATH,\"Run_3\",11831,12014)\n",
    "plot_validation(PATH,\"Run_3\",11843,12014)\n",
    "plot_validation(PATH,\"Run_3\",11873,12014)\n",
    "plot_validation(PATH,\"Run_3\",11933,12014)\n",
    "plot_validation(PATH,\"Run_3\",11949,12014)"
   ]
  },
  {
   "cell_type": "code",
   "execution_count": null,
   "metadata": {},
   "outputs": [],
   "source": [
    "laser =  PATH + \"Run_3/run11949_residuals_laseronly.csv\"\n",
    "cosmics = PATH + \"Run_3/run11949_residuals_lasercosmics.csv\"\n",
    "check_bias(laser, cosmics, \"laser corrected\", \"cosmics corrected\")"
   ]
  },
  {
   "cell_type": "code",
   "execution_count": null,
   "metadata": {},
   "outputs": [],
   "source": [
    "laser =  PATH + \"Run_3/run11813_residuals_laseronly.csv\"\n",
    "cosmics = PATH + \"Run_3/run11813_residuals_lasercosmics.csv\"\n",
    "check_bias(laser, cosmics, \"laser corrected\", \"cosmics corrected\")"
   ]
  },
  {
   "cell_type": "code",
   "execution_count": null,
   "metadata": {},
   "outputs": [],
   "source": []
  }
 ],
 "metadata": {
  "kernelspec": {
   "display_name": "Python 3 (ipykernel)",
   "language": "python",
   "name": "python3"
  },
  "language_info": {
   "codemirror_mode": {
    "name": "ipython",
    "version": 3
   },
   "file_extension": ".py",
   "mimetype": "text/x-python",
   "name": "python",
   "nbconvert_exporter": "python",
   "pygments_lexer": "ipython3",
   "version": "3.9.15"
  }
 },
 "nbformat": 4,
 "nbformat_minor": 2
}
