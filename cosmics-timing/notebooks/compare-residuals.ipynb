{
 "cells": [
  {
   "cell_type": "code",
   "execution_count": null,
   "id": "7b69dbdd",
   "metadata": {},
   "outputs": [],
   "source": [
    "import uproot3 as uproot\n",
    "import pandas as pd\n",
    "import numpy as np\n",
    "import matplotlib.pyplot as plt\n",
    "from scipy import stats"
   ]
  },
  {
   "cell_type": "code",
   "execution_count": null,
   "id": "8ccdf169",
   "metadata": {},
   "outputs": [],
   "source": [
    "## Import files with residuals\n",
    "nolaser = \"../output/residuals/run8552_cosmics_timing_residuals_20230725_noLaser.csv\"\n",
    "laser =  \"../output/residuals/run8552_cosmics_timing_residuals_20230725.csv\"\n",
    "cosmics = \"../output/residuals/run8552_cosmics_timing_residuals_20230725_CORRw8461.csv\"\n",
    "#cosmics = \"../output/residuals/run8437_cosmics_timing_residuals_20230715_CORRw8413.csv\""
   ]
  },
  {
   "cell_type": "code",
   "execution_count": null,
   "id": "b0000388",
   "metadata": {},
   "outputs": [],
   "source": [
    "dfnolaser = pd.read_csv(nolaser).set_index([\"channel_id\"])\n",
    "dflaser = pd.read_csv(laser).set_index([\"channel_id\"])\n",
    "dfcosmics = pd.read_csv(cosmics).set_index([\"channel_id\"])"
   ]
  },
  {
   "cell_type": "code",
   "execution_count": null,
   "id": "7526d9bf",
   "metadata": {},
   "outputs": [],
   "source": [
    "len(dfcosmics)\n",
    "dfcosmics.head()"
   ]
  },
  {
   "cell_type": "markdown",
   "id": "25cf6bc8",
   "metadata": {},
   "source": [
    "## Comparison between before/after corrections"
   ]
  },
  {
   "cell_type": "code",
   "execution_count": null,
   "id": "bfda67e7",
   "metadata": {},
   "outputs": [],
   "source": [
    "## Plotting residuals distribution with/without corrections\n",
    "fig = plt.figure(figsize=(10,5),dpi=100)\n",
    "\n",
    "rmin=-10\n",
    "rmax=10\n",
    "r=(rmin,rmax)\n",
    "s=0.5\n",
    "b=int((rmax-rmin)/s)\n",
    "\n",
    "l_nolaser = \"Base sample\\nMean: {:.2f} ns\\nStd: {:.2f} ns\".format(np.mean(dfnolaser.mean_residual_ns),np.std(dfnolaser.mean_residual_ns))\n",
    "l_laser = \"Laser only\\nMean: {:.2f} ns\\nStd: {:.2f} ns\".format(np.mean(dflaser.mean_residual_ns),np.std(dflaser.mean_residual_ns))\n",
    "l_cosmics = \"Laser + cosmics\\nMean: {:.2f} ns\\nStd: {:.2f} ns\".format(np.mean(dfcosmics.mean_residual_ns),np.std(dfcosmics.mean_residual_ns))\n",
    "\n",
    "plt.hist(dfnolaser.mean_residual_ns, bins=b, linewidth=2, range=r, histtype=\"step\", label=l_nolaser)\n",
    "plt.hist(dflaser.mean_residual_ns, bins=b, linewidth=2, range=r, histtype=\"step\", label=l_laser)\n",
    "plt.hist(dfcosmics.mean_residual_ns, bins=b, linewidth=2, range=r, histtype=\"step\", label=l_cosmics)\n",
    "\n",
    "plt.xlabel(\"Time residuals [ns]\")\n",
    "plt.ylabel(\"Number of PMTs\")\n",
    "plt.title(\"ICARUS Run 1 - PMT Timing Equalization\")\n",
    "plt.legend()\n",
    "plt.grid(linestyle=\"dashed\",alpha=0.5)\n",
    "#plt.savefig(\"../figs/run8552_validation_CORRw8461\",dpi=100)\n",
    "plt.show()"
   ]
  },
  {
   "cell_type": "markdown",
   "id": "1d1c69ce",
   "metadata": {},
   "source": [
    "## Comparison between laser/cosmics residuals"
   ]
  },
  {
   "cell_type": "code",
   "execution_count": null,
   "id": "4ba4bd4d",
   "metadata": {},
   "outputs": [],
   "source": [
    "LASERCORR=\"../inputs/laser_time_corrections_20220408.csv\"\n",
    "COSMICSCORR=\"../output/residuals/run8461_cosmics_timing_residuals_20230725.csv\"\n",
    "VOLTAGE=\"../inputs/pmt_voltage_20220408.csv\"\n",
    "lasercorr = pd.read_csv(LASERCORR).set_index([\"channel_id\"])\n",
    "voltage = pd.read_csv(VOLTAGE).set_index([\"channel_id\"])\n",
    "thisdfg = pd.read_csv(COSMICSCORR).set_index([\"channel_id\"])\n",
    "thisdfg = thisdfg.join( lasercorr[[\"t_signal\", \"A\", \"B\", \"C\"]], on=\"channel_id\" ) \n",
    "thisdfg = thisdfg.join( voltage, on=\"channel_id\" ) \n",
    "thisdfg[\"laser_res\"] = thisdfg.apply( lambda x : x.t_signal-(x.A+x.B*np.power(x.voltage, x.C) ) , axis=1)"
   ]
  },
  {
   "cell_type": "code",
   "execution_count": null,
   "id": "f2ce5f93",
   "metadata": {},
   "outputs": [],
   "source": [
    "# Verify potential presence of biases \n",
    "fig, ax = plt.subplots(1,2, figsize=(16, 5))\n",
    "ax[0].errorbar( x=thisdfg.y, y=thisdfg.mean_residual_ns, yerr=thisdfg.emean_ns, marker='.', elinewidth=2.0, lw=0 )\n",
    "ax[1].errorbar( x=thisdfg.y, y=thisdfg.laser_res, yerr=0, marker='.', elinewidth=2.0, lw=0 )\n",
    "ax[1].set_ylabel(\"Laser Residuals [ns]\", fontsize=16)\n",
    "ax[0].set_ylabel(\"Cosmics Residuals [ns]\", fontsize=16)\n",
    "ax[1].set_xlabel(\"Y position [cm]\", fontsize=16)\n",
    "ax[0].set_xlabel(\"Y position [cm]\", fontsize=16)\n",
    "plt.tight_layout()\n",
    "ax[0].grid(alpha=0.5,linestyle=\"dashed\")\n",
    "ax[1].grid(alpha=0.5,linestyle=\"dashed\")\n",
    "plt.savefig(\"../figs/run8552_validation_laserVScomics_Y.png\",dpi=100)\n",
    "plt.show()\n",
    "\n",
    "fig, ax = plt.subplots(1,2, figsize=(16, 5))\n",
    "ax[0].errorbar( x=thisdfg.z, y=thisdfg.mean_residual_ns, yerr=thisdfg.emean_ns, marker='.', elinewidth=2.0, lw=0 )\n",
    "ax[1].errorbar( x=thisdfg.z, y=thisdfg.laser_res, yerr=0, marker='.', elinewidth=2.0, lw=0 )\n",
    "ax[1].set_ylabel(\"Laser Residuals [ns]\", fontsize=16)\n",
    "ax[0].set_ylabel(\"Cosmics Residuals [ns]\", fontsize=16)\n",
    "ax[1].set_xlabel(\"Z position [cm]\", fontsize=16)\n",
    "ax[0].set_xlabel(\"Z position [cm]\", fontsize=16)\n",
    "plt.tight_layout()\n",
    "ax[0].grid(alpha=0.5,linestyle=\"dashed\")\n",
    "ax[1].grid(alpha=0.5,linestyle=\"dashed\")\n",
    "plt.savefig(\"../figs/run8552_validation_laserVScomics_Z.png\",dpi=100)\n",
    "plt.show()\n",
    "\n",
    "# plot them togheter\n",
    "fig, ax = plt.subplots(1,1, figsize=(8, 5))\n",
    "ax.errorbar( x=thisdfg.mean_residual_ns, y=thisdfg.laser_res, yerr=0, marker='o', elinewidth=2.0, lw=0, alpha=0.5 )\n",
    "ax.set_ylabel(\"Laser Residuals [ns]\", fontsize=16)\n",
    "ax.set_xlabel(\"Cosmics Residuals [ns]\", fontsize=16)\n",
    "\n",
    "plt.tight_layout()\n",
    "plt.grid(alpha=0.5,linestyle=\"dashed\")\n",
    "plt.savefig(\"../figs/run8552_validation_laserVScomics_2Dscatter.png\",dpi=100)\n",
    "plt.show()"
   ]
  },
  {
   "cell_type": "code",
   "execution_count": null,
   "id": "6d16611b",
   "metadata": {},
   "outputs": [],
   "source": [
    "thisdfg[thisdfg.mean_residual_ns<-2].head()"
   ]
  },
  {
   "cell_type": "markdown",
   "id": "79f0d1ef",
   "metadata": {},
   "source": [
    "## Compare statistics"
   ]
  },
  {
   "cell_type": "code",
   "execution_count": null,
   "id": "c0bc9cc9",
   "metadata": {},
   "outputs": [],
   "source": [
    "f1 = \"../output/residuals/run8460_cosmics_timing_residuals_20230725.csv\"\n",
    "f2 = \"../output/residuals/run8461_cosmics_timing_residuals_20230725.csv\"\n",
    "f3 = \"../output/residuals/run8462_cosmics_timing_residuals_20230725.csv\"\n",
    "f4 = \"../output/residuals/run8552_cosmics_timing_residuals_20230725.csv\"\n",
    "\n",
    "df1 = pd.read_csv(f1)\n",
    "df2 = pd.read_csv(f2)\n",
    "df3 = pd.read_csv(f3)\n",
    "df4 = pd.read_csv(f4)\n",
    "\n",
    "fig = plt.figure(figsize=(10,5),dpi=100)\n",
    "\n",
    "l1 = \"Run 8460\\nMean: {:.2f} ns\\nStd: {:.2f} ns\".format(np.mean(df1.mean_residual_ns),np.std(df1.mean_residual_ns))\n",
    "l2 = \"Run 8461\\nMean: {:.2f} ns\\nStd: {:.2f} ns\".format(np.mean(df2.mean_residual_ns),np.std(df2.mean_residual_ns))\n",
    "l3 = \"Run 8462\\nMean: {:.2f} ns\\nStd: {:.2f} ns\".format(np.mean(df3.mean_residual_ns),np.std(df3.mean_residual_ns))\n",
    "l4 = \"Run 8552\\nMean: {:.2f} ns\\nStd: {:.2f} ns\".format(np.mean(df4.mean_residual_ns),np.std(df4.mean_residual_ns))\n",
    "\n",
    "plt.hist(df1.mean_residual_ns, bins=b, linewidth=2, range=r, histtype=\"step\", label=l1)\n",
    "plt.hist(df2.mean_residual_ns, bins=b, linewidth=2, range=r, histtype=\"step\", label=l2)\n",
    "plt.hist(df3.mean_residual_ns, bins=b, linewidth=2, range=r, histtype=\"step\", label=l3)\n",
    "plt.hist(df4.mean_residual_ns, bins=b, linewidth=2, range=r, histtype=\"step\", label=l4)\n",
    "plt.xlabel(\"Time residuals [ns]\")\n",
    "plt.ylabel(\"Number of PMTs\")\n",
    "plt.legend()\n",
    "plt.grid(linestyle=\"dashed\",alpha=0.5)\n",
    "plt.show()"
   ]
  },
  {
   "cell_type": "code",
   "execution_count": null,
   "id": "a966a3eb",
   "metadata": {},
   "outputs": [],
   "source": [
    "fig = plt.figure(figsize=(10,5),dpi=100)\n",
    "\n",
    "l1 = \"Run 8460\"\n",
    "l2 = \"Run 8461\"\n",
    "l3 = \"Run 8462\"\n",
    "l4 = \"Run 8552\"\n",
    "plt.hist(df1.entries, linewidth=2, histtype=\"step\", label=l1)\n",
    "plt.hist(df2.entries, linewidth=2, histtype=\"step\", label=l2)\n",
    "plt.hist(df3.entries, linewidth=2, histtype=\"step\", label=l3)\n",
    "plt.hist(df4.entries, linewidth=2, histtype=\"step\", label=l4)\n",
    "plt.xlabel(\"Entries per channel\")\n",
    "plt.ylabel(\"Number of PMTs\")\n",
    "plt.legend()\n",
    "plt.grid(linestyle=\"dashed\",alpha=0.5)\n",
    "plt.show()"
   ]
  },
  {
   "cell_type": "markdown",
   "id": "9bda79db",
   "metadata": {},
   "source": [
    "## Test old file cuts from Andrea"
   ]
  },
  {
   "cell_type": "code",
   "execution_count": null,
   "id": "10504b1d",
   "metadata": {},
   "outputs": [],
   "source": [
    "f = \"../output/run8413_matched_light_tracks_Andrea.txt\"\n",
    "df = pd.read_csv(f)\n",
    "df.head()"
   ]
  },
  {
   "cell_type": "code",
   "execution_count": null,
   "id": "8d151cef",
   "metadata": {},
   "outputs": [],
   "source": [
    "plt.hist( df.flashTime/1000 - df.trackTime/1000, histtype=\"step\")\n",
    "plt.show()"
   ]
  },
  {
   "cell_type": "code",
   "execution_count": null,
   "id": "17ce97d9",
   "metadata": {},
   "outputs": [],
   "source": [
    "plt.hist( df.flashLightZ - df.trackChargeZ, histtype = \"step\")\n",
    "plt.show()"
   ]
  },
  {
   "cell_type": "code",
   "execution_count": null,
   "id": "804dd2df",
   "metadata": {},
   "outputs": [],
   "source": []
  }
 ],
 "metadata": {
  "kernelspec": {
   "display_name": "Python 3 (ipykernel)",
   "language": "python",
   "name": "python3"
  },
  "language_info": {
   "codemirror_mode": {
    "name": "ipython",
    "version": 3
   },
   "file_extension": ".py",
   "mimetype": "text/x-python",
   "name": "python",
   "nbconvert_exporter": "python",
   "pygments_lexer": "ipython3",
   "version": "3.9.2"
  }
 },
 "nbformat": 4,
 "nbformat_minor": 5
}
