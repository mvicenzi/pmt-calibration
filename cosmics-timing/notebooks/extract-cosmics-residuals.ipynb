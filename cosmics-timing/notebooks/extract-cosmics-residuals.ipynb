{
 "cells": [
  {
   "cell_type": "code",
   "execution_count": 1,
   "id": "32228a15",
   "metadata": {},
   "outputs": [],
   "source": [
    "import uproot3 as uproot\n",
    "import pandas as pd\n",
    "import numpy as np\n",
    "import matplotlib.pyplot as plt\n",
    "from scipy import stats\n",
    "from datetime import datetime\n",
    "date = datetime.today().strftime('%Y%m%d')\n",
    "\n",
    "def loadSingleFile( tfile, treename, flatenndf=False ):\n",
    "    ttree = uproot.open(tfile)\n",
    "    data = ttree[treename].arrays(outputtype=pd.DataFrame,flatten=flatenndf)\n",
    "    return data\n",
    "\n",
    "def loadFiles( filelist, treename1, treename2, maxfiles=100, flatenndf=False):\n",
    "    data1 = pd.DataFrame()\n",
    "    data2 = pd.DataFrame()\n",
    "    for i,tfile in enumerate(filelist[0:maxfiles]):\n",
    "        if i%10 == 0:\n",
    "            print(\"{} files processed\".format(i))\n",
    "        ttree = uproot.open(tfile)\n",
    "        data1 = pd.concat([data1, ttree[treename1].arrays(outputtype=pd.DataFrame,flatten=flatenndf)])\n",
    "        data2 = pd.concat([data2, ttree[treename2].arrays(outputtype=pd.DataFrame,flatten=flatenndf)])\n",
    "    return data1, data2"
   ]
  },
  {
   "cell_type": "markdown",
   "id": "1b27e41b",
   "metadata": {},
   "source": [
    "## Prepare data files"
   ]
  },
  {
   "cell_type": "code",
   "execution_count": 9,
   "id": "ef94792c",
   "metadata": {},
   "outputs": [
    {
     "name": "stdout",
     "output_type": "stream",
     "text": [
      "194\n"
     ]
    }
   ],
   "source": [
    "### PREPARE DATA ####\n",
    "RUN = \"10085\"\n",
    "MATCHES = \"../output/run{}_matched_light_tracks.txt\".format(RUN)\n",
    "LIGHTINFO = \"../inputs/run{}_tracks_BNBMAJORITY_files.txt\".format(RUN)\n",
    "OUTFILE = \"../output/residuals/Run_2/run{}_test_no8ns_{}.csv\".format(RUN,date)\n",
    "FILENAMES = [ line.strip() for line in open(LIGHTINFO, \"r\") ]\n",
    "\n",
    "#maxim = 100\n",
    "maxim = len(FILENAMES)\n",
    "print(maxim)"
   ]
  },
  {
   "cell_type": "markdown",
   "id": "8dd32702",
   "metadata": {},
   "source": [
    "### CASE 1: New (complete) light trees "
   ]
  },
  {
   "cell_type": "code",
   "execution_count": 3,
   "id": "08362026",
   "metadata": {},
   "outputs": [
    {
     "name": "stdout",
     "output_type": "stream",
     "text": [
      "0 files processed\n",
      "10 files processed\n",
      "20 files processed\n",
      "30 files processed\n",
      "40 files processed\n",
      "50 files processed\n",
      "60 files processed\n",
      "70 files processed\n",
      "80 files processed\n",
      "90 files processed\n",
      "100 files processed\n",
      "110 files processed\n",
      "120 files processed\n",
      "130 files processed\n",
      "140 files processed\n",
      "150 files processed\n",
      "160 files processed\n",
      "170 files processed\n"
     ]
    }
   ],
   "source": [
    "## Get the light data and combine the two cryostats\n",
    "dfw, dfe = loadFiles(FILENAMES, \"simpleLightAna/opflashCryoW_flashtree\", \"simpleLightAna/opflashCryoE_flashtree\", maxim)\n",
    "dfw[\"cryo\"] = 1\n",
    "dfe[\"cryo\"] = 0\n",
    "dfw.drop(columns=[\"multiplicity\",\"multiplicity_right\",\"multiplicity_left\",\"sum_pe\",\"sum_pe_right\",\"sum_pe_left\"],inplace=True)\n",
    "dfe.drop(columns=[\"multiplicity\",\"multiplicity_right\",\"multiplicity_left\",\"sum_pe\",\"sum_pe_right\",\"sum_pe_left\"],inplace=True)\n",
    "df = pd.concat([dfe, dfw])\n",
    "\n",
    "del dfw\n",
    "del dfe"
   ]
  },
  {
   "cell_type": "code",
   "execution_count": 4,
   "id": "b42cb8d7",
   "metadata": {
    "scrolled": true
   },
   "outputs": [
    {
     "name": "stdout",
     "output_type": "stream",
     "text": [
      "Consider 5634 tracks\n"
     ]
    }
   ],
   "source": [
    "## Now match with the selected tracks\n",
    "dfmatches = pd.read_csv(MATCHES)\n",
    "dfmatches.rename(columns={'flashID':\"flash_id\"}, inplace=True)\n",
    "dfmatches.set_index([\"run\", \"event\", \"cryo\", \"flash_id\"], inplace=True)\n",
    "df = (df.join( dfmatches, on=[\"run\", \"event\", \"cryo\", \"flash_id\"], how='inner'))\n",
    "df[\"channel_id\"] = df.pmt_y.apply( lambda x : np.arange(len(x)) )\n",
    "\n",
    "print(\"Consider {} tracks\".format( len(df) ) )"
   ]
  },
  {
   "cell_type": "code",
   "execution_count": 5,
   "id": "563675c0",
   "metadata": {
    "scrolled": true
   },
   "outputs": [
    {
     "data": {
      "text/html": [
       "<div>\n",
       "<style scoped>\n",
       "    .dataframe tbody tr th:only-of-type {\n",
       "        vertical-align: middle;\n",
       "    }\n",
       "\n",
       "    .dataframe tbody tr th {\n",
       "        vertical-align: top;\n",
       "    }\n",
       "\n",
       "    .dataframe thead th {\n",
       "        text-align: right;\n",
       "    }\n",
       "</style>\n",
       "<table border=\"1\" class=\"dataframe\">\n",
       "  <thead>\n",
       "    <tr style=\"text-align: right;\">\n",
       "      <th></th>\n",
       "      <th>run</th>\n",
       "      <th>event</th>\n",
       "      <th>timestamp</th>\n",
       "      <th>flash_id</th>\n",
       "      <th>flash_time</th>\n",
       "      <th>flash_y</th>\n",
       "      <th>flash_width_y</th>\n",
       "      <th>flash_z</th>\n",
       "      <th>flash_width_z</th>\n",
       "      <th>pmt_x</th>\n",
       "      <th>...</th>\n",
       "      <th>trackStartY</th>\n",
       "      <th>trackStartZ</th>\n",
       "      <th>trackEndX</th>\n",
       "      <th>trackEndY</th>\n",
       "      <th>trackEndZ</th>\n",
       "      <th>trackDirX</th>\n",
       "      <th>trackDirY</th>\n",
       "      <th>trackDirZ</th>\n",
       "      <th>trackLenght</th>\n",
       "      <th>channel_id</th>\n",
       "    </tr>\n",
       "    <tr>\n",
       "      <th>entry</th>\n",
       "      <th></th>\n",
       "      <th></th>\n",
       "      <th></th>\n",
       "      <th></th>\n",
       "      <th></th>\n",
       "      <th></th>\n",
       "      <th></th>\n",
       "      <th></th>\n",
       "      <th></th>\n",
       "      <th></th>\n",
       "      <th></th>\n",
       "      <th></th>\n",
       "      <th></th>\n",
       "      <th></th>\n",
       "      <th></th>\n",
       "      <th></th>\n",
       "      <th></th>\n",
       "      <th></th>\n",
       "      <th></th>\n",
       "      <th></th>\n",
       "      <th></th>\n",
       "    </tr>\n",
       "  </thead>\n",
       "  <tbody>\n",
       "    <tr>\n",
       "      <th>6</th>\n",
       "      <td>9337</td>\n",
       "      <td>28861</td>\n",
       "      <td>1672381408</td>\n",
       "      <td>6</td>\n",
       "      <td>-220.459320</td>\n",
       "      <td>-21.882273</td>\n",
       "      <td>76.032471</td>\n",
       "      <td>484.800964</td>\n",
       "      <td>137.304077</td>\n",
       "      <td>[-371.07, -371.07, -371.07, -371.07, -371.07, ...</td>\n",
       "      <td>...</td>\n",
       "      <td>131.399</td>\n",
       "      <td>344.8670</td>\n",
       "      <td>-154.406</td>\n",
       "      <td>-180.327</td>\n",
       "      <td>624.449</td>\n",
       "      <td>0.099210</td>\n",
       "      <td>-0.792326</td>\n",
       "      <td>0.601977</td>\n",
       "      <td>440.004</td>\n",
       "      <td>[0, 1, 2, 3, 4, 5, 6, 7, 8, 9, 10, 11, 12, 13,...</td>\n",
       "    </tr>\n",
       "    <tr>\n",
       "      <th>53</th>\n",
       "      <td>9337</td>\n",
       "      <td>28933</td>\n",
       "      <td>1672381540</td>\n",
       "      <td>7</td>\n",
       "      <td>-136.226471</td>\n",
       "      <td>-11.469982</td>\n",
       "      <td>75.218765</td>\n",
       "      <td>-695.931824</td>\n",
       "      <td>119.968391</td>\n",
       "      <td>[-371.07, -371.07, -371.07, -371.07, -371.07, ...</td>\n",
       "      <td>...</td>\n",
       "      <td>132.501</td>\n",
       "      <td>-817.6130</td>\n",
       "      <td>-233.337</td>\n",
       "      <td>-178.993</td>\n",
       "      <td>-583.538</td>\n",
       "      <td>-0.222336</td>\n",
       "      <td>-0.750712</td>\n",
       "      <td>0.622092</td>\n",
       "      <td>408.489</td>\n",
       "      <td>[0, 1, 2, 3, 4, 5, 6, 7, 8, 9, 10, 11, 12, 13,...</td>\n",
       "    </tr>\n",
       "    <tr>\n",
       "      <th>122</th>\n",
       "      <td>9337</td>\n",
       "      <td>29173</td>\n",
       "      <td>1672381964</td>\n",
       "      <td>7</td>\n",
       "      <td>-201.319580</td>\n",
       "      <td>-31.026859</td>\n",
       "      <td>73.071938</td>\n",
       "      <td>590.612915</td>\n",
       "      <td>119.988640</td>\n",
       "      <td>[-371.07, -371.07, -371.07, -371.07, -371.07, ...</td>\n",
       "      <td>...</td>\n",
       "      <td>130.773</td>\n",
       "      <td>567.9820</td>\n",
       "      <td>-241.562</td>\n",
       "      <td>-177.643</td>\n",
       "      <td>610.477</td>\n",
       "      <td>-0.222641</td>\n",
       "      <td>-0.971191</td>\n",
       "      <td>0.084961</td>\n",
       "      <td>318.243</td>\n",
       "      <td>[0, 1, 2, 3, 4, 5, 6, 7, 8, 9, 10, 11, 12, 13,...</td>\n",
       "    </tr>\n",
       "    <tr>\n",
       "      <th>250</th>\n",
       "      <td>9337</td>\n",
       "      <td>29629</td>\n",
       "      <td>1672382801</td>\n",
       "      <td>9</td>\n",
       "      <td>-441.779602</td>\n",
       "      <td>-26.445906</td>\n",
       "      <td>74.289284</td>\n",
       "      <td>-456.005493</td>\n",
       "      <td>125.496521</td>\n",
       "      <td>[-371.07, -371.07, -371.07, -371.07, -371.07, ...</td>\n",
       "      <td>...</td>\n",
       "      <td>134.210</td>\n",
       "      <td>-381.9600</td>\n",
       "      <td>-222.600</td>\n",
       "      <td>-179.042</td>\n",
       "      <td>-515.428</td>\n",
       "      <td>-0.158246</td>\n",
       "      <td>-0.940201</td>\n",
       "      <td>-0.301631</td>\n",
       "      <td>348.260</td>\n",
       "      <td>[0, 1, 2, 3, 4, 5, 6, 7, 8, 9, 10, 11, 12, 13,...</td>\n",
       "    </tr>\n",
       "    <tr>\n",
       "      <th>265</th>\n",
       "      <td>9337</td>\n",
       "      <td>29821</td>\n",
       "      <td>1672383140</td>\n",
       "      <td>3</td>\n",
       "      <td>-606.357361</td>\n",
       "      <td>-20.802279</td>\n",
       "      <td>75.892265</td>\n",
       "      <td>-109.241196</td>\n",
       "      <td>164.346420</td>\n",
       "      <td>[-371.07, -371.07, -371.07, -371.07, -371.07, ...</td>\n",
       "      <td>...</td>\n",
       "      <td>132.157</td>\n",
       "      <td>68.2295</td>\n",
       "      <td>-285.899</td>\n",
       "      <td>-178.625</td>\n",
       "      <td>-292.418</td>\n",
       "      <td>-0.357949</td>\n",
       "      <td>-0.531400</td>\n",
       "      <td>-0.767780</td>\n",
       "      <td>505.900</td>\n",
       "      <td>[0, 1, 2, 3, 4, 5, 6, 7, 8, 9, 10, 11, 12, 13,...</td>\n",
       "    </tr>\n",
       "  </tbody>\n",
       "</table>\n",
       "<p>5 rows × 40 columns</p>\n",
       "</div>"
      ],
      "text/plain": [
       "        run  event   timestamp  flash_id  flash_time    flash_y  \\\n",
       "entry                                                             \n",
       "6      9337  28861  1672381408         6 -220.459320 -21.882273   \n",
       "53     9337  28933  1672381540         7 -136.226471 -11.469982   \n",
       "122    9337  29173  1672381964         7 -201.319580 -31.026859   \n",
       "250    9337  29629  1672382801         9 -441.779602 -26.445906   \n",
       "265    9337  29821  1672383140         3 -606.357361 -20.802279   \n",
       "\n",
       "       flash_width_y     flash_z  flash_width_z  \\\n",
       "entry                                             \n",
       "6          76.032471  484.800964     137.304077   \n",
       "53         75.218765 -695.931824     119.968391   \n",
       "122        73.071938  590.612915     119.988640   \n",
       "250        74.289284 -456.005493     125.496521   \n",
       "265        75.892265 -109.241196     164.346420   \n",
       "\n",
       "                                                   pmt_x  ... trackStartY  \\\n",
       "entry                                                     ...               \n",
       "6      [-371.07, -371.07, -371.07, -371.07, -371.07, ...  ...     131.399   \n",
       "53     [-371.07, -371.07, -371.07, -371.07, -371.07, ...  ...     132.501   \n",
       "122    [-371.07, -371.07, -371.07, -371.07, -371.07, ...  ...     130.773   \n",
       "250    [-371.07, -371.07, -371.07, -371.07, -371.07, ...  ...     134.210   \n",
       "265    [-371.07, -371.07, -371.07, -371.07, -371.07, ...  ...     132.157   \n",
       "\n",
       "      trackStartZ trackEndX trackEndY trackEndZ  trackDirX  trackDirY  \\\n",
       "entry                                                                   \n",
       "6        344.8670  -154.406  -180.327   624.449   0.099210  -0.792326   \n",
       "53      -817.6130  -233.337  -178.993  -583.538  -0.222336  -0.750712   \n",
       "122      567.9820  -241.562  -177.643   610.477  -0.222641  -0.971191   \n",
       "250     -381.9600  -222.600  -179.042  -515.428  -0.158246  -0.940201   \n",
       "265       68.2295  -285.899  -178.625  -292.418  -0.357949  -0.531400   \n",
       "\n",
       "       trackDirZ  trackLenght  \\\n",
       "entry                           \n",
       "6       0.601977      440.004   \n",
       "53      0.622092      408.489   \n",
       "122     0.084961      318.243   \n",
       "250    -0.301631      348.260   \n",
       "265    -0.767780      505.900   \n",
       "\n",
       "                                              channel_id  \n",
       "entry                                                     \n",
       "6      [0, 1, 2, 3, 4, 5, 6, 7, 8, 9, 10, 11, 12, 13,...  \n",
       "53     [0, 1, 2, 3, 4, 5, 6, 7, 8, 9, 10, 11, 12, 13,...  \n",
       "122    [0, 1, 2, 3, 4, 5, 6, 7, 8, 9, 10, 11, 12, 13,...  \n",
       "250    [0, 1, 2, 3, 4, 5, 6, 7, 8, 9, 10, 11, 12, 13,...  \n",
       "265    [0, 1, 2, 3, 4, 5, 6, 7, 8, 9, 10, 11, 12, 13,...  \n",
       "\n",
       "[5 rows x 40 columns]"
      ]
     },
     "execution_count": 5,
     "metadata": {},
     "output_type": "execute_result"
    }
   ],
   "source": [
    "df.head()"
   ]
  },
  {
   "cell_type": "markdown",
   "id": "fe276e4a",
   "metadata": {},
   "source": [
    "### CASE 2: Old (incomplete light trees)"
   ]
  },
  {
   "cell_type": "code",
   "execution_count": null,
   "id": "3a7d131b",
   "metadata": {},
   "outputs": [],
   "source": [
    "dfw, dfe = loadFiles(FILENAMES, \"simpleLightAna/opflashCryoW_flashtree\", \"simpleLightAna/opflashCryoE_flashtree\", maxim)\n",
    "dfw[\"cryo\"] = 1\n",
    "dfe[\"cryo\"] = 0\n",
    "dfw.drop(columns=[\"multiplicity\",\"multiplicity_right\",\"multiplicity_left\",\"sum_pe\",\"sum_pe_right\",\"sum_pe_left\"],inplace=True)\n",
    "dfe.drop(columns=[\"multiplicity\",\"multiplicity_right\",\"multiplicity_left\",\"sum_pe\",\"sum_pe_right\",\"sum_pe_left\"],inplace=True)\n",
    "df = pd.concat([dfe, dfw])\n",
    "\n",
    "del dfe\n",
    "del dfw"
   ]
  },
  {
   "cell_type": "code",
   "execution_count": null,
   "id": "af1cdc54",
   "metadata": {},
   "outputs": [],
   "source": [
    "dfopw, dfope = loadFiles(FILENAMES, \"simpleLightAna/opflashCryoW_ophittree\", \"simpleLightAna/opflashCryoE_ophittree\", maxim)\n",
    "dfopw[\"cryo\"] = 1\n",
    "dfope[\"cryo\"] = 0\n",
    "dfop = pd.concat([dfope, dfopw])\n",
    "\n",
    "del dfope\n",
    "del dfopw"
   ]
  },
  {
   "cell_type": "code",
   "execution_count": null,
   "id": "76f02ccb",
   "metadata": {},
   "outputs": [],
   "source": [
    "geo = loadSingleFile(FILENAMES[0], \"simpleLightAna/geotree\")\n",
    "x = geo.pmt_x.values[0] ; y = geo.pmt_y.values[0] ; z = geo.pmt_z.values[0]\n",
    "dfop[\"pmt_x\"] = [ x[ch] for ch in dfop.channel_id.values ] \n",
    "dfop[\"pmt_y\"] = [ y[ch] for ch in dfop.channel_id.values ] \n",
    "dfop[\"pmt_z\"] = [ z[ch] for ch in dfop.channel_id.values ]\n",
    "\n",
    "del geo"
   ]
  },
  {
   "cell_type": "code",
   "execution_count": null,
   "id": "72856b50",
   "metadata": {},
   "outputs": [],
   "source": [
    "dfop = dfop.groupby([\"run\", \"event\", \"cryo\",\"flash_id\",\"channel_id\"]).agg({ \"start_time\":\"min\", \"pmt_y\":\"mean\", \"pmt_x\":\"mean\", \"pe\":\"sum\", \"pmt_z\":\"mean\" }).reset_index()\n",
    "dfop = dfop.groupby([\"run\", \"event\", \"cryo\",\"flash_id\"]).agg(list)\n",
    "dfop.rename(columns={'start_time':\"time_pmt\", \"pe\":\"pe_pmt\"}, inplace=True)\n",
    "df = (df.join( dfop, on=[\"run\", \"event\", \"cryo\", \"flash_id\"], how='inner'))\n",
    "\n",
    "del dfop"
   ]
  },
  {
   "cell_type": "code",
   "execution_count": null,
   "id": "3c4b5537",
   "metadata": {},
   "outputs": [],
   "source": [
    "## Now match with the selected tracks\n",
    "dfmatches = pd.read_csv(MATCHES)\n",
    "dfmatches.rename(columns={'flashID':\"flash_id\"}, inplace=True)\n",
    "dfmatches.set_index([\"run\", \"event\", \"cryo\", \"flash_id\"], inplace=True)\n",
    "df = (df.join( dfmatches, on=[\"run\", \"event\", \"cryo\", \"flash_id\"], how='inner'))\n",
    "\n",
    "print(\"Consider {} tracks\".format( len(df) ) )"
   ]
  },
  {
   "cell_type": "code",
   "execution_count": null,
   "id": "a5859ab3",
   "metadata": {},
   "outputs": [],
   "source": [
    "df.head()"
   ]
  },
  {
   "cell_type": "markdown",
   "id": "0d6e361a",
   "metadata": {},
   "source": [
    "## Check tracks"
   ]
  },
  {
   "cell_type": "code",
   "execution_count": null,
   "id": "fd7d78d8",
   "metadata": {
    "scrolled": true
   },
   "outputs": [],
   "source": [
    "fig, ax = plt.subplots(1,2, figsize=(12, 4.3))\n",
    "\n",
    "ax[0].plot( [df.trackEndZ, df.trackStartZ], [df.trackEndY, df.trackStartY], color='black', lw=0.1 )\n",
    "ax[1].plot( [df.trackEndX, df.trackStartX], [df.trackEndY, df.trackStartY], color='black', lw=0.1 )\n",
    "\n",
    "# consider steeper angle\n",
    "_sel_dir_z= (df.trackDirZ > -0.3) & (df.trackDirZ < 0.3 ) \n",
    "_sel_dir_x = (df.trackDirX > -0.1) & (df.trackDirX < 0.1 )\n",
    "_seldir= _sel_dir_z\n",
    "#ax[0].plot( [dfmatches[_seldir].trackEndZ, dfmatches[_seldir].trackStartZ], [dfmatches[_seldir].trackEndY, dfmatches[_seldir].trackStartY], color='red', lw=0.1 )\n",
    "#ax[1].plot( [dfmatches[_seldir].trackEndX, dfmatches[_seldir].trackStartX], [dfmatches[_seldir].trackEndY, dfmatches[_seldir].trackStartY], color='red', lw=0.1 )\n",
    "\n",
    "print( len(df), len(df[_seldir]) )\n",
    "\n",
    "ax[0].set_ylabel(\"Y [cm]\" )  \n",
    "ax[0].set_xlabel(\"Z [cm]\" )  \n",
    "ax[1].set_ylabel(\"Y [cm]\" )  \n",
    "ax[1].set_xlabel(\"X [cm]\" )  \n",
    "\n",
    "plt.savefig(\"../figs/run{}_tracks_standard_selection.png\".format(RUN),dpi=300)\n",
    "plt.show()"
   ]
  },
  {
   "cell_type": "markdown",
   "id": "a10b6101",
   "metadata": {},
   "source": [
    "## Explode the dataframe"
   ]
  },
  {
   "cell_type": "code",
   "execution_count": null,
   "id": "dcbb3b4f",
   "metadata": {},
   "outputs": [],
   "source": [
    "## Explode the dataframe \n",
    "df = df.explode([\"time_pmt\", \"pmt_x\", \"pmt_y\", \"pe_pmt\", \"pmt_z\", \"amplitude_pmt\",\"channel_id\"])"
   ]
  },
  {
   "cell_type": "code",
   "execution_count": null,
   "id": "5bedb394",
   "metadata": {},
   "outputs": [],
   "source": []
  },
  {
   "cell_type": "markdown",
   "id": "00850c81",
   "metadata": {},
   "source": [
    "## Add timing corrections (if needed!)"
   ]
  },
  {
   "cell_type": "code",
   "execution_count": null,
   "id": "f4694502",
   "metadata": {},
   "outputs": [],
   "source": [
    "### REMOVE 8ns phase correction from WE-TOP-C\n",
    "wetopc = [238, 239, 235, 236, 237, 230, 233, 234, 232, 231, 220, 223, 224, 222, 221]\n",
    "df.loc[(df['channel_id'].isin(wetopc))&(df['pe_pmt']>0), 'time_pmt'] += 0.008 #in us"
   ]
  },
  {
   "cell_type": "code",
   "execution_count": null,
   "id": "7e6ea37b",
   "metadata": {},
   "outputs": [],
   "source": [
    "## Import and use laser correction\n",
    "## WARNING: DO NOT USE IF CORRECTIONS WERE ALREADY APPLIED AT STAGE0 \n",
    "## note: laser corrections are in ns!\n",
    "\n",
    "LASERCORR=\"../inputs/laser_time_corrections_9305.csv\"\n",
    "#LASERCORR=\"../inputs/laser_time_corrections_20220408.csv\"\n",
    "lasercorr = pd.read_csv(LASERCORR).set_index([\"channel_id\"])\n",
    "lasercorr['t_signal'] = lasercorr['t_signal']/1e3  #convert ns to us\n",
    "\n",
    "df = df.join( lasercorr[[\"t_signal\"]], on=[\"channel_id\"])\n",
    "df['time_pmt'] = df['time_pmt'] + df['t_signal']  ###WARNING:: CURRENTLY REMOVING LASER!!!"
   ]
  },
  {
   "cell_type": "code",
   "execution_count": null,
   "id": "9cfe0268",
   "metadata": {},
   "outputs": [],
   "source": [
    "## WARNING: adding cosmics corrections\n",
    "#COSMICSCORR = \"../output/residuals/Run_2/run9337_test_20230921.csv\"\n",
    "COSMICSCORR = \"../output/residuals/FINAL/cosmics_timing_residuals_t8046_offpmts_20230727.csv\"\n",
    "cosmics = pd.read_csv(COSMICSCORR).set_index(\"channel_id\")\n",
    "\n",
    "df = df.join( cosmics[\"mean_residual_ns\"], on=\"channel_id\" )\n",
    "df[\"time_pmt\"] = df[\"time_pmt\"]+df[\"mean_residual_ns\"]/1e3 #convert ns to us"
   ]
  },
  {
   "cell_type": "code",
   "execution_count": null,
   "id": "ac5af878",
   "metadata": {},
   "outputs": [],
   "source": [
    "df.loc[df[\"pe_pmt\"]>100,[\"event\",\"cryo\",\"flash_id\",\"pmt_y\",\"channel_id\",\"time_pmt\",'t_signal','mean_residual_ns']]"
   ]
  },
  {
   "cell_type": "code",
   "execution_count": null,
   "id": "30805d42",
   "metadata": {},
   "outputs": [],
   "source": [
    "df = df.drop(columns=[\"t_signal\"])"
   ]
  },
  {
   "cell_type": "code",
   "execution_count": null,
   "id": "39c1a9aa",
   "metadata": {},
   "outputs": [],
   "source": [
    "df = df.drop(columns=[\"mean_residual_ns\"])"
   ]
  },
  {
   "cell_type": "markdown",
   "id": "8a2cb217",
   "metadata": {},
   "source": [
    "## Computing fit and residuals"
   ]
  },
  {
   "cell_type": "code",
   "execution_count": null,
   "id": "b8645429",
   "metadata": {},
   "outputs": [],
   "source": [
    "_pecut=300\n",
    "\n",
    "_sel = (df.pe_pmt > _pecut)\n",
    "meandf = df[_sel][[\"run\", \"event\", \"cryo\", \"flash_id\", \"time_pmt\", \"pe_pmt\", \"pmt_y\"]].groupby([\"run\", \"event\", \"cryo\", \"flash_id\", \"pmt_y\"]).apply( \n",
    "    lambda x : pd.Series( {\n",
    "        \"mean_time\" : np.mean(x.time_pmt),\n",
    "        \"weight_mean_time\" : np.average(x.time_pmt, weights=x.pe_pmt), \n",
    "        \"error_mean_time\": np.std(x.time_pmt) / np.sqrt(len(x.time_pmt)),\n",
    "    }) ).reset_index()\n",
    "\n",
    "meandf = meandf.groupby([\"run\", \"event\", \"cryo\", \"flash_id\"]).agg(list)\n",
    "\n",
    "print(\"PE cut leaves {} tracks\".format( len(meandf) ))"
   ]
  },
  {
   "cell_type": "code",
   "execution_count": null,
   "id": "83b23d67",
   "metadata": {},
   "outputs": [],
   "source": [
    "def getdiff( y, t):\n",
    "    # max y is on top : cosmics are going towards decreasing y \n",
    "    return t[np.argmin(y)] - t[np.argmax(y)]\n",
    "\n",
    "def fittime( y, t ):\n",
    "    try:\n",
    "        res= stats.linregress(y, t)\n",
    "        #print( res.intercept, res.slope)\n",
    "        return res.intercept,  res.slope\n",
    "    except:\n",
    "        return 0,0\n",
    "\n",
    "def residuals( tobs, y, a, b ):\n",
    "    return tobs -  ( a + b*y )"
   ]
  },
  {
   "cell_type": "code",
   "execution_count": null,
   "id": "acd66c57",
   "metadata": {},
   "outputs": [],
   "source": [
    "meandf[\"diff_time\"] = meandf.apply( lambda x : getdiff( x.pmt_y, x.mean_time ), axis=1 ) \n",
    "meandf[[\"intercept\", \"slope\"]] = meandf.apply(lambda x : fittime(x.pmt_y, x.mean_time ), axis=1, result_type=\"expand\" )"
   ]
  },
  {
   "cell_type": "code",
   "execution_count": null,
   "id": "51d99195",
   "metadata": {
    "scrolled": true
   },
   "outputs": [],
   "source": [
    "meandf.head()"
   ]
  },
  {
   "cell_type": "code",
   "execution_count": null,
   "id": "d964e617",
   "metadata": {},
   "outputs": [],
   "source": [
    "# Putting fit back in the exploded dataframe, then compute the residual\n",
    "# This should work for every channel_id\n",
    "\n",
    "# TEST: only positive slopes\n",
    "#dfg = df.join( meandf[meandf.slope<0][[\"intercept\", \"slope\"]], on=[\"run\", \"event\", \"cryo\", \"flash_id\"], how='inner')\n",
    "\n",
    "# all slopes\n",
    "dfg = df.join( meandf[[\"intercept\", \"slope\"]], on=[\"run\", \"event\", \"cryo\", \"flash_id\"], how='inner')\n",
    "dfg[\"residuals\"] = dfg.apply( lambda x : residuals(x.time_pmt, x.pmt_y, x.intercept, x.slope), axis=1 ) \n",
    "\n",
    "# Keep only the residuals on relevant PMT for that event\n",
    "PECUT = 300\n",
    "dfg = dfg[(dfg.pe_pmt>PECUT)]"
   ]
  },
  {
   "cell_type": "code",
   "execution_count": null,
   "id": "fe9a261f",
   "metadata": {},
   "outputs": [],
   "source": [
    "print(\"Using the above slopes leaves {} tracks\".format( len(dfg.groupby([\"run\", \"event\", \"cryo\", \"flash_id\"])) ) )\n",
    "dfg.to_csv(\"dump_run{}_test8ns.csv\".format(RUN))"
   ]
  },
  {
   "cell_type": "code",
   "execution_count": null,
   "id": "0720e1ca",
   "metadata": {},
   "outputs": [],
   "source": [
    "dfg.head()"
   ]
  },
  {
   "cell_type": "markdown",
   "id": "83da68dd",
   "metadata": {},
   "source": [
    "## Group and save residuals"
   ]
  },
  {
   "cell_type": "code",
   "execution_count": null,
   "id": "2a37423e",
   "metadata": {},
   "outputs": [],
   "source": [
    "us_to_ns = 1e3\n",
    "thisdfg = dfg.groupby([\"channel_id\"]).apply(\n",
    "    lambda x : pd.Series( { \n",
    "            'x': np.mean(x.pmt_x),\n",
    "            'y': np.mean(x.pmt_y),\n",
    "            'z': np.mean(x.pmt_z),\n",
    "            'entries' : len(x.residuals), \n",
    "            'pecut' : PECUT,\n",
    "            'mean_residual_ns' : np.mean(x.residuals)*us_to_ns,\n",
    "            'std_residual_ns' : np.std(x.residuals)*us_to_ns,\n",
    "            'emean_ns' : np.std(x.residuals)*us_to_ns/len(x.residuals)\n",
    "        })).reset_index()"
   ]
  },
  {
   "cell_type": "code",
   "execution_count": null,
   "id": "7e09ae37",
   "metadata": {},
   "outputs": [],
   "source": [
    "thisdfg.head()"
   ]
  },
  {
   "cell_type": "code",
   "execution_count": null,
   "id": "0486baf3",
   "metadata": {},
   "outputs": [],
   "source": [
    "thisdfg.to_csv(OUTFILE, index=False, float_format='%.4f')"
   ]
  },
  {
   "cell_type": "markdown",
   "id": "94db44e4",
   "metadata": {},
   "source": [
    "## Looking at some residuals"
   ]
  },
  {
   "cell_type": "code",
   "execution_count": null,
   "id": "1d2daf32",
   "metadata": {},
   "outputs": [],
   "source": [
    "selected_channel = 86\n",
    "residuals = dfg[dfg.channel_id==selected_channel].residuals.values"
   ]
  },
  {
   "cell_type": "code",
   "execution_count": null,
   "id": "703b6865",
   "metadata": {},
   "outputs": [],
   "source": [
    "fig = plt.figure(dpi=100)\n",
    "\n",
    "lab = \"Channel ID \"+str(selected_channel)+\"\\n\"\n",
    "lab += \"Entries: {}\\n\".format(len(residuals))\n",
    "lab += \"Mean: {:.2f} ns\\n\".format(np.mean(residuals*1e3))\n",
    "lab += \"Std: {:.2f} ns\".format(np.std(residuals*1e3))\n",
    "\n",
    "plt.hist( residuals*1e3, bins=50, histtype='step',range=(-10,20), label=lab)\n",
    "#plt.ylabel(\"# entries\", fontsize=16)\n",
    "plt.xlabel(\"Residuals [ns]\", fontsize=14)\n",
    "plt.tight_layout()\n",
    "plt.grid(linestyle=\"dashed\", alpha=0.5)\n",
    "plt.legend(fontsize=12)\n",
    "plt.savefig(\"../figs/run{}_channel_{}_residuals_test.png\".format(RUN,selected_channel),dpi=100)\n",
    "plt.show()\n"
   ]
  },
  {
   "cell_type": "code",
   "execution_count": null,
   "id": "155457c1",
   "metadata": {},
   "outputs": [],
   "source": [
    "# Plotting full distribution \n",
    "fig = plt.figure(dpi=100)\n",
    "\n",
    "rmin=-10\n",
    "rmax=10\n",
    "r=(rmin,rmax)\n",
    "s=0.5\n",
    "b=int((rmax-rmin)/s)\n",
    "\n",
    "res = thisdfg.mean_residual_ns.to_numpy()\n",
    "\n",
    "lab = \"Run {}\\nMean: {:.2f} ns\\nStd: {:.2f} ns\".format(RUN,np.mean(res),np.std(res))\n",
    "\n",
    "plt.hist(res, bins=b, linewidth=2, range=r, histtype=\"step\", label=lab)\n",
    "\n",
    "plt.xlabel(\"Time residual [ns]\")\n",
    "plt.ylabel(\"# PMTs\")\n",
    "plt.legend()\n",
    "plt.grid(linestyle=\"dashed\", alpha=0.5)\n",
    "plt.savefig(\"../figs/run{}_residuals_test.png\".format(RUN),dpi=100)\n",
    "plt.show()"
   ]
  },
  {
   "cell_type": "markdown",
   "id": "de87151a",
   "metadata": {},
   "source": [
    "## Looking at slope"
   ]
  },
  {
   "cell_type": "code",
   "execution_count": null,
   "id": "53ad9125",
   "metadata": {},
   "outputs": [],
   "source": [
    "slopes = meandf[\"slope\"].values\n",
    "len(slopes)"
   ]
  },
  {
   "cell_type": "code",
   "execution_count": null,
   "id": "1cf14244",
   "metadata": {
    "scrolled": true
   },
   "outputs": [],
   "source": [
    "fig = plt.figure(dpi=100)\n",
    "\n",
    "plt.hist( slopes*1e3, bins=50, range=(-0.1,0.075), histtype='step')\n",
    "plt.ylabel(\"# Flash-Track matches\", fontsize=14)\n",
    "plt.xlabel(\"Fitted slope [cm ns$^{-1}$]\", fontsize=14)\n",
    "\n",
    "plt.axvline(x=0.,color=\"red\",linestyle=\"dotted\")\n",
    "\n",
    "#plt.tight_layout()\n",
    "plt.grid(linestyle=\"dashed\",alpha=0.5)\n",
    "#plt.legend()\n",
    "plt.savefig(\"../figs/run{}_slope_distribution_test.png\".format(RUN),dpi=100)\n",
    "plt.show()\n"
   ]
  },
  {
   "cell_type": "markdown",
   "id": "0d61caf2",
   "metadata": {},
   "source": [
    "## Add lines with PMTs that are off"
   ]
  },
  {
   "cell_type": "code",
   "execution_count": 10,
   "id": "cd09f3e3",
   "metadata": {},
   "outputs": [],
   "source": [
    "file = \"../output/residuals/Run_2/run{}_residuals_test8ns.csv\".format(RUN)\n",
    "rdf = pd.read_csv(file)\n",
    "\n",
    "# list of PMT channels at 0 voltage from HV files + disconnected pmts:\n",
    "offCHs = [350, 248, 215, 190, 161, 139, 127, 103, 131, 59, 52, 21, 5, 71]"
   ]
  },
  {
   "cell_type": "code",
   "execution_count": 11,
   "id": "78c305a7",
   "metadata": {},
   "outputs": [],
   "source": [
    "geo = loadSingleFile(FILENAMES[0], \"simpleLightAna/geotree\")\n",
    "x = geo.pmt_x.values[0] ; y = geo.pmt_y.values[0] ; z = geo.pmt_z.values[0]"
   ]
  },
  {
   "cell_type": "code",
   "execution_count": 12,
   "id": "eac0df4f",
   "metadata": {},
   "outputs": [],
   "source": [
    "dict = {'channel_id':[ a for a in offCHs],\n",
    "        'x':[ x[a] for a in offCHs],\n",
    "        'y':[ y[a] for a in offCHs],\n",
    "        'z':[ z[a] for a in offCHs],\n",
    "        'entries': [ 0 for a in offCHs],\n",
    "        'pecut': [ 0. for a in offCHs],\n",
    "        'mean_residual_ns': [ 0. for a in offCHs],\n",
    "        'std_residual_ns': [ 0. for a in offCHs],\n",
    "        'emean_ns': [ 0. for a in offCHs]        \n",
    "       }"
   ]
  },
  {
   "cell_type": "code",
   "execution_count": 13,
   "id": "70c950cb",
   "metadata": {},
   "outputs": [],
   "source": [
    "addf = pd.DataFrame(dict)\n",
    "rdf = pd.concat([rdf,addf], ignore_index=True)\n",
    "rdf.sort_values(by=\"channel_id\", inplace=True)"
   ]
  },
  {
   "cell_type": "code",
   "execution_count": 14,
   "id": "0edc8cf5",
   "metadata": {},
   "outputs": [
    {
     "data": {
      "text/html": [
       "<div>\n",
       "<style scoped>\n",
       "    .dataframe tbody tr th:only-of-type {\n",
       "        vertical-align: middle;\n",
       "    }\n",
       "\n",
       "    .dataframe tbody tr th {\n",
       "        vertical-align: top;\n",
       "    }\n",
       "\n",
       "    .dataframe thead th {\n",
       "        text-align: right;\n",
       "    }\n",
       "</style>\n",
       "<table border=\"1\" class=\"dataframe\">\n",
       "  <thead>\n",
       "    <tr style=\"text-align: right;\">\n",
       "      <th></th>\n",
       "      <th>channel_id</th>\n",
       "      <th>x</th>\n",
       "      <th>y</th>\n",
       "      <th>z</th>\n",
       "      <th>entries</th>\n",
       "      <th>pecut</th>\n",
       "      <th>mean_residual_ns</th>\n",
       "      <th>std_residual_ns</th>\n",
       "      <th>emean_ns</th>\n",
       "    </tr>\n",
       "  </thead>\n",
       "  <tbody>\n",
       "    <tr>\n",
       "      <th>0</th>\n",
       "      <td>0</td>\n",
       "      <td>-371.070100</td>\n",
       "      <td>-76.250000</td>\n",
       "      <td>-872.899900</td>\n",
       "      <td>47.0</td>\n",
       "      <td>300.0</td>\n",
       "      <td>2.5419</td>\n",
       "      <td>2.6858</td>\n",
       "      <td>0.0571</td>\n",
       "    </tr>\n",
       "    <tr>\n",
       "      <th>1</th>\n",
       "      <td>1</td>\n",
       "      <td>-371.070000</td>\n",
       "      <td>29.350000</td>\n",
       "      <td>-872.900200</td>\n",
       "      <td>18.0</td>\n",
       "      <td>300.0</td>\n",
       "      <td>0.8932</td>\n",
       "      <td>2.1692</td>\n",
       "      <td>0.1205</td>\n",
       "    </tr>\n",
       "    <tr>\n",
       "      <th>2</th>\n",
       "      <td>2</td>\n",
       "      <td>-371.070000</td>\n",
       "      <td>-129.050000</td>\n",
       "      <td>-823.019800</td>\n",
       "      <td>19.0</td>\n",
       "      <td>300.0</td>\n",
       "      <td>0.4294</td>\n",
       "      <td>1.7503</td>\n",
       "      <td>0.0921</td>\n",
       "    </tr>\n",
       "    <tr>\n",
       "      <th>3</th>\n",
       "      <td>3</td>\n",
       "      <td>-371.070100</td>\n",
       "      <td>-23.450000</td>\n",
       "      <td>-823.019700</td>\n",
       "      <td>53.0</td>\n",
       "      <td>300.0</td>\n",
       "      <td>1.4347</td>\n",
       "      <td>2.5279</td>\n",
       "      <td>0.0477</td>\n",
       "    </tr>\n",
       "    <tr>\n",
       "      <th>4</th>\n",
       "      <td>4</td>\n",
       "      <td>-371.070100</td>\n",
       "      <td>82.150000</td>\n",
       "      <td>-823.019700</td>\n",
       "      <td>51.0</td>\n",
       "      <td>300.0</td>\n",
       "      <td>-0.4197</td>\n",
       "      <td>2.5723</td>\n",
       "      <td>0.0504</td>\n",
       "    </tr>\n",
       "    <tr>\n",
       "      <th>358</th>\n",
       "      <td>5</td>\n",
       "      <td>-371.070007</td>\n",
       "      <td>-129.050003</td>\n",
       "      <td>-773.140015</td>\n",
       "      <td>0.0</td>\n",
       "      <td>0.0</td>\n",
       "      <td>0.0000</td>\n",
       "      <td>0.0000</td>\n",
       "      <td>0.0000</td>\n",
       "    </tr>\n",
       "    <tr>\n",
       "      <th>5</th>\n",
       "      <td>6</td>\n",
       "      <td>-371.070200</td>\n",
       "      <td>-23.450000</td>\n",
       "      <td>-773.140500</td>\n",
       "      <td>149.0</td>\n",
       "      <td>300.0</td>\n",
       "      <td>1.7961</td>\n",
       "      <td>2.6639</td>\n",
       "      <td>0.0179</td>\n",
       "    </tr>\n",
       "  </tbody>\n",
       "</table>\n",
       "</div>"
      ],
      "text/plain": [
       "     channel_id           x           y           z  entries  pecut  \\\n",
       "0             0 -371.070100  -76.250000 -872.899900     47.0  300.0   \n",
       "1             1 -371.070000   29.350000 -872.900200     18.0  300.0   \n",
       "2             2 -371.070000 -129.050000 -823.019800     19.0  300.0   \n",
       "3             3 -371.070100  -23.450000 -823.019700     53.0  300.0   \n",
       "4             4 -371.070100   82.150000 -823.019700     51.0  300.0   \n",
       "358           5 -371.070007 -129.050003 -773.140015      0.0    0.0   \n",
       "5             6 -371.070200  -23.450000 -773.140500    149.0  300.0   \n",
       "\n",
       "     mean_residual_ns  std_residual_ns  emean_ns  \n",
       "0              2.5419           2.6858    0.0571  \n",
       "1              0.8932           2.1692    0.1205  \n",
       "2              0.4294           1.7503    0.0921  \n",
       "3              1.4347           2.5279    0.0477  \n",
       "4             -0.4197           2.5723    0.0504  \n",
       "358            0.0000           0.0000    0.0000  \n",
       "5              1.7961           2.6639    0.0179  "
      ]
     },
     "execution_count": 14,
     "metadata": {},
     "output_type": "execute_result"
    }
   ],
   "source": [
    "rdf.head(7)"
   ]
  },
  {
   "cell_type": "code",
   "execution_count": 15,
   "id": "12316d80",
   "metadata": {},
   "outputs": [],
   "source": [
    "outfile = \"../output/residuals/Run_2/run{}_residuals_test8ns.csv\".format(RUN)\n",
    "rdf.to_csv(outfile, index=False, float_format='%.4f')"
   ]
  },
  {
   "cell_type": "code",
   "execution_count": null,
   "id": "bace7e35",
   "metadata": {},
   "outputs": [],
   "source": []
  }
 ],
 "metadata": {
  "kernelspec": {
   "display_name": "Python 3 (ipykernel)",
   "language": "python",
   "name": "python3"
  },
  "language_info": {
   "codemirror_mode": {
    "name": "ipython",
    "version": 3
   },
   "file_extension": ".py",
   "mimetype": "text/x-python",
   "name": "python",
   "nbconvert_exporter": "python",
   "pygments_lexer": "ipython3",
   "version": "3.9.2"
  }
 },
 "nbformat": 4,
 "nbformat_minor": 5
}
