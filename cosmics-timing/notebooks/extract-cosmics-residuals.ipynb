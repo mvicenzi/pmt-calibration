{
 "cells": [
  {
   "cell_type": "code",
   "execution_count": null,
   "id": "32228a15",
   "metadata": {},
   "outputs": [],
   "source": [
    "import uproot3 as uproot\n",
    "import pandas as pd\n",
    "import numpy as np\n",
    "import matplotlib.pyplot as plt\n",
    "from scipy import stats\n",
    "from datetime import datetime\n",
    "date = datetime.today().strftime('%Y%m%d')\n",
    "\n",
    "def loadSingleFile( tfile, treename, flatenndf=False ):\n",
    "    ttree = uproot.open(tfile)\n",
    "    data = ttree[treename].arrays(outputtype=pd.DataFrame,flatten=flatenndf)\n",
    "    return data\n",
    "\n",
    "def loadFiles( filelist, treename1, treename2, maxfiles=100, flatenndf=False):\n",
    "    data1 = pd.DataFrame()\n",
    "    data2 = pd.DataFrame()\n",
    "    for i,tfile in enumerate(filelist[0:maxfiles]):\n",
    "        if i%10 == 0:\n",
    "            print(\"{} files processed\".format(i))\n",
    "        ttree = uproot.open(tfile)\n",
    "        data1 = pd.concat([data1, ttree[treename1].arrays(outputtype=pd.DataFrame,flatten=flatenndf)])\n",
    "        data2 = pd.concat([data2, ttree[treename2].arrays(outputtype=pd.DataFrame,flatten=flatenndf)])\n",
    "    return data1, data2"
   ]
  },
  {
   "cell_type": "markdown",
   "id": "1b27e41b",
   "metadata": {},
   "source": [
    "## Prepare data files"
   ]
  },
  {
   "cell_type": "code",
   "execution_count": null,
   "id": "ef94792c",
   "metadata": {},
   "outputs": [],
   "source": [
    "### PREPARE DATA ####\n",
    "RUN = \"8460\"\n",
    "MATCHES = \"../output/run{}_matched_light_tracks.txt\".format(RUN)\n",
    "LIGHTINFO = \"../inputs/run{}_tracks_BNBMAJORITY_files.txt\".format(RUN)\n",
    "OUTFILE = \"../output/residuals/run{}_cosmics_timing_residuals_{}.csv\".format(RUN,date)\n",
    "FILENAMES = [ line.strip() for line in open(LIGHTINFO, \"r\") ]\n",
    "\n",
    "maxim = 100\n",
    "#maxim = len(FILENAMES)"
   ]
  },
  {
   "cell_type": "markdown",
   "id": "8dd32702",
   "metadata": {},
   "source": [
    "### CASE 1: New (complete) light trees "
   ]
  },
  {
   "cell_type": "code",
   "execution_count": null,
   "id": "08362026",
   "metadata": {},
   "outputs": [],
   "source": [
    "## Get the light data and combine the two cryostats\n",
    "dfw, dfe = loadFiles(FILENAMES, \"simpleLightAna/opflashCryoW_flashtree\", \"simpleLightAna/opflashCryoE_flashtree\", maxim)\n",
    "dfw[\"cryo\"] = 1\n",
    "dfe[\"cryo\"] = 0\n",
    "dfw.drop(columns=[\"multiplicity\",\"multiplicity_right\",\"multiplicity_left\",\"sum_pe\",\"sum_pe_right\",\"sum_pe_left\"],inplace=True)\n",
    "dfe.drop(columns=[\"multiplicity\",\"multiplicity_right\",\"multiplicity_left\",\"sum_pe\",\"sum_pe_right\",\"sum_pe_left\"],inplace=True)\n",
    "df = pd.concat([dfe, dfw])\n",
    "\n",
    "del dfw\n",
    "del dfe"
   ]
  },
  {
   "cell_type": "code",
   "execution_count": null,
   "id": "b42cb8d7",
   "metadata": {
    "scrolled": true
   },
   "outputs": [],
   "source": [
    "## Now match with the selected tracks\n",
    "dfmatches = pd.read_csv(MATCHES)\n",
    "dfmatches.rename(columns={'flashID':\"flash_id\"}, inplace=True)\n",
    "dfmatches.set_index([\"run\", \"event\", \"cryo\", \"flash_id\"], inplace=True)\n",
    "df = (df.join( dfmatches, on=[\"run\", \"event\", \"cryo\", \"flash_id\"], how='inner'))\n",
    "df[\"channel_id\"] = df.pmt_y.apply( lambda x : np.arange(len(x)) )\n",
    "\n",
    "print(\"Consider {} tracks\".format( len(df) ) )"
   ]
  },
  {
   "cell_type": "code",
   "execution_count": null,
   "id": "563675c0",
   "metadata": {
    "scrolled": true
   },
   "outputs": [],
   "source": [
    "df.head()"
   ]
  },
  {
   "cell_type": "markdown",
   "id": "fe276e4a",
   "metadata": {},
   "source": [
    "### CASE 2: Old (incomplete light trees)"
   ]
  },
  {
   "cell_type": "code",
   "execution_count": null,
   "id": "3a7d131b",
   "metadata": {},
   "outputs": [],
   "source": [
    "dfw, dfe = loadFiles(FILENAMES, \"simpleLightAna/opflashCryoW_flashtree\", \"simpleLightAna/opflashCryoE_flashtree\", maxim)\n",
    "dfw[\"cryo\"] = 1\n",
    "dfe[\"cryo\"] = 0\n",
    "dfw.drop(columns=[\"multiplicity\",\"multiplicity_right\",\"multiplicity_left\",\"sum_pe\",\"sum_pe_right\",\"sum_pe_left\"],inplace=True)\n",
    "dfe.drop(columns=[\"multiplicity\",\"multiplicity_right\",\"multiplicity_left\",\"sum_pe\",\"sum_pe_right\",\"sum_pe_left\"],inplace=True)\n",
    "df = pd.concat([dfe, dfw])\n",
    "\n",
    "del dfe\n",
    "del dfw"
   ]
  },
  {
   "cell_type": "code",
   "execution_count": null,
   "id": "af1cdc54",
   "metadata": {},
   "outputs": [],
   "source": [
    "dfopw, dfope = loadFiles(FILENAMES, \"simpleLightAna/opflashCryoW_ophittree\", \"simpleLightAna/opflashCryoE_ophittree\", maxim)\n",
    "dfopw[\"cryo\"] = 1\n",
    "dfope[\"cryo\"] = 0\n",
    "dfop = pd.concat([dfope, dfopw])\n",
    "\n",
    "del dfope\n",
    "del dfopw"
   ]
  },
  {
   "cell_type": "code",
   "execution_count": null,
   "id": "76f02ccb",
   "metadata": {},
   "outputs": [],
   "source": [
    "geo = loadSingleFile(FILENAMES[0], \"simpleLightAna/geotree\")\n",
    "x = geo.pmt_x.values[0] ; y = geo.pmt_y.values[0] ; z = geo.pmt_z.values[0]\n",
    "dfop[\"pmt_x\"] = [ x[ch] for ch in dfop.channel_id.values ] \n",
    "dfop[\"pmt_y\"] = [ y[ch] for ch in dfop.channel_id.values ] \n",
    "dfop[\"pmt_z\"] = [ z[ch] for ch in dfop.channel_id.values ]\n",
    "\n",
    "del geo"
   ]
  },
  {
   "cell_type": "code",
   "execution_count": null,
   "id": "72856b50",
   "metadata": {},
   "outputs": [],
   "source": [
    "dfop = dfop.groupby([\"run\", \"event\", \"cryo\",\"flash_id\",\"channel_id\"]).agg({ \"start_time\":\"min\", \"pmt_y\":\"mean\", \"pmt_x\":\"mean\", \"pe\":\"sum\", \"pmt_z\":\"mean\" }).reset_index()\n",
    "dfop = dfop.groupby([\"run\", \"event\", \"cryo\",\"flash_id\"]).agg(list)\n",
    "dfop.rename(columns={'start_time':\"time_pmt\", \"pe\":\"pe_pmt\"}, inplace=True)\n",
    "df = (df.join( dfop, on=[\"run\", \"event\", \"cryo\", \"flash_id\"], how='inner'))\n",
    "\n",
    "del dfop"
   ]
  },
  {
   "cell_type": "code",
   "execution_count": null,
   "id": "3c4b5537",
   "metadata": {},
   "outputs": [],
   "source": [
    "## Now match with the selected tracks\n",
    "dfmatches = pd.read_csv(MATCHES)\n",
    "dfmatches.rename(columns={'flashID':\"flash_id\"}, inplace=True)\n",
    "dfmatches.set_index([\"run\", \"event\", \"cryo\", \"flash_id\"], inplace=True)\n",
    "df = (df.join( dfmatches, on=[\"run\", \"event\", \"cryo\", \"flash_id\"], how='inner'))\n",
    "\n",
    "print(\"Consider {} tracks\".format( len(df) ) )"
   ]
  },
  {
   "cell_type": "code",
   "execution_count": null,
   "id": "a5859ab3",
   "metadata": {},
   "outputs": [],
   "source": [
    "df.head()"
   ]
  },
  {
   "cell_type": "markdown",
   "id": "0d6e361a",
   "metadata": {},
   "source": [
    "## Check tracks"
   ]
  },
  {
   "cell_type": "code",
   "execution_count": null,
   "id": "fd7d78d8",
   "metadata": {
    "scrolled": true
   },
   "outputs": [],
   "source": [
    "fig, ax = plt.subplots(1,2, figsize=(12, 4.3))\n",
    "\n",
    "ax[0].plot( [df.trackEndZ, df.trackStartZ], [df.trackEndY, df.trackStartY], color='black', lw=0.1 )\n",
    "ax[1].plot( [df.trackEndX, df.trackStartX], [df.trackEndY, df.trackStartY], color='black', lw=0.1 )\n",
    "\n",
    "# consider steeper angle\n",
    "_sel_dir_z= (df.trackDirZ > -0.3) & (df.trackDirZ < 0.3 ) \n",
    "_sel_dir_x = (df.trackDirX > -0.1) & (df.trackDirX < 0.1 )\n",
    "_seldir= _sel_dir_z\n",
    "#ax[0].plot( [dfmatches[_seldir].trackEndZ, dfmatches[_seldir].trackStartZ], [dfmatches[_seldir].trackEndY, dfmatches[_seldir].trackStartY], color='red', lw=0.1 )\n",
    "#ax[1].plot( [dfmatches[_seldir].trackEndX, dfmatches[_seldir].trackStartX], [dfmatches[_seldir].trackEndY, dfmatches[_seldir].trackStartY], color='red', lw=0.1 )\n",
    "\n",
    "print( len(df), len(df[_seldir]) )\n",
    "\n",
    "ax[0].set_ylabel(\"Y [cm]\" )  \n",
    "ax[0].set_xlabel(\"Z [cm]\" )  \n",
    "ax[1].set_ylabel(\"Y [cm]\" )  \n",
    "ax[1].set_xlabel(\"X [cm]\" )  \n",
    "\n",
    "plt.savefig(\"../figs/run()_tracks_standard_selection.png\".format(RUN),dpi=100)\n",
    "plt.show()"
   ]
  },
  {
   "cell_type": "markdown",
   "id": "a10b6101",
   "metadata": {},
   "source": [
    "## Explode the dataframe"
   ]
  },
  {
   "cell_type": "code",
   "execution_count": null,
   "id": "dcbb3b4f",
   "metadata": {},
   "outputs": [],
   "source": [
    "## Explode the dataframe \n",
    "df = df.explode([\"time_pmt\", \"pmt_x\", \"pmt_y\", \"pe_pmt\", \"pmt_z\", \"channel_id\"])"
   ]
  },
  {
   "cell_type": "markdown",
   "id": "00850c81",
   "metadata": {},
   "source": [
    "## Add timing corrections (if needed!)"
   ]
  },
  {
   "cell_type": "code",
   "execution_count": null,
   "id": "7e6ea37b",
   "metadata": {},
   "outputs": [],
   "source": [
    "## Import and use laser correction\n",
    "## WARNING: DO NOT USE IF CORRECTIONS WERE ALREADY APPLIED AT STAGE0 \n",
    "## note: laser corrections are in ns!\n",
    "\n",
    "LASERCORR=\"../inputs/laser_time_corrections_20220408.csv\"\n",
    "lasercorr = pd.read_csv(LASERCORR).set_index([\"channel_id\"])\n",
    "lasercorr['t_signal'] = lasercorr['t_signal']/1e3  #convert ns to us\n",
    "\n",
    "df = df.join( lasercorr[[\"t_signal\"]], on=[\"channel_id\"])\n",
    "df['time_pmt'] = df['time_pmt'] + df['t_signal']  ###WARNING:: CURRENLTY REMOVING LASER!!!"
   ]
  },
  {
   "cell_type": "code",
   "execution_count": null,
   "id": "9cfe0268",
   "metadata": {},
   "outputs": [],
   "source": [
    "## WARNING: adding cosmics corrections\n",
    "COSMICSCORR = \"../output/residuals/run8462_cosmics_timing_residuals_20230725.csv\"\n",
    "cosmics = pd.read_csv(COSMICSCORR).set_index(\"channel_id\")\n",
    "\n",
    "df = df.join( cosmics[\"mean_residual_ns\"], on=\"channel_id\" )\n",
    "df[\"time_pmt\"] = df[\"time_pmt\"]-df[\"mean_residual_ns\"]/1e3 #convert ns to us"
   ]
  },
  {
   "cell_type": "code",
   "execution_count": null,
   "id": "ac5af878",
   "metadata": {},
   "outputs": [],
   "source": [
    "df.loc[df[\"pe_pmt\"]>100,[\"event\",\"cryo\",\"flash_id\",\"pmt_y\",\"channel_id\",\"time_pmt\",'t_signal','mean_residual_ns']]"
   ]
  },
  {
   "cell_type": "code",
   "execution_count": null,
   "id": "30805d42",
   "metadata": {},
   "outputs": [],
   "source": [
    "df = df.drop(columns=[\"t_signal\"])"
   ]
  },
  {
   "cell_type": "code",
   "execution_count": null,
   "id": "39c1a9aa",
   "metadata": {},
   "outputs": [],
   "source": [
    "df = df.drop(columns=[\"mean_residual_ns\"])"
   ]
  },
  {
   "cell_type": "markdown",
   "id": "8a2cb217",
   "metadata": {},
   "source": [
    "## Computing fit and residuals"
   ]
  },
  {
   "cell_type": "code",
   "execution_count": null,
   "id": "b8645429",
   "metadata": {},
   "outputs": [],
   "source": [
    "_pecut=300\n",
    "\n",
    "_sel = df.pe_pmt > _pecut\n",
    "meandf = df[_sel][[\"run\", \"event\", \"cryo\", \"flash_id\", \"time_pmt\", \"pe_pmt\", \"pmt_y\"]].groupby([\"run\", \"event\", \"cryo\", \"flash_id\", \"pmt_y\"]).apply( \n",
    "    lambda x : pd.Series( {\n",
    "        \"mean_time\" : np.mean(x.time_pmt),\n",
    "        \"weight_mean_time\" : np.average(x.time_pmt, weights=x.pe_pmt), \n",
    "        \"error_mean_time\": np.std(x.time_pmt) / np.sqrt(len(x.time_pmt)),\n",
    "    }) ).reset_index()\n",
    "\n",
    "meandf = meandf.groupby([\"run\", \"event\", \"cryo\", \"flash_id\"]).agg(list)\n",
    "\n",
    "print(\"PE cut leaves {} tracks\".format( len(meandf) ))"
   ]
  },
  {
   "cell_type": "code",
   "execution_count": null,
   "id": "83b23d67",
   "metadata": {},
   "outputs": [],
   "source": [
    "def getdiff( y, t):\n",
    "    # max y is on top : cosmics are going towards decreasing y \n",
    "    return t[np.argmin(y)] - t[np.argmax(y)]\n",
    "\n",
    "def fittime( y, t ):\n",
    "    try:\n",
    "        res= stats.linregress(y, t)\n",
    "        #print( res.intercept, res.slope)\n",
    "        return res.intercept,  res.slope\n",
    "    except:\n",
    "        return 0,0\n",
    "\n",
    "def residuals( tobs, y, a, b ):\n",
    "    return tobs -  ( a + b*y )"
   ]
  },
  {
   "cell_type": "code",
   "execution_count": null,
   "id": "acd66c57",
   "metadata": {},
   "outputs": [],
   "source": [
    "meandf[\"diff_time\"] = meandf.apply( lambda x : getdiff( x.pmt_y, x.mean_time ), axis=1 ) \n",
    "meandf[[\"intercept\", \"slope\"]] = meandf.apply(lambda x : fittime(x.pmt_y, x.mean_time ), axis=1, result_type=\"expand\" )"
   ]
  },
  {
   "cell_type": "code",
   "execution_count": null,
   "id": "51d99195",
   "metadata": {
    "scrolled": true
   },
   "outputs": [],
   "source": [
    "meandf.head()"
   ]
  },
  {
   "cell_type": "code",
   "execution_count": null,
   "id": "d964e617",
   "metadata": {},
   "outputs": [],
   "source": [
    "# Putting fit back in the exploded dataframe, then compute the residual\n",
    "# This should work for every channel_id\n",
    "\n",
    "# TEST: only positive slopes\n",
    "#dfg = df.join( meandf[meandf.slope<0][[\"intercept\", \"slope\"]], on=[\"run\", \"event\", \"cryo\", \"flash_id\"], how='inner')\n",
    "\n",
    "# all slopes\n",
    "dfg = df.join( meandf[[\"intercept\", \"slope\"]], on=[\"run\", \"event\", \"cryo\", \"flash_id\"], how='inner')\n",
    "dfg[\"residuals\"] = dfg.apply( lambda x : residuals(x.time_pmt, x.pmt_y, x.intercept, x.slope), axis=1 ) \n",
    "\n",
    "# Keep only the residuals on relevant PMT for that event\n",
    "PECUT = 300\n",
    "dfg = dfg[dfg.pe_pmt>PECUT]"
   ]
  },
  {
   "cell_type": "code",
   "execution_count": null,
   "id": "fe9a261f",
   "metadata": {},
   "outputs": [],
   "source": [
    "print(\"Using the above slopes leaves {} tracks\".format( len(dfg.groupby([\"run\", \"event\", \"cryo\", \"flash_id\"])) ) )"
   ]
  },
  {
   "cell_type": "code",
   "execution_count": null,
   "id": "0720e1ca",
   "metadata": {},
   "outputs": [],
   "source": [
    "dfg.head()"
   ]
  },
  {
   "cell_type": "markdown",
   "id": "83da68dd",
   "metadata": {},
   "source": [
    "## Group and save residuals"
   ]
  },
  {
   "cell_type": "code",
   "execution_count": null,
   "id": "2a37423e",
   "metadata": {},
   "outputs": [],
   "source": [
    "us_to_ns = 1e3\n",
    "thisdfg = dfg.groupby([\"channel_id\"]).apply(\n",
    "    lambda x : pd.Series( { \n",
    "            'x': np.mean(x.pmt_x),\n",
    "            'y': np.mean(x.pmt_y),\n",
    "            'z': np.mean(x.pmt_z),\n",
    "            'entries' : len(x.residuals), \n",
    "            'pecut' : PECUT,\n",
    "            'mean_residual_ns' : np.mean(x.residuals)*us_to_ns,\n",
    "            'std_residual_ns' : np.std(x.residuals)*us_to_ns,\n",
    "            'emean_ns' : np.std(x.residuals)*us_to_ns/len(x.residuals)\n",
    "        })).reset_index()"
   ]
  },
  {
   "cell_type": "code",
   "execution_count": null,
   "id": "7e09ae37",
   "metadata": {},
   "outputs": [],
   "source": [
    "thisdfg.head()"
   ]
  },
  {
   "cell_type": "code",
   "execution_count": null,
   "id": "0486baf3",
   "metadata": {},
   "outputs": [],
   "source": [
    "thisdfg.to_csv(OUTFILE, index=False, float_format='%.4f')"
   ]
  },
  {
   "cell_type": "markdown",
   "id": "94db44e4",
   "metadata": {},
   "source": [
    "## Looking at some residuals"
   ]
  },
  {
   "cell_type": "code",
   "execution_count": null,
   "id": "1d2daf32",
   "metadata": {},
   "outputs": [],
   "source": [
    "selected_channel = 15\n",
    "residuals = dfg[dfg.channel_id==selected_channel].residuals.values"
   ]
  },
  {
   "cell_type": "code",
   "execution_count": null,
   "id": "703b6865",
   "metadata": {},
   "outputs": [],
   "source": [
    "fig = plt.figure(dpi=100)\n",
    "\n",
    "lab = \"Channel ID \"+str(selected_channel)+\"\\n\"\n",
    "lab += \"Entries: {}\\n\".format(len(residuals))\n",
    "lab += \"Mean: {:.2f} ns\\n\".format(np.mean(residuals*1e3))\n",
    "lab += \"Std: {:.2f} ns\".format(np.std(residuals*1e3))\n",
    "\n",
    "plt.hist( residuals*1e3, bins=50, range=(-10,20), histtype='step', label=lab)\n",
    "#plt.ylabel(\"# entries\", fontsize=16)\n",
    "plt.xlabel(\"Residuals [ns]\", fontsize=14)\n",
    "plt.tight_layout()\n",
    "plt.grid(linestyle=\"dashed\", alpha=0.5)\n",
    "plt.legend(fontsize=12)\n",
    "#plt.savefig(\"../figs/run8462_channel_{}_residuals.png\".format(selected_channel),dpi=100)\n",
    "plt.show()\n"
   ]
  },
  {
   "cell_type": "code",
   "execution_count": null,
   "id": "155457c1",
   "metadata": {},
   "outputs": [],
   "source": [
    "# Plotting full distribution \n",
    "fig = plt.figure(figsize=(10,5),dpi=300)\n",
    "\n",
    "rmin=-10\n",
    "rmax=10\n",
    "r=(rmin,rmax)\n",
    "s=0.5\n",
    "b=int((rmax-rmin)/s)\n",
    "\n",
    "lab = \"Run {}\\nMean: {:.2f} ns\\nStd: {:.2f} ns\".format(RUN,np.mean(thisdfg.mean_residual_ns),np.std(thisdfg.mean_residual_ns))\n",
    "\n",
    "plt.hist(thisdfg.mean_residual_ns, bins=b, linewidth=2, range=r, histtype=\"step\", label=lab)\n",
    "\n",
    "plt.xlabel(\"Time residual [ns]\")\n",
    "plt.ylabel(\"# PMTs\")\n",
    "plt.legend()\n",
    "plt.grid(linestyle=\"dashed\", alpha=0.5)\n",
    "plt.savefig(\"../figs/run{}_residuals_base&laser.png\".format(RUN),dpi=100)\n",
    "plt.show()"
   ]
  },
  {
   "cell_type": "markdown",
   "id": "de87151a",
   "metadata": {},
   "source": [
    "## Looking at slope"
   ]
  },
  {
   "cell_type": "code",
   "execution_count": null,
   "id": "53ad9125",
   "metadata": {},
   "outputs": [],
   "source": [
    "slopes = meandf[\"slope\"].values\n",
    "len(slopes)"
   ]
  },
  {
   "cell_type": "code",
   "execution_count": null,
   "id": "1cf14244",
   "metadata": {},
   "outputs": [],
   "source": [
    "fig = plt.figure(figsize=(8,4),dpi=100)\n",
    "\n",
    "plt.hist( slopes*1e3, bins=50, range=(-0.1,0.075), histtype='step')\n",
    "plt.ylabel(\"# Flash-Track matches\", fontsize=14)\n",
    "plt.xlabel(\"Fitted slope [cm ns$^{-1}$]\", fontsize=14)\n",
    "\n",
    "plt.axvline(x=0.,color=\"red\",linestyle=\"dotted\")\n",
    "\n",
    "#plt.tight_layout()\n",
    "plt.grid(linestyle=\"dashed\",alpha=0.5)\n",
    "#plt.legend()\n",
    "plt.savefig(\"../figs/run()_slope_distribution.png\".format(RUN))\n",
    "plt.show()\n"
   ]
  },
  {
   "cell_type": "code",
   "execution_count": null,
   "id": "88f823de",
   "metadata": {},
   "outputs": [],
   "source": []
  }
 ],
 "metadata": {
  "kernelspec": {
   "display_name": "Python 3 (ipykernel)",
   "language": "python",
   "name": "python3"
  },
  "language_info": {
   "codemirror_mode": {
    "name": "ipython",
    "version": 3
   },
   "file_extension": ".py",
   "mimetype": "text/x-python",
   "name": "python",
   "nbconvert_exporter": "python",
   "pygments_lexer": "ipython3",
   "version": "3.9.2"
  }
 },
 "nbformat": 4,
 "nbformat_minor": 5
}
