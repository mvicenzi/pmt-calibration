{
 "cells": [
  {
   "cell_type": "code",
   "execution_count": 1,
   "id": "7b69dbdd",
   "metadata": {},
   "outputs": [],
   "source": [
    "import uproot3 as uproot\n",
    "import pandas as pd\n",
    "import numpy as np\n",
    "import matplotlib.pyplot as plt\n",
    "from scipy import stats\n",
    "from scipy.optimize import curve_fit\n",
    "\n",
    "prop_cycle = plt.rcParams['axes.prop_cycle']\n",
    "colors = prop_cycle.by_key()['color']"
   ]
  },
  {
   "cell_type": "code",
   "execution_count": 2,
   "id": "eaec8c14",
   "metadata": {},
   "outputs": [],
   "source": [
    "import sqlite3\n",
    "def readSqlitedb(database=\"/cvmfs/icarus.opensciencegrid.org/products/icarus/icarus_data/v09_78_00/icarus_data/database/ChannelMapICARUS_20230829.db\", table=\"pmt_placements\"):\n",
    "\n",
    "    # Read sqlite query results into a pandas DataFrame\n",
    "    con = sqlite3.connect(database)\n",
    "    df = pd.read_sql_query(\"SELECT * from {}\".format(table), con)\n",
    "    con.close()\n",
    "    return df\n",
    "\n",
    "def getChannelsFromBoard(board):\n",
    "    geo = readSqlitedb()\n",
    "    channels = geo[geo.digitizer_label==board].channel_id.to_numpy()\n",
    "    return channels\n",
    "\n",
    "def getBoardFromChannel(channel):\n",
    "    geo = readSqlitedb()\n",
    "    board = geo[geo.channel_id==channel].digitizer_label.values[0]\n",
    "    return board\n",
    "\n",
    "def getDigitizerChannelFromChannel(channel):\n",
    "    geo = readSqlitedb()\n",
    "    dig_ch = geo[geo.channel_id==channel].digitizer_ch_number.values[0]\n",
    "    return dig_ch\n",
    "\n",
    "def getChannelFromPMTid(pmt):\n",
    "    geo = readSqlitedb()\n",
    "    channel = geo[geo.pmt_id==pmt].channel_id.values[0]\n",
    "    return channel\n",
    "\n",
    "def getSignalCableFromChannel(channel):\n",
    "    geo = readSqlitedb()\n",
    "    cable = geo[geo.channel_id==channel].signal_cable_label.values[0]\n",
    "    return cable"
   ]
  },
  {
   "cell_type": "code",
   "execution_count": 3,
   "id": "9bc2047e",
   "metadata": {},
   "outputs": [],
   "source": [
    "trig_channels = {\n",
    "    \"WW-TOP-A\": 0x6071,\n",
    "    \"WW-BOT-A\": 0x6061,\n",
    "    \"WE-TOP-A\": 0x6051,\n",
    "    \"WE-BOT-A\": 0x6041,\n",
    "    \"EW-TOP-A\": 0x6031,\n",
    "    \"EW-BOT-A\": 0x6021,\n",
    "    \"EE-TOP-A\": 0x6011,\n",
    "    \"EE-BOT-A\": 0x6001,\n",
    "}\n",
    "trig_channels_ = {\n",
    "    0x6071:\"WW-TOP-A\",\n",
    "    0x6061:\"WW-BOT-A\",\n",
    "    0x6051:\"WE-TOP-A\",\n",
    "    0x6041:\"WE-BOT-A\",\n",
    "    0x6031:\"EW-TOP-A\",\n",
    "    0x6021:\"EW-BOT-A\",\n",
    "    0x6011:\"EE-TOP-A\",\n",
    "    0x6001:\"EE-BOT-A\",\n",
    "}"
   ]
  },
  {
   "cell_type": "markdown",
   "id": "2bbf1788",
   "metadata": {},
   "source": [
    "## CHECK AFTER REMOVING THE ADDITIONAL 8ns"
   ]
  },
  {
   "cell_type": "code",
   "execution_count": 5,
   "id": "f5e25f04",
   "metadata": {},
   "outputs": [
    {
     "data": {
      "text/html": [
       "<div>\n",
       "<style scoped>\n",
       "    .dataframe tbody tr th:only-of-type {\n",
       "        vertical-align: middle;\n",
       "    }\n",
       "\n",
       "    .dataframe tbody tr th {\n",
       "        vertical-align: top;\n",
       "    }\n",
       "\n",
       "    .dataframe thead th {\n",
       "        text-align: right;\n",
       "    }\n",
       "</style>\n",
       "<table border=\"1\" class=\"dataframe\">\n",
       "  <thead>\n",
       "    <tr style=\"text-align: right;\">\n",
       "      <th></th>\n",
       "      <th>run</th>\n",
       "      <th>event</th>\n",
       "      <th>timestamp</th>\n",
       "      <th>trg_channel</th>\n",
       "      <th>wf_corr</th>\n",
       "    </tr>\n",
       "    <tr>\n",
       "      <th>entry</th>\n",
       "      <th></th>\n",
       "      <th></th>\n",
       "      <th></th>\n",
       "      <th></th>\n",
       "      <th></th>\n",
       "    </tr>\n",
       "  </thead>\n",
       "  <tbody>\n",
       "    <tr>\n",
       "      <th>0</th>\n",
       "      <td>8461</td>\n",
       "      <td>63545</td>\n",
       "      <td>1654814017</td>\n",
       "      <td>24577.0</td>\n",
       "      <td>0.176</td>\n",
       "    </tr>\n",
       "    <tr>\n",
       "      <th>1</th>\n",
       "      <td>8461</td>\n",
       "      <td>63545</td>\n",
       "      <td>1654814017</td>\n",
       "      <td>24577.0</td>\n",
       "      <td>0.176</td>\n",
       "    </tr>\n",
       "    <tr>\n",
       "      <th>2</th>\n",
       "      <td>8461</td>\n",
       "      <td>63545</td>\n",
       "      <td>1654814017</td>\n",
       "      <td>24577.0</td>\n",
       "      <td>0.176</td>\n",
       "    </tr>\n",
       "    <tr>\n",
       "      <th>3</th>\n",
       "      <td>8461</td>\n",
       "      <td>63545</td>\n",
       "      <td>1654814017</td>\n",
       "      <td>24577.0</td>\n",
       "      <td>0.176</td>\n",
       "    </tr>\n",
       "    <tr>\n",
       "      <th>4</th>\n",
       "      <td>8461</td>\n",
       "      <td>63545</td>\n",
       "      <td>1654814017</td>\n",
       "      <td>24577.0</td>\n",
       "      <td>0.176</td>\n",
       "    </tr>\n",
       "  </tbody>\n",
       "</table>\n",
       "</div>"
      ],
      "text/plain": [
       "        run  event   timestamp  trg_channel  wf_corr\n",
       "entry                                               \n",
       "0      8461  63545  1654814017      24577.0    0.176\n",
       "1      8461  63545  1654814017      24577.0    0.176\n",
       "2      8461  63545  1654814017      24577.0    0.176\n",
       "3      8461  63545  1654814017      24577.0    0.176\n",
       "4      8461  63545  1654814017      24577.0    0.176"
      ]
     },
     "execution_count": 5,
     "metadata": {},
     "output_type": "execute_result"
    }
   ],
   "source": [
    "fold = \"/icarus/app/users/mvicenzi/OpHit/Trees-run8461_OLD_TABLE.root\"\n",
    "fnew = \"/icarus/app/users/mvicenzi/OpHit/Trees-run8461_NEW_TABLE.root\"\n",
    "\n",
    "told = uproot.open(fold)\n",
    "tnew = uproot.open(fnew)\n",
    "do = told[\"checker/trigtree\"].arrays(outputtype=pd.DataFrame, flatten=False)\n",
    "dn = tnew[\"checker/trigtree\"].arrays(outputtype=pd.DataFrame, flatten=False)\n",
    "do.head()"
   ]
  },
  {
   "cell_type": "code",
   "execution_count": 6,
   "id": "510e8d9c",
   "metadata": {},
   "outputs": [
    {
     "data": {
      "image/png": "[encoded data removed]",
      "text/plain": [
       "<Figure size 576x360 with 1 Axes>"
      ]
     },
     "metadata": {
      "needs_background": "light"
     },
     "output_type": "display_data"
    }
   ],
   "source": [
    "EVENT = 63545\n",
    "fig = plt.figure(figsize=(8,5))\n",
    "plt.scatter(do[do.event==EVENT].trg_channel,do[do.event==EVENT].wf_corr,label=\"w/ 8ns phase delay\")\n",
    "plt.scatter(dn[dn.event==EVENT].trg_channel,dn[dn.event==EVENT].wf_corr,label=\"w/o 8ns phase delay\", marker=\"^\")\n",
    "\n",
    "plt.title(\"Trigger-HW corrections for Run {} Event {}\".format(8461,EVENT))\n",
    "plt.xlabel(\"Laser channel ID\")\n",
    "plt.ylabel(\"Time correction [us]\")\n",
    "plt.axvline(x=trig_channels[\"EE-BOT-A\"], color=\"red\", linestyle=\"dashed\", label=\"EE-BOT\")\n",
    "plt.axvline(x=trig_channels[\"WE-TOP-A\"], color=\"magenta\", linestyle=\"dashed\", label=\"WE-TOP\")\n",
    "plt.legend()\n",
    "plt.grid()\n",
    "plt.show()"
   ]
  },
  {
   "cell_type": "code",
   "execution_count": 211,
   "id": "ea139933",
   "metadata": {},
   "outputs": [
    {
     "data": {
      "text/html": [
       "<div>\n",
       "<style scoped>\n",
       "    .dataframe tbody tr th:only-of-type {\n",
       "        vertical-align: middle;\n",
       "    }\n",
       "\n",
       "    .dataframe tbody tr th {\n",
       "        vertical-align: top;\n",
       "    }\n",
       "\n",
       "    .dataframe thead th {\n",
       "        text-align: right;\n",
       "    }\n",
       "</style>\n",
       "<table border=\"1\" class=\"dataframe\">\n",
       "  <thead>\n",
       "    <tr style=\"text-align: right;\">\n",
       "      <th></th>\n",
       "      <th>run</th>\n",
       "      <th>event</th>\n",
       "      <th>timestamp</th>\n",
       "      <th>channel_id</th>\n",
       "      <th>tstart</th>\n",
       "      <th>tpeak</th>\n",
       "      <th>trise</th>\n",
       "      <th>tstart_corr</th>\n",
       "      <th>tpeak_corr</th>\n",
       "      <th>trise_corr</th>\n",
       "      <th>laser</th>\n",
       "      <th>cosmics</th>\n",
       "      <th>corr</th>\n",
       "    </tr>\n",
       "    <tr>\n",
       "      <th>entry</th>\n",
       "      <th></th>\n",
       "      <th></th>\n",
       "      <th></th>\n",
       "      <th></th>\n",
       "      <th></th>\n",
       "      <th></th>\n",
       "      <th></th>\n",
       "      <th></th>\n",
       "      <th></th>\n",
       "      <th></th>\n",
       "      <th></th>\n",
       "      <th></th>\n",
       "      <th></th>\n",
       "    </tr>\n",
       "  </thead>\n",
       "  <tbody>\n",
       "    <tr>\n",
       "      <th>0</th>\n",
       "      <td>8461</td>\n",
       "      <td>63545</td>\n",
       "      <td>1654814017</td>\n",
       "      <td>0</td>\n",
       "      <td>-872.166</td>\n",
       "      <td>-872.156</td>\n",
       "      <td>0.01</td>\n",
       "      <td>-872.420882</td>\n",
       "      <td>-872.410882</td>\n",
       "      <td>0.01</td>\n",
       "      <td>-0.253126</td>\n",
       "      <td>-0.001756</td>\n",
       "      <td>0.254882</td>\n",
       "    </tr>\n",
       "    <tr>\n",
       "      <th>1</th>\n",
       "      <td>8461</td>\n",
       "      <td>63545</td>\n",
       "      <td>1654814017</td>\n",
       "      <td>0</td>\n",
       "      <td>-870.916</td>\n",
       "      <td>-870.904</td>\n",
       "      <td>0.01</td>\n",
       "      <td>-871.170882</td>\n",
       "      <td>-871.158882</td>\n",
       "      <td>0.01</td>\n",
       "      <td>-0.253126</td>\n",
       "      <td>-0.001756</td>\n",
       "      <td>0.254882</td>\n",
       "    </tr>\n",
       "    <tr>\n",
       "      <th>2</th>\n",
       "      <td>8461</td>\n",
       "      <td>63545</td>\n",
       "      <td>1654814017</td>\n",
       "      <td>0</td>\n",
       "      <td>-870.656</td>\n",
       "      <td>-870.642</td>\n",
       "      <td>0.01</td>\n",
       "      <td>-870.910882</td>\n",
       "      <td>-870.896882</td>\n",
       "      <td>0.01</td>\n",
       "      <td>-0.253126</td>\n",
       "      <td>-0.001756</td>\n",
       "      <td>0.254882</td>\n",
       "    </tr>\n",
       "    <tr>\n",
       "      <th>3</th>\n",
       "      <td>8461</td>\n",
       "      <td>63545</td>\n",
       "      <td>1654814017</td>\n",
       "      <td>0</td>\n",
       "      <td>-869.442</td>\n",
       "      <td>-869.428</td>\n",
       "      <td>0.01</td>\n",
       "      <td>-869.696882</td>\n",
       "      <td>-869.682882</td>\n",
       "      <td>0.01</td>\n",
       "      <td>-0.253126</td>\n",
       "      <td>-0.001756</td>\n",
       "      <td>0.254882</td>\n",
       "    </tr>\n",
       "    <tr>\n",
       "      <th>4</th>\n",
       "      <td>8461</td>\n",
       "      <td>63545</td>\n",
       "      <td>1654814017</td>\n",
       "      <td>0</td>\n",
       "      <td>-863.910</td>\n",
       "      <td>-863.900</td>\n",
       "      <td>0.01</td>\n",
       "      <td>-864.164882</td>\n",
       "      <td>-864.154882</td>\n",
       "      <td>0.01</td>\n",
       "      <td>-0.253126</td>\n",
       "      <td>-0.001756</td>\n",
       "      <td>0.254882</td>\n",
       "    </tr>\n",
       "  </tbody>\n",
       "</table>\n",
       "</div>"
      ],
      "text/plain": [
       "        run  event   timestamp  channel_id   tstart    tpeak  trise  \\\n",
       "entry                                                                 \n",
       "0      8461  63545  1654814017           0 -872.166 -872.156   0.01   \n",
       "1      8461  63545  1654814017           0 -870.916 -870.904   0.01   \n",
       "2      8461  63545  1654814017           0 -870.656 -870.642   0.01   \n",
       "3      8461  63545  1654814017           0 -869.442 -869.428   0.01   \n",
       "4      8461  63545  1654814017           0 -863.910 -863.900   0.01   \n",
       "\n",
       "       tstart_corr  tpeak_corr  trise_corr     laser   cosmics      corr  \n",
       "entry                                                                     \n",
       "0      -872.420882 -872.410882        0.01 -0.253126 -0.001756  0.254882  \n",
       "1      -871.170882 -871.158882        0.01 -0.253126 -0.001756  0.254882  \n",
       "2      -870.910882 -870.896882        0.01 -0.253126 -0.001756  0.254882  \n",
       "3      -869.696882 -869.682882        0.01 -0.253126 -0.001756  0.254882  \n",
       "4      -864.164882 -864.154882        0.01 -0.253126 -0.001756  0.254882  "
      ]
     },
     "execution_count": 211,
     "metadata": {},
     "output_type": "execute_result"
    }
   ],
   "source": [
    "del do; del dn\n",
    "do = told[\"checker/ophittree\"].arrays(outputtype=pd.DataFrame, flatten=False)\n",
    "dn = tnew[\"checker/ophittree\"].arrays(outputtype=pd.DataFrame, flatten=False)\n",
    "do.head()"
   ]
  },
  {
   "cell_type": "code",
   "execution_count": 212,
   "id": "92368ea3",
   "metadata": {},
   "outputs": [],
   "source": [
    "wetopA = getChannelsFromBoard(\"WE-TOP-A\")\n",
    "wetopB = getChannelsFromBoard(\"WE-TOP-B\")\n",
    "wetopC = getChannelsFromBoard(\"WE-TOP-C\")"
   ]
  },
  {
   "cell_type": "code",
   "execution_count": 213,
   "id": "3b31b55a",
   "metadata": {},
   "outputs": [
    {
     "data": {
      "image/png": "[encoded data removed]",
      "text/plain": [
       "<Figure size 576x360 with 1 Axes>"
      ]
     },
     "metadata": {
      "needs_background": "light"
     },
     "output_type": "display_data"
    },
    {
     "name": "stdout",
     "output_type": "stream",
     "text": [
      "[238 239 235 236 237 230 233 234 232 231 220 223 224 222 221]\n"
     ]
    }
   ],
   "source": [
    "fig = plt.figure(figsize=(8,5))\n",
    "\n",
    "plt.hist( do[(do.channel_id.isin(wetopA))&(do.event==EVENT)].tstart - dn[(dn.channel_id.isin(wetopA))&(dn.event==EVENT)].tstart,\n",
    "          label=\"WE-TOP-A\", range=(-0.01,0.01), bins=40, alpha=0.5 )\n",
    "plt.hist( do[(do.channel_id.isin(wetopB))&(do.event==EVENT)].tstart - dn[(dn.channel_id.isin(wetopB))&(dn.event==EVENT)].tstart,\n",
    "          label=\"WE-TOP-B\", range=(-0.01,0.01), bins=40, alpha=0.5 )\n",
    "plt.hist( do[(do.channel_id.isin(wetopC))&(do.event==EVENT)].tstart - dn[(dn.channel_id.isin(wetopC))&(dn.event==EVENT)].tstart,\n",
    "          label=\"WE-TOP-C\", range=(-0.01,0.01), bins=40, alpha=0.5 )\n",
    "plt.xlabel(\"Hit tstart_old - tstart_new [us]\")\n",
    "plt.legend()\n",
    "plt.grid()\n",
    "plt.show()\n",
    "print(wetopC)"
   ]
  },
  {
   "cell_type": "code",
   "execution_count": 214,
   "id": "9176e0a7",
   "metadata": {},
   "outputs": [
    {
     "data": {
      "image/png": "[encoded data removed]",
      "text/plain": [
       "<Figure size 576x360 with 1 Axes>"
      ]
     },
     "metadata": {
      "needs_background": "light"
     },
     "output_type": "display_data"
    },
    {
     "name": "stdout",
     "output_type": "stream",
     "text": [
      "[238 239 235 236 237 230 233 234 232 231 220 223 224 222 221]\n"
     ]
    }
   ],
   "source": [
    "fig = plt.figure(figsize=(8,5))\n",
    "\n",
    "plt.hist( do[(do.channel_id.isin(wetopA))&(do.event==EVENT)].tstart_corr - dn[(dn.channel_id.isin(wetopA))&(dn.event==EVENT)].tstart_corr,\n",
    "          label=\"WE-TOP-A\", range=(-0.01,0.01), bins=40, alpha=0.5 )\n",
    "plt.hist( do[(do.channel_id.isin(wetopB))&(do.event==EVENT)].tstart_corr - dn[(dn.channel_id.isin(wetopB))&(dn.event==EVENT)].tstart_corr,\n",
    "          label=\"WE-TOP-B\", range=(-0.01,0.01), bins=40, alpha=0.5 )\n",
    "plt.hist( do[(do.channel_id.isin(wetopC))&(do.event==EVENT)].tstart_corr - dn[(dn.channel_id.isin(wetopC))&(dn.event==EVENT)].tstart_corr,\n",
    "          label=\"WE-TOP-C\", range=(-0.01,0.01), bins=40, alpha=0.5 )\n",
    "plt.xlabel(\"Hit tstart_old_corr - tstart_new_corr [us]\")\n",
    "plt.legend()\n",
    "plt.grid()\n",
    "plt.show()\n",
    "print(wetopC)"
   ]
  },
  {
   "cell_type": "markdown",
   "id": "7392fb9d",
   "metadata": {},
   "source": [
    "## CHECK IF POSITIVE SLOPE IS RELATED TO WE-TOP"
   ]
  },
  {
   "cell_type": "code",
   "execution_count": 224,
   "id": "b5bb8449",
   "metadata": {},
   "outputs": [
    {
     "data": {
      "text/html": [
       "<div>\n",
       "<style scoped>\n",
       "    .dataframe tbody tr th:only-of-type {\n",
       "        vertical-align: middle;\n",
       "    }\n",
       "\n",
       "    .dataframe tbody tr th {\n",
       "        vertical-align: top;\n",
       "    }\n",
       "\n",
       "    .dataframe thead th {\n",
       "        text-align: right;\n",
       "    }\n",
       "</style>\n",
       "<table border=\"1\" class=\"dataframe\">\n",
       "  <thead>\n",
       "    <tr style=\"text-align: right;\">\n",
       "      <th></th>\n",
       "      <th>entry</th>\n",
       "      <th>run</th>\n",
       "      <th>event</th>\n",
       "      <th>timestamp</th>\n",
       "      <th>flash_id</th>\n",
       "      <th>flash_time</th>\n",
       "      <th>flash_y</th>\n",
       "      <th>flash_width_y</th>\n",
       "      <th>flash_z</th>\n",
       "      <th>flash_width_z</th>\n",
       "      <th>...</th>\n",
       "      <th>trackEndY</th>\n",
       "      <th>trackEndZ</th>\n",
       "      <th>trackDirX</th>\n",
       "      <th>trackDirY</th>\n",
       "      <th>trackDirZ</th>\n",
       "      <th>trackLenght</th>\n",
       "      <th>channel_id</th>\n",
       "      <th>intercept</th>\n",
       "      <th>slope</th>\n",
       "      <th>residuals</th>\n",
       "    </tr>\n",
       "  </thead>\n",
       "  <tbody>\n",
       "    <tr>\n",
       "      <th>0</th>\n",
       "      <td>17</td>\n",
       "      <td>8461</td>\n",
       "      <td>63617</td>\n",
       "      <td>1654814122</td>\n",
       "      <td>3</td>\n",
       "      <td>220.21385</td>\n",
       "      <td>-33.65027</td>\n",
       "      <td>72.169685</td>\n",
       "      <td>579.89233</td>\n",
       "      <td>119.119446</td>\n",
       "      <td>...</td>\n",
       "      <td>-178.392</td>\n",
       "      <td>496.005</td>\n",
       "      <td>-0.311158</td>\n",
       "      <td>-0.856341</td>\n",
       "      <td>-0.412141</td>\n",
       "      <td>391.605</td>\n",
       "      <td>65</td>\n",
       "      <td>220.214181</td>\n",
       "      <td>0.000018</td>\n",
       "      <td>-0.009967</td>\n",
       "    </tr>\n",
       "    <tr>\n",
       "      <th>1</th>\n",
       "      <td>17</td>\n",
       "      <td>8461</td>\n",
       "      <td>63617</td>\n",
       "      <td>1654814122</td>\n",
       "      <td>3</td>\n",
       "      <td>220.21385</td>\n",
       "      <td>-33.65027</td>\n",
       "      <td>72.169685</td>\n",
       "      <td>579.89233</td>\n",
       "      <td>119.119446</td>\n",
       "      <td>...</td>\n",
       "      <td>-178.392</td>\n",
       "      <td>496.005</td>\n",
       "      <td>-0.311158</td>\n",
       "      <td>-0.856341</td>\n",
       "      <td>-0.412141</td>\n",
       "      <td>391.605</td>\n",
       "      <td>68</td>\n",
       "      <td>220.214181</td>\n",
       "      <td>0.000018</td>\n",
       "      <td>0.001125</td>\n",
       "    </tr>\n",
       "    <tr>\n",
       "      <th>2</th>\n",
       "      <td>17</td>\n",
       "      <td>8461</td>\n",
       "      <td>63617</td>\n",
       "      <td>1654814122</td>\n",
       "      <td>3</td>\n",
       "      <td>220.21385</td>\n",
       "      <td>-33.65027</td>\n",
       "      <td>72.169685</td>\n",
       "      <td>579.89233</td>\n",
       "      <td>119.119446</td>\n",
       "      <td>...</td>\n",
       "      <td>-178.392</td>\n",
       "      <td>496.005</td>\n",
       "      <td>-0.311158</td>\n",
       "      <td>-0.856341</td>\n",
       "      <td>-0.412141</td>\n",
       "      <td>391.605</td>\n",
       "      <td>69</td>\n",
       "      <td>220.214181</td>\n",
       "      <td>0.000018</td>\n",
       "      <td>0.001226</td>\n",
       "    </tr>\n",
       "    <tr>\n",
       "      <th>3</th>\n",
       "      <td>17</td>\n",
       "      <td>8461</td>\n",
       "      <td>63617</td>\n",
       "      <td>1654814122</td>\n",
       "      <td>3</td>\n",
       "      <td>220.21385</td>\n",
       "      <td>-33.65027</td>\n",
       "      <td>72.169685</td>\n",
       "      <td>579.89233</td>\n",
       "      <td>119.119446</td>\n",
       "      <td>...</td>\n",
       "      <td>-178.392</td>\n",
       "      <td>496.005</td>\n",
       "      <td>-0.311158</td>\n",
       "      <td>-0.856341</td>\n",
       "      <td>-0.412141</td>\n",
       "      <td>391.605</td>\n",
       "      <td>70</td>\n",
       "      <td>220.214181</td>\n",
       "      <td>0.000018</td>\n",
       "      <td>0.002957</td>\n",
       "    </tr>\n",
       "    <tr>\n",
       "      <th>4</th>\n",
       "      <td>17</td>\n",
       "      <td>8461</td>\n",
       "      <td>63617</td>\n",
       "      <td>1654814122</td>\n",
       "      <td>3</td>\n",
       "      <td>220.21385</td>\n",
       "      <td>-33.65027</td>\n",
       "      <td>72.169685</td>\n",
       "      <td>579.89233</td>\n",
       "      <td>119.119446</td>\n",
       "      <td>...</td>\n",
       "      <td>-178.392</td>\n",
       "      <td>496.005</td>\n",
       "      <td>-0.311158</td>\n",
       "      <td>-0.856341</td>\n",
       "      <td>-0.412141</td>\n",
       "      <td>391.605</td>\n",
       "      <td>72</td>\n",
       "      <td>220.214181</td>\n",
       "      <td>0.000018</td>\n",
       "      <td>-0.000317</td>\n",
       "    </tr>\n",
       "  </tbody>\n",
       "</table>\n",
       "<p>5 rows × 44 columns</p>\n",
       "</div>"
      ],
      "text/plain": [
       "   entry   run  event   timestamp  flash_id  flash_time   flash_y  \\\n",
       "0     17  8461  63617  1654814122         3   220.21385 -33.65027   \n",
       "1     17  8461  63617  1654814122         3   220.21385 -33.65027   \n",
       "2     17  8461  63617  1654814122         3   220.21385 -33.65027   \n",
       "3     17  8461  63617  1654814122         3   220.21385 -33.65027   \n",
       "4     17  8461  63617  1654814122         3   220.21385 -33.65027   \n",
       "\n",
       "   flash_width_y    flash_z  flash_width_z  ...  trackEndY  trackEndZ  \\\n",
       "0      72.169685  579.89233     119.119446  ...   -178.392    496.005   \n",
       "1      72.169685  579.89233     119.119446  ...   -178.392    496.005   \n",
       "2      72.169685  579.89233     119.119446  ...   -178.392    496.005   \n",
       "3      72.169685  579.89233     119.119446  ...   -178.392    496.005   \n",
       "4      72.169685  579.89233     119.119446  ...   -178.392    496.005   \n",
       "\n",
       "   trackDirX  trackDirY  trackDirZ trackLenght  channel_id   intercept  \\\n",
       "0  -0.311158  -0.856341  -0.412141     391.605          65  220.214181   \n",
       "1  -0.311158  -0.856341  -0.412141     391.605          68  220.214181   \n",
       "2  -0.311158  -0.856341  -0.412141     391.605          69  220.214181   \n",
       "3  -0.311158  -0.856341  -0.412141     391.605          70  220.214181   \n",
       "4  -0.311158  -0.856341  -0.412141     391.605          72  220.214181   \n",
       "\n",
       "      slope  residuals  \n",
       "0  0.000018  -0.009967  \n",
       "1  0.000018   0.001125  \n",
       "2  0.000018   0.001226  \n",
       "3  0.000018   0.002957  \n",
       "4  0.000018  -0.000317  \n",
       "\n",
       "[5 rows x 44 columns]"
      ]
     },
     "execution_count": 224,
     "metadata": {},
     "output_type": "execute_result"
    }
   ],
   "source": [
    "dump_file = \"../dump_run8461.csv\"\n",
    "olddf = pd.read_csv(dump_file)\n",
    "olddf.head()"
   ]
  },
  {
   "cell_type": "code",
   "execution_count": 225,
   "id": "abb8366d",
   "metadata": {},
   "outputs": [],
   "source": [
    "df_pos = olddf[olddf.slope>0]\n",
    "df_pos = df_pos.groupby([\"run\", \"event\", \"timestamp\", \"cryo\", \"flash_id\"]).agg(list)"
   ]
  },
  {
   "cell_type": "code",
   "execution_count": 226,
   "id": "4911410e",
   "metadata": {},
   "outputs": [
    {
     "name": "stdout",
     "output_type": "stream",
     "text": [
      "all positive slopes: 119\n",
      "87 125 56\n"
     ]
    }
   ],
   "source": [
    "a = df_pos.channel_id.to_numpy()\n",
    "print(\"all positive slopes: {}\".format(len(a)))\n",
    "A, B, C = 0, 0, 0\n",
    "\n",
    "for l in a:\n",
    "    for ch in l:\n",
    "        board = getBoardFromChannel(ch)\n",
    "        if board == \"WE-TOP-C\":\n",
    "                C +=1\n",
    "        elif board == \"WE-TOP-A\":\n",
    "                A += 1\n",
    "        elif board == \"WE-TOP-B\":\n",
    "                B += 1\n",
    "                            \n",
    "print(A, B, C)"
   ]
  },
  {
   "cell_type": "markdown",
   "id": "a2bc5a30",
   "metadata": {},
   "source": [
    "## CHECK HOW RESIDUALS CHANGE IF +8ns TO WE-TOP-C\n",
    "Use the flashana you reprocessed + old track file. Since the change is 8ns, we assume that the flashes are identical and therefore the track-flash association stays the same"
   ]
  },
  {
   "cell_type": "code",
   "execution_count": 227,
   "id": "07d761cb",
   "metadata": {},
   "outputs": [],
   "source": [
    "def loadFiles( filelist, treename1, treename2, maxfiles=100, flatenndf=False):\n",
    "    data1 = pd.DataFrame()\n",
    "    data2 = pd.DataFrame()\n",
    "    for i,tfile in enumerate(filelist[0:maxfiles]):\n",
    "        if i%10 == 0:\n",
    "            print(\"{} files processed\".format(i))\n",
    "        ttree = uproot.open(tfile)\n",
    "        data1 = pd.concat([data1, ttree[treename1].arrays(outputtype=pd.DataFrame,flatten=flatenndf)])\n",
    "        data2 = pd.concat([data2, ttree[treename2].arrays(outputtype=pd.DataFrame,flatten=flatenndf)])\n",
    "    return data1, data2"
   ]
  },
  {
   "cell_type": "code",
   "execution_count": 228,
   "id": "30267be8",
   "metadata": {},
   "outputs": [],
   "source": [
    "def getdiff( y, t):\n",
    "    # max y is on top : cosmics are going towards decreasing y \n",
    "    return t[np.argmin(y)] - t[np.argmax(y)]\n",
    "\n",
    "def fittime( y, t ):\n",
    "    try:\n",
    "        res= stats.linregress(y, t)\n",
    "        #print( res.intercept, res.slope)\n",
    "        return res.intercept,  res.slope\n",
    "    except:\n",
    "        return 0,0\n",
    "\n",
    "def residuals( tobs, y, a, b ):\n",
    "    return tobs -  ( a + b*y )"
   ]
  },
  {
   "cell_type": "code",
   "execution_count": 234,
   "id": "ac392e16",
   "metadata": {},
   "outputs": [],
   "source": [
    "def RUN_ALL( MATCHES, FILENAMES, remove_cosmics=False, remove_laser=False):\n",
    "    \n",
    "    ## Get the light data and combine the two cryostats\n",
    "    dfw, dfe = loadFiles(FILENAMES, \"flashana/opflashCryoW_flashtree\", \"flashana/opflashCryoE_flashtree\", 1)\n",
    "    dfw[\"cryo\"] = 1\n",
    "    dfe[\"cryo\"] = 0\n",
    "    dfw.drop(columns=[\"multiplicity\",\"multiplicity_right\",\"multiplicity_left\",\"sum_pe\",\"sum_pe_right\",\"sum_pe_left\"],inplace=True)\n",
    "    dfe.drop(columns=[\"multiplicity\",\"multiplicity_right\",\"multiplicity_left\",\"sum_pe\",\"sum_pe_right\",\"sum_pe_left\"],inplace=True)\n",
    "    df = pd.concat([dfe, dfw])\n",
    "\n",
    "    del dfw\n",
    "    del dfe\n",
    "    \n",
    "    dfmatches = pd.read_csv(MATCHES)\n",
    "    dfmatches.rename(columns={'flashID':\"flash_id\"}, inplace=True)\n",
    "    dfmatches.set_index([\"run\", \"event\", \"cryo\", \"flash_id\"], inplace=True)\n",
    "    df = (df.join( dfmatches, on=[\"run\", \"event\", \"cryo\", \"flash_id\"], how='inner'))\n",
    "    df[\"channel_id\"] = df.pmt_y.apply( lambda x : np.arange(len(x)) )\n",
    "\n",
    "    print(\"Consider {} tracks\".format( len(df) ) )\n",
    "    \n",
    "    ## Explode the dataframe \n",
    "    df = df.explode([\"time_pmt\", \"pmt_x\", \"pmt_y\", \"pe_pmt\", \"pmt_z\", \"amplitude_pmt\",\"channel_id\"])\n",
    "    \n",
    "    if ( remove_cosmics ):\n",
    "        COSMICSCORR = \"../output/residuals/FINAL/cosmics_timing_residuals_t8046_offpmts_20230727.csv\"\n",
    "        cosmics = pd.read_csv(COSMICSCORR).set_index(\"channel_id\")\n",
    "        df = df.join( cosmics[\"mean_residual_ns\"], on=\"channel_id\" )\n",
    "        df[\"time_pmt\"] = df[\"time_pmt\"]+df[\"mean_residual_ns\"]/1e3 #convert ns to us\n",
    "        \n",
    "    _pecut=300\n",
    "\n",
    "    _sel = (df.pe_pmt > _pecut)\n",
    "    meandf = df[_sel][[\"run\", \"event\", \"cryo\", \"flash_id\", \"time_pmt\", \"pe_pmt\", \"pmt_y\"]].groupby([\"run\", \"event\", \"cryo\", \"flash_id\", \"pmt_y\"]).apply( \n",
    "        lambda x : pd.Series( {\n",
    "        \"mean_time\" : np.mean(x.time_pmt),\n",
    "        \"weight_mean_time\" : np.average(x.time_pmt, weights=x.pe_pmt), \n",
    "        \"error_mean_time\": np.std(x.time_pmt) / np.sqrt(len(x.time_pmt)),\n",
    "    }) ).reset_index()\n",
    "\n",
    "    meandf = meandf.groupby([\"run\", \"event\", \"cryo\", \"flash_id\"]).agg(list)\n",
    "\n",
    "    print(\"PE cut leaves {} tracks\".format( len(meandf) ))\n",
    "    \n",
    "    meandf[\"diff_time\"] = meandf.apply( lambda x : getdiff( x.pmt_y, x.mean_time ), axis=1 ) \n",
    "    meandf[[\"intercept\", \"slope\"]] = meandf.apply(lambda x : fittime(x.pmt_y, x.mean_time ), axis=1, result_type=\"expand\" )\n",
    "    \n",
    "    dfg = df.join( meandf[[\"intercept\", \"slope\"]], on=[\"run\", \"event\", \"cryo\", \"flash_id\"], how='inner')\n",
    "    dfg[\"residuals\"] = dfg.apply( lambda x : residuals(x.time_pmt, x.pmt_y, x.intercept, x.slope), axis=1 ) \n",
    "\n",
    "    # Keep only the residuals on relevant PMT for that event\n",
    "    PECUT = 300\n",
    "    dfg = dfg[(dfg.pe_pmt>PECUT)]\n",
    "    \n",
    "    us_to_ns = 1e3\n",
    "    thisdfg = dfg.groupby([\"channel_id\"]).apply(\n",
    "    lambda x : pd.Series( { \n",
    "            'x': np.mean(x.pmt_x),\n",
    "            'y': np.mean(x.pmt_y),\n",
    "            'z': np.mean(x.pmt_z),\n",
    "            'entries' : len(x.residuals), \n",
    "            'pecut' : PECUT,\n",
    "            'mean_residual_ns' : np.mean(x.residuals)*us_to_ns,\n",
    "            'std_residual_ns' : np.std(x.residuals)*us_to_ns,\n",
    "            'emean_ns' : np.std(x.residuals)*us_to_ns/len(x.residuals)\n",
    "        })).reset_index()\n",
    "    \n",
    "    return thisdfg, meandf"
   ]
  },
  {
   "cell_type": "code",
   "execution_count": 249,
   "id": "c9e78d88",
   "metadata": {},
   "outputs": [
    {
     "name": "stdout",
     "output_type": "stream",
     "text": [
      "0 files processed\n",
      "Consider 39 tracks\n",
      "PE cut leaves 39 tracks\n"
     ]
    }
   ],
   "source": [
    "MATCHES = \"../output/run8461_matched_light_tracks.txt\"\n",
    "FILENAMES = [ \"/icarus/app/users/mvicenzi/OpHit/Trees-run8461_OLD_TABLE.root\" ]\n",
    "\n",
    "df_old, meandf_old = RUN_ALL(MATCHES, FILENAMES, remove_cosmics=True)"
   ]
  },
  {
   "cell_type": "code",
   "execution_count": 250,
   "id": "1625407c",
   "metadata": {},
   "outputs": [
    {
     "name": "stdout",
     "output_type": "stream",
     "text": [
      "0 files processed\n",
      "Consider 39 tracks\n",
      "PE cut leaves 39 tracks\n"
     ]
    }
   ],
   "source": [
    "MATCHES = \"../output/run8461_matched_light_tracks.txt\"\n",
    "FILENAMES = [ \"/icarus/app/users/mvicenzi/OpHit/Trees-run8461_NEW_TABLE.root\" ]\n",
    "\n",
    "df_new, meandf_new = RUN_ALL(MATCHES, FILENAMES, remove_cosmics=True)"
   ]
  },
  {
   "cell_type": "code",
   "execution_count": 251,
   "id": "61d44e18",
   "metadata": {},
   "outputs": [
    {
     "data": {
      "image/png": "[encoded data removed]",
      "text/plain": [
       "<Figure size 600x400 with 1 Axes>"
      ]
     },
     "metadata": {
      "needs_background": "light"
     },
     "output_type": "display_data"
    }
   ],
   "source": [
    "# Plotting full distribution \n",
    "fig = plt.figure(dpi=100)\n",
    "\n",
    "rmin=-10\n",
    "rmax=10\n",
    "r=(rmin,rmax)\n",
    "s=0.5\n",
    "b=int((rmax-rmin)/s)\n",
    "\n",
    "resold = df_old.mean_residual_ns.to_numpy()\n",
    "resnew = df_new.mean_residual_ns.to_numpy()\n",
    "\n",
    "\n",
    "labold = \"OLD {}\\nMean: {:.2f} ns\\nStd: {:.2f} ns\".format(8461,np.mean(resold),np.std(resold))\n",
    "labnew = \"NEW {}\\nMean: {:.2f} ns\\nStd: {:.2f} ns\".format(8461,np.mean(resnew),np.std(resnew))\n",
    "\n",
    "\n",
    "plt.hist(resold, bins=b, linewidth=2, range=r, histtype=\"step\", label=labold)\n",
    "plt.hist(resnew, bins=b, linewidth=2, range=r, histtype=\"step\", label=labnew)\n",
    "\n",
    "plt.xlabel(\"Time residual [ns]\")\n",
    "plt.ylabel(\"# PMTs\")\n",
    "plt.legend()\n",
    "plt.grid(linestyle=\"dashed\", alpha=0.5)"
   ]
  },
  {
   "cell_type": "code",
   "execution_count": 252,
   "id": "0be2fa59",
   "metadata": {},
   "outputs": [],
   "source": [
    "oldslopes = meandf_old[\"slope\"].values\n",
    "newslopes = meandf_new[\"slope\"].values"
   ]
  },
  {
   "cell_type": "code",
   "execution_count": 253,
   "id": "4e114e3a",
   "metadata": {},
   "outputs": [
    {
     "data": {
      "image/png": "[encoded data removed]",
      "text/plain": [
       "<Figure size 600x400 with 1 Axes>"
      ]
     },
     "metadata": {
      "needs_background": "light"
     },
     "output_type": "display_data"
    }
   ],
   "source": [
    "fig = plt.figure(dpi=100)\n",
    "\n",
    "plt.hist( oldslopes*1e3, bins=50, range=(-0.1,0.075), histtype='step', label=\"OLD\")\n",
    "plt.hist( newslopes*1e3, bins=50, range=(-0.1,0.075), histtype='step', label=\"NEW\")\n",
    "plt.ylabel(\"# Flash-Track matches\", fontsize=14)\n",
    "plt.xlabel(\"Fitted slope [cm ns$^{-1}$]\", fontsize=14)\n",
    "\n",
    "plt.axvline(x=0.,color=\"red\",linestyle=\"dotted\")\n",
    "\n",
    "#plt.tight_layout()\n",
    "plt.grid(linestyle=\"dashed\",alpha=0.5)\n",
    "plt.legend()\n",
    "plt.show()"
   ]
  },
  {
   "cell_type": "code",
   "execution_count": 5,
   "id": "213f8f84",
   "metadata": {},
   "outputs": [],
   "source": [
    "file = \"../output/residuals/FINAL/cosmics_timing_residuals_t8046_offpmts_20230727.csv\"\n",
    "res = pd.read_csv(file)"
   ]
  },
  {
   "cell_type": "code",
   "execution_count": 7,
   "id": "d806eebd",
   "metadata": {},
   "outputs": [
    {
     "data": {
      "image/png": "[encoded data removed]",
      "text/plain": [
       "<Figure size 800x500 with 1 Axes>"
      ]
     },
     "metadata": {
      "needs_background": "light"
     },
     "output_type": "display_data"
    }
   ],
   "source": [
    "fig = plt.figure(figsize=(8,5),dpi=100)\n",
    "plt.scatter( res.channel_id, res.mean_residual_ns )\n",
    "plt.grid()\n",
    "plt.xlabel(\"Channel ID\")\n",
    "plt.ylabel(\"Residuals [ns]\")\n",
    "plt.show()"
   ]
  },
  {
   "cell_type": "code",
   "execution_count": null,
   "id": "1a84e597",
   "metadata": {},
   "outputs": [],
   "source": []
  }
 ],
 "metadata": {
  "kernelspec": {
   "display_name": "Python 3 (ipykernel)",
   "language": "python",
   "name": "python3"
  },
  "language_info": {
   "codemirror_mode": {
    "name": "ipython",
    "version": 3
   },
   "file_extension": ".py",
   "mimetype": "text/x-python",
   "name": "python",
   "nbconvert_exporter": "python",
   "pygments_lexer": "ipython3",
   "version": "3.9.2"
  }
 },
 "nbformat": 4,
 "nbformat_minor": 5
}
