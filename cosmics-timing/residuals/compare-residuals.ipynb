{
 "cells": [
  {
   "cell_type": "code",
   "execution_count": null,
   "id": "7b69dbdd",
   "metadata": {},
   "outputs": [],
   "source": [
    "import uproot3 as uproot\n",
    "import pandas as pd\n",
    "import numpy as np\n",
    "import matplotlib.pyplot as plt\n",
    "from scipy import stats\n",
    "from scipy.optimize import curve_fit\n",
    "\n",
    "prop_cycle = plt.rcParams['axes.prop_cycle']\n",
    "colors = prop_cycle.by_key()['color']"
   ]
  },
  {
   "cell_type": "code",
   "execution_count": null,
   "id": "8ccdf169",
   "metadata": {},
   "outputs": [],
   "source": [
    "## Import files with residuals\n",
    "#run = 8552\n",
    "#corr = 8461\n",
    "#nolaser = \"../output/residuals/Run_1/run8552_cosmics_timing_residuals_20230729_noLaser.csv\"\n",
    "#laser =  \"../output/residuals/Run_1/run8552_cosmics_timing_residuals_20230729.csv\"\n",
    "#cosmics = \"../output/residuals/Run_1/run8552_cosmics_timing_residuals_20230729_CORRw8461.csv\"\n",
    "\n",
    "#run = 9595\n",
    "#corr = 9337\n",
    "#laser = \"../output/residuals/Run_2/run{}_residuals_test8ns.csv\".format(run)\n",
    "#cosmics = \"../output/residuals/Run_2/run{}_residuals_test8ns_CORRw{}.csv\".format(run,corr)\n",
    "\n",
    "run = 11816\n",
    "corr = 11813\n",
    "nolaser = \"output/Run_3/run{}_residuals_nocorr.csv\".format(run)\n",
    "laser =  \"output/Run_3/run{}_residuals_laseronly.csv\".format(run)\n",
    "cosmics = \"output/Run_3/run{}_residuals_lasercosmics.csv\".format(run)"
   ]
  },
  {
   "cell_type": "code",
   "execution_count": null,
   "id": "b0000388",
   "metadata": {},
   "outputs": [],
   "source": [
    "dfnolaser = pd.read_csv(nolaser).set_index([\"channel_id\"])\n",
    "dflaser = pd.read_csv(laser).set_index([\"channel_id\"])\n",
    "dfcosmics = pd.read_csv(cosmics).set_index([\"channel_id\"])"
   ]
  },
  {
   "cell_type": "code",
   "execution_count": null,
   "id": "7526d9bf",
   "metadata": {},
   "outputs": [],
   "source": [
    "len(dfcosmics)\n",
    "dfcosmics.head()"
   ]
  },
  {
   "cell_type": "markdown",
   "id": "25cf6bc8",
   "metadata": {},
   "source": [
    "## Comparison between before/after corrections"
   ]
  },
  {
   "cell_type": "code",
   "execution_count": null,
   "id": "94ede034",
   "metadata": {},
   "outputs": [],
   "source": [
    "# The fit function\n",
    "def gaus(x,a,mean,sigma):\n",
    "    return a*np.exp(-(x-mean)**2/(2*sigma**2))\n",
    "\n",
    "# The fit strategy\n",
    "def fitGaussian(hdf, target='mean_residual_ns', BINSIZE=0.5,RMIN=-10.0,RMAX=10., p0=(0.1, 1.)):\n",
    "\n",
    "    nbins=int((RMAX-RMIN)/BINSIZE)\n",
    "    ys,edges = np.histogram(hdf[target],bins=nbins,range=(RMIN,RMAX))\n",
    "    xs=np.array([edges[i]+0.5*(edges[i+1]-edges[i]) for i in range(len(ys))])\n",
    "\n",
    "    param = [np.max(ys), p0[0], p0[1] ]\n",
    "    bounds = np.array([(param[0]*0.5,param[0]*1.5),\n",
    "              (param[1]*0.2,param[1]*1.3),\n",
    "              (param[2]*0.1,param[2]*1.4)])\n",
    "    \n",
    "    param,pcov = curve_fit(gaus, xs, ys, p0=param, bounds=(bounds[:,0],bounds[:,1]) )\n",
    "    param_errors = np.diag(pcov)**0.5\n",
    "    \n",
    "    return xs, ys, param, param_errors"
   ]
  },
  {
   "cell_type": "code",
   "execution_count": null,
   "id": "bfda67e7",
   "metadata": {},
   "outputs": [],
   "source": [
    "## Plotting residuals distribution with/without corrections\n",
    "fig = plt.figure(figsize=(8,5),dpi=200)\n",
    "\n",
    "rmin=-10\n",
    "rmax=10\n",
    "r=(rmin,rmax)\n",
    "s=0.3\n",
    "b=int((rmax-rmin)/s)\n",
    "\n",
    "xs1, ys1, param1, param_errors1 = fitGaussian(dfnolaser,BINSIZE=s,RMIN=rmin,RMAX=rmax)\n",
    "xs2, ys2, param2, param_errors2 = fitGaussian(dflaser,BINSIZE=s,RMIN=rmin,RMAX=rmax)\n",
    "xs3, ys3, param3, param_errors3 = fitGaussian(dfcosmics,BINSIZE=s,RMIN=rmin,RMAX=rmax)\n",
    "xss = np.arange(rmin,rmax,0.1)\n",
    "\n",
    "### PLOT DISTRIBUTIONS\n",
    "#l_nolaser = \"Base sample\\nMean: {:.2f} ns\\nStd: {:.2f} ns\".format(np.mean(dfnolaser.mean_residual_ns),np.std(dfnolaser.mean_residual_ns))\n",
    "#l_laser = \"Laser only\\nMean: {:.2f} ns\\nStd: {:.2f} ns\".format(np.mean(dflaser.mean_residual_ns),np.std(dflaser.mean_residual_ns))\n",
    "#l_cosmics = \"Laser + cosmics\\nMean: {:.2f} ns\\nStd: {:.2f} ns\".format(np.mean(dfcosmics.mean_residual_ns),np.std(dfcosmics.mean_residual_ns))\n",
    "#plt.hist(dfnolaser.mean_residual_ns, bins=b, linewidth=2, range=r, histtype=\"step\", label=l_nolaser)\n",
    "#plt.hist(dflaser.mean_residual_ns, bins=b, linewidth=2, range=r, histtype=\"step\", label=l_laser)\n",
    "#plt.hist(dfcosmics.mean_residual_ns, bins=b, linewidth=2, range=r, histtype=\"step\", label=l_cosmics)\n",
    "#plt.legend()\n",
    "\n",
    "### PLOT FITS\n",
    "l_nolaser = \"Base sample\"\n",
    "l_nolaserf= \"$\\mu$: {:.2f} ns\\n$\\sigma$: {:.2f} ns\".format(param1[1],param1[2])\n",
    "l_laser = \"Laser only\"\n",
    "l_laserf = \"$\\mu$: {:.2f} ns\\n$\\sigma$: {:.2f} ns\".format(param2[1],param2[2])\n",
    "l_cosmics = \"Laser + cosmics\"\n",
    "l_cosmicsf = \"$\\mu$: {:.2f} ns\\n$\\sigma$: {:.2f} ns\".format(param3[1],param3[2])\n",
    "plt.hist(dfnolaser.mean_residual_ns, bins=b, linewidth=2, range=r, histtype=\"step\", label=l_nolaser)\n",
    "plt.plot(xss,gaus(xss,*param1),\"-.\",color=\"darkblue\",lw=3, label=l_nolaserf)\n",
    "plt.hist(dflaser.mean_residual_ns, bins=b, linewidth=2, range=r, histtype=\"step\", label=l_laser)\n",
    "plt.plot(xss,gaus(xss,*param2),\"-.\",color=\"red\",lw=3, label=l_laserf)\n",
    "plt.hist(dfcosmics.mean_residual_ns, bins=b, linewidth=2, range=r, histtype=\"step\", label=l_cosmics)\n",
    "plt.plot(xss,gaus(xss,*param3),\"-.\",color=\"darkgreen\",lw=3, label=l_cosmicsf)\n",
    "handles, labels = plt.gca().get_legend_handles_labels()\n",
    "order = [3,0,4,1,5,2] ## for just 2\n",
    "#order = [2,0,3,1]\n",
    "plt.legend([handles[idx] for idx in order],[labels[idx] for idx in order]) \n",
    "\n",
    "### PLOT SINGLE\n",
    "#l_cosmics = \"Gaussian fit\\n$\\mu$: {:.2f} ns\\n$\\sigma$: {:.2f} ns\".format(param3[1],param3[2])\n",
    "#plt.hist(dfcosmics.mean_residual_ns, bins=b, linewidth=2, range=r, histtype=\"step\")\n",
    "#plt.plot(xss,gaus(xss,*param3),\"-.\",color=\"red\",lw=3,label=l_cosmics)\n",
    "#plt.xlim((-5,5))\n",
    "#plt.legend()\n",
    "\n",
    "watermark = r'$\\mathbf{ICARUS}\\,$' + 'Data\\nWork in Progress'\n",
    "plt.text(0.02, 0.92, watermark, fontsize=14, color='blue', alpha=1,\n",
    "         ha='left', va='center', transform=plt.gca().transAxes)\n",
    "\n",
    "plt.xlabel(\"Time residuals [ns]\",fontsize=12)\n",
    "plt.ylabel(\"Number of PMTs\",fontsize=12)\n",
    "#plt.title(\"Run {} (including HW + laser + cosmics)\".format(run))\n",
    "\n",
    "plt.grid(linestyle=\"dashed\",alpha=0.5)\n",
    "name = \"figs/run{}_base_vs_laseronly_vs_lasercosmics_w{}\".format(run,corr)\n",
    "plt.savefig(name+\".pdf\",dpi=200)\n",
    "plt.show()"
   ]
  },
  {
   "cell_type": "markdown",
   "id": "1d1c69ce",
   "metadata": {},
   "source": [
    "## Comparison between laser/cosmics residuals"
   ]
  },
  {
   "cell_type": "code",
   "execution_count": null,
   "id": "4ba4bd4d",
   "metadata": {},
   "outputs": [],
   "source": [
    "#LASERCORR=\"/exp/icarus/data/users/mvicenzi/timing-database/pmt_laser_timing_data_run09628_from9772.csv\"\n",
    "#COSMICSCORR=\"output/residuals/Run_2/run{}_cosmics_timing_residuals.csv\".format(corr)\n",
    "#VOLTAGE=\"pmt_voltage_20221219.csv\"\n",
    "\n",
    "LASERCORR=\"/exp/icarus/data/users/mvicenzi/timing-database/pmt_laser_timing_data/pmt_laser_timing_data_run11590_from11641.csv\"\n",
    "COSMICSCORR=\"output/Run_3/run{}_residuals_laseronly.csv\".format(corr)\n",
    "VOLTAGE=\"pmt_voltage_20240212.csv\"\n",
    "\n",
    "lasercorr = pd.read_csv(LASERCORR, sep=r'\\s*,\\s*', engine='python')\n",
    "lasercorr = lasercorr.rename(columns={'channel': 'channel_id'})\n",
    "lasercorr.set_index([\"channel_id\"])\n",
    "voltage = pd.read_csv(VOLTAGE).set_index([\"channel_id\"])\n",
    "thisdfg = pd.read_csv(COSMICSCORR).set_index([\"channel_id\"])\n",
    "thisdfg = thisdfg.join( lasercorr[[\"t_signal\", \"a\", \"b\", \"c\"]], on=\"channel_id\" ) \n",
    "thisdfg = thisdfg.join( voltage, on=\"channel_id\" ) \n",
    "thisdfg[\"laser_res\"] = thisdfg.apply( lambda x : x.t_signal-(x.a+x.b*np.power(x.voltage, x.c) ) , axis=1)"
   ]
  },
  {
   "cell_type": "code",
   "execution_count": null,
   "id": "f2ce5f93",
   "metadata": {},
   "outputs": [],
   "source": [
    "# Verify potential presence of biases \n",
    "fig, ax = plt.subplots(1,2, figsize=(16, 5))\n",
    "ax[0].errorbar( x=thisdfg.y, y=thisdfg.mean_residual_ns, yerr=thisdfg.emean_ns, marker='.', elinewidth=2.0, lw=0 )\n",
    "ax[1].errorbar( x=thisdfg.y, y=thisdfg.laser_res, yerr=0, marker='.', elinewidth=2.0, lw=0 )\n",
    "ax[1].set_ylabel(\"Laser Residuals [ns]\", fontsize=16)\n",
    "ax[0].set_ylabel(\"Cosmics Residuals [ns]\", fontsize=16)\n",
    "ax[1].set_xlabel(\"Y position [cm]\", fontsize=16)\n",
    "ax[0].set_xlabel(\"Y position [cm]\", fontsize=16)\n",
    "plt.tight_layout()\n",
    "ax[0].grid(alpha=0.5,linestyle=\"dashed\")\n",
    "ax[1].grid(alpha=0.5,linestyle=\"dashed\")\n",
    "plt.savefig(\"figs/run{}_validation_laserVScomics_Y.png\".format(corr),dpi=100)\n",
    "plt.show()\n",
    "\n",
    "fig, ax = plt.subplots(1,2, figsize=(16, 5))\n",
    "ax[0].errorbar( x=thisdfg.z, y=thisdfg.mean_residual_ns, yerr=thisdfg.emean_ns, marker='.', elinewidth=2.0, lw=0 )\n",
    "ax[1].errorbar( x=thisdfg.z, y=thisdfg.laser_res, yerr=0, marker='.', elinewidth=2.0, lw=0 )\n",
    "ax[1].set_ylabel(\"Laser Residuals [ns]\", fontsize=16)\n",
    "ax[0].set_ylabel(\"Cosmics Residuals [ns]\", fontsize=16)\n",
    "ax[1].set_xlabel(\"Z position [cm]\", fontsize=16)\n",
    "ax[0].set_xlabel(\"Z position [cm]\", fontsize=16)\n",
    "plt.tight_layout()\n",
    "ax[0].grid(alpha=0.5,linestyle=\"dashed\")\n",
    "ax[1].grid(alpha=0.5,linestyle=\"dashed\")\n",
    "plt.savefig(\"figs/run{}_validation_laserVScomics_Z.png\".format(corr),dpi=100)\n",
    "plt.show()\n",
    "\n",
    "# plot them togheter\n",
    "fig, ax = plt.subplots(1,1, figsize=(8, 5))\n",
    "ax.errorbar( x=thisdfg.mean_residual_ns, y=thisdfg.laser_res, yerr=0, marker='o', elinewidth=2.0, lw=0, alpha=0.5 )\n",
    "ax.set_ylabel(\"Laser Residuals [ns]\", fontsize=16)\n",
    "ax.set_xlabel(\"Cosmics Residuals [ns]\", fontsize=16)\n",
    "\n",
    "plt.tight_layout()\n",
    "plt.grid(alpha=0.5,linestyle=\"dashed\")\n",
    "plt.savefig(\"figs/run{}_validation_laserVScomics_2Dscatter.png\".format(corr),dpi=100)\n",
    "plt.show()"
   ]
  },
  {
   "cell_type": "code",
   "execution_count": null,
   "id": "6d16611b",
   "metadata": {},
   "outputs": [],
   "source": [
    "thisdfg[thisdfg.mean_residual_ns<-10].head(12)"
   ]
  },
  {
   "cell_type": "code",
   "execution_count": null,
   "id": "e5b1a958",
   "metadata": {},
   "outputs": [],
   "source": [
    "thisdfg[thisdfg.mean_residual_ns>10].head(10)"
   ]
  },
  {
   "cell_type": "markdown",
   "id": "79f0d1ef",
   "metadata": {},
   "source": [
    "## Compare statistics"
   ]
  },
  {
   "cell_type": "code",
   "execution_count": null,
   "id": "c0bc9cc9",
   "metadata": {},
   "outputs": [],
   "source": [
    "f1 = \"../output/residuals/run8460_cosmics_timing_residuals_20230725.csv\"\n",
    "f2 = \"../output/residuals/run8461_cosmics_timing_residuals_20230725.csv\"\n",
    "f3 = \"../output/residuals/run8462_cosmics_timing_residuals_20230725.csv\"\n",
    "f4 = \"../output/residuals/run8552_cosmics_timing_residuals_20230725.csv\"\n",
    "\n",
    "df1 = pd.read_csv(f1)\n",
    "df2 = pd.read_csv(f2)\n",
    "df3 = pd.read_csv(f3)\n",
    "df4 = pd.read_csv(f4)\n",
    "\n",
    "fig = plt.figure(figsize=(10,5),dpi=100)\n",
    "\n",
    "l1 = \"Run 8460\\nMean: {:.2f} ns\\nStd: {:.2f} ns\".format(np.mean(df1.mean_residual_ns),np.std(df1.mean_residual_ns))\n",
    "l2 = \"Run 8461\\nMean: {:.2f} ns\\nStd: {:.2f} ns\".format(np.mean(df2.mean_residual_ns),np.std(df2.mean_residual_ns))\n",
    "l3 = \"Run 8462\\nMean: {:.2f} ns\\nStd: {:.2f} ns\".format(np.mean(df3.mean_residual_ns),np.std(df3.mean_residual_ns))\n",
    "l4 = \"Run 8552\\nMean: {:.2f} ns\\nStd: {:.2f} ns\".format(np.mean(df4.mean_residual_ns),np.std(df4.mean_residual_ns))\n",
    "\n",
    "plt.hist(df1.mean_residual_ns, bins=b, linewidth=2, range=r, histtype=\"step\", label=l1)\n",
    "plt.hist(df2.mean_residual_ns, bins=b, linewidth=2, range=r, histtype=\"step\", label=l2)\n",
    "plt.hist(df3.mean_residual_ns, bins=b, linewidth=2, range=r, histtype=\"step\", label=l3)\n",
    "plt.hist(df4.mean_residual_ns, bins=b, linewidth=2, range=r, histtype=\"step\", label=l4)\n",
    "plt.xlabel(\"Time residuals [ns]\")\n",
    "plt.ylabel(\"Number of PMTs\")\n",
    "plt.legend()\n",
    "plt.grid(linestyle=\"dashed\",alpha=0.5)\n",
    "plt.show()"
   ]
  },
  {
   "cell_type": "code",
   "execution_count": null,
   "id": "a966a3eb",
   "metadata": {},
   "outputs": [],
   "source": [
    "fig = plt.figure(figsize=(10,5),dpi=100)\n",
    "\n",
    "l1 = \"Run 8460\"\n",
    "l2 = \"Run 8461\"\n",
    "l3 = \"Run 8462\"\n",
    "l4 = \"Run 8552\"\n",
    "plt.hist(df1.entries, linewidth=2, histtype=\"step\", label=l1)\n",
    "plt.hist(df2.entries, linewidth=2, histtype=\"step\", label=l2)\n",
    "plt.hist(df3.entries, linewidth=2, histtype=\"step\", label=l3)\n",
    "plt.hist(df4.entries, linewidth=2, histtype=\"step\", label=l4)\n",
    "plt.xlabel(\"Entries per channel\")\n",
    "plt.ylabel(\"Number of PMTs\")\n",
    "plt.legend()\n",
    "plt.grid(linestyle=\"dashed\",alpha=0.5)\n",
    "plt.show()"
   ]
  },
  {
   "cell_type": "markdown",
   "id": "2f90f1fc",
   "metadata": {},
   "source": [
    "## Compare with different statistics"
   ]
  },
  {
   "cell_type": "code",
   "execution_count": null,
   "id": "ec183072",
   "metadata": {},
   "outputs": [],
   "source": [
    "f1 = \"../output/residuals/run8461_cosmics_timing_residuals_20230725.csv\"\n",
    "f2 = \"../output/residuals/run8461_cosmics_timing_residuals_20230727.csv\"\n",
    "\n",
    "df1 = pd.read_csv(f1)\n",
    "df2 = pd.read_csv(f2)\n",
    "\n",
    "fig = plt.figure(figsize=(10,5),dpi=100)\n",
    "\n",
    "l1 = \"Run 8461 - low stats\\nMean: {:.2f} ns\\nStd: {:.2f} ns\".format(np.mean(df1.mean_residual_ns),np.std(df1.mean_residual_ns))\n",
    "l2 = \"Run 8461 - high stats\\nMean: {:.2f} ns\\nStd: {:.2f} ns\".format(np.mean(df2.mean_residual_ns),np.std(df2.mean_residual_ns))\n",
    "\n",
    "plt.hist(df1.mean_residual_ns, bins=b, linewidth=2, range=r, histtype=\"step\", label=l1)\n",
    "plt.hist(df2.mean_residual_ns, bins=b, linewidth=2, range=r, histtype=\"step\", label=l2)\n",
    "\n",
    "plt.xlabel(\"Time residuals [ns]\")\n",
    "plt.ylabel(\"Number of PMTs\")\n",
    "plt.legend()\n",
    "plt.grid(linestyle=\"dashed\",alpha=0.5)\n",
    "plt.show()"
   ]
  },
  {
   "cell_type": "markdown",
   "id": "9bda79db",
   "metadata": {},
   "source": [
    "## Test old file cuts from Andrea"
   ]
  },
  {
   "cell_type": "code",
   "execution_count": null,
   "id": "10504b1d",
   "metadata": {},
   "outputs": [],
   "source": [
    "f = \"../output/run8413_matched_light_tracks_Andrea.txt\"\n",
    "df = pd.read_csv(f)\n",
    "df.head()"
   ]
  },
  {
   "cell_type": "code",
   "execution_count": null,
   "id": "8d151cef",
   "metadata": {},
   "outputs": [],
   "source": [
    "plt.hist( df.flashTime/1000 - df.trackTime/1000, histtype=\"step\")\n",
    "plt.show()"
   ]
  },
  {
   "cell_type": "code",
   "execution_count": null,
   "id": "17ce97d9",
   "metadata": {},
   "outputs": [],
   "source": [
    "plt.hist( df.flashLightZ - df.trackChargeZ, histtype = \"step\")\n",
    "plt.show()"
   ]
  },
  {
   "cell_type": "markdown",
   "id": "34e8cd80",
   "metadata": {},
   "source": [
    "## Testing wrong corrections!"
   ]
  },
  {
   "cell_type": "code",
   "execution_count": null,
   "id": "02dd1f22",
   "metadata": {},
   "outputs": [],
   "source": [
    "run = 9595\n",
    "wrong = \"../output/residuals/Run_2/run9595_residuals_TESTwrongCorr10085.csv\"\n",
    "correct = \"../output/residuals/Run_2/run9595_residuals_test8ns_fixEast_alternative_CORRw9337.csv\"\n",
    "wrong2 = \"../output/residuals/Run_2/run9595_residuals_TESTwrongCorr8461.csv\""
   ]
  },
  {
   "cell_type": "code",
   "execution_count": null,
   "id": "151d9f51",
   "metadata": {},
   "outputs": [],
   "source": [
    "dfwrong= pd.read_csv(wrong).set_index([\"channel_id\"])\n",
    "dfcorrect = pd.read_csv(correct).set_index([\"channel_id\"])\n",
    "dfwrong2= pd.read_csv(wrong2).set_index([\"channel_id\"])"
   ]
  },
  {
   "cell_type": "code",
   "execution_count": null,
   "id": "20fd33c0",
   "metadata": {},
   "outputs": [],
   "source": [
    "## Plotting residuals distribution with/without corrections\n",
    "fig = plt.figure(figsize=(7,5),dpi=100)\n",
    "\n",
    "rmin=-7.5\n",
    "rmax=7.5\n",
    "r=(rmin,rmax)\n",
    "s=0.3\n",
    "b=int((rmax-rmin)/s)\n",
    "\n",
    "xs2, ys2, param2, param_errors2 = fitGaussian(dfwrong,BINSIZE=s,RMIN=rmin,RMAX=rmax)\n",
    "xs3, ys3, param3, param_errors3 = fitGaussian(dfcorrect,BINSIZE=s,RMIN=rmin,RMAX=rmax)\n",
    "xs4, ys4, param4, param_errors4 = fitGaussian(dfwrong2,BINSIZE=s,RMIN=rmin,RMAX=rmax)\n",
    "xss = np.arange(rmin,rmax,0.1)\n",
    "\n",
    "### PLOT FITS\n",
    "l_correct = \"Correct (9337)\\nMean: {:.2f} ns\\nStd: {:.2f} ns\".format(np.mean(dfcorrect.mean_residual_ns),np.std(dfcorrect.mean_residual_ns))\n",
    "l_wrong = \"Wrong (10085)\\nMean: {:.2f} ns\\nStd: {:.2f} ns\".format(np.mean(dfwrong.mean_residual_ns),np.std(dfwrong.mean_residual_ns))\n",
    "l_wrong2 = \"Wrong (8461)\\nMean: {:.2f} ns\\nStd: {:.2f} ns\".format(np.mean(dfwrong2.mean_residual_ns),np.std(dfwrong2.mean_residual_ns))\n",
    "\n",
    "plt.hist(dfwrong.mean_residual_ns, bins=b, linewidth=2, range=r, histtype=\"step\", label=l_wrong)\n",
    "plt.hist(dfwrong2.mean_residual_ns, bins=b, linewidth=2, range=r, histtype=\"step\", label=l_wrong2)\n",
    "plt.hist(dfcorrect.mean_residual_ns, bins=b, linewidth=2, range=r, histtype=\"step\", label=l_correct)\n",
    "\n",
    "plt.legend()\n",
    "\n",
    "plt.xlabel(\"Time residuals [ns]\")\n",
    "plt.ylabel(\"Number of PMTs\")\n",
    "plt.title(\"Run {}\".format(run))\n",
    "plt.grid(linestyle=\"dashed\",alpha=0.5)\n",
    "plt.show()"
   ]
  },
  {
   "cell_type": "code",
   "execution_count": null,
   "id": "a0d5c578",
   "metadata": {},
   "outputs": [],
   "source": []
  }
 ],
 "metadata": {
  "kernelspec": {
   "display_name": "Python 3 (ipykernel)",
   "language": "python",
   "name": "python3"
  },
  "language_info": {
   "codemirror_mode": {
    "name": "ipython",
    "version": 3
   },
   "file_extension": ".py",
   "mimetype": "text/x-python",
   "name": "python",
   "nbconvert_exporter": "python",
   "pygments_lexer": "ipython3",
   "version": "3.9.15"
  }
 },
 "nbformat": 4,
 "nbformat_minor": 5
}
