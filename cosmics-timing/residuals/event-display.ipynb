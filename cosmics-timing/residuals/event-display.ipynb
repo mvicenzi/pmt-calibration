{
 "cells": [
  {
   "cell_type": "code",
   "execution_count": null,
   "id": "333b0597",
   "metadata": {},
   "outputs": [],
   "source": [
    "import uproot3 as uproot\n",
    "import pandas as pd\n",
    "import numpy as np\n",
    "import matplotlib.pyplot as plt\n",
    "from scipy import stats"
   ]
  },
  {
   "cell_type": "code",
   "execution_count": null,
   "id": "f2997203",
   "metadata": {},
   "outputs": [],
   "source": [
    "def loadSingleFile( tfile, treename, flatenndf=False ):\n",
    "    ttree = uproot.open(tfile)\n",
    "    data = ttree[treename].arrays(outputtype=pd.DataFrame,flatten=flatenndf)\n",
    "    return data"
   ]
  },
  {
   "cell_type": "code",
   "execution_count": null,
   "id": "be958eb7",
   "metadata": {},
   "outputs": [],
   "source": [
    "### Select data file\n",
    "path = \"/exp/icarus/data/users/mvicenzi/pmt-calibration/track_matches/\"\n",
    "RUN = 11816\n",
    "FILENAME = path + \"run{}_matched_light_tracks.root\".format(RUN)\n",
    "\n",
    "print(\"Reading {}\".format(FILENAME))"
   ]
  },
  {
   "cell_type": "code",
   "execution_count": null,
   "id": "fec535a4",
   "metadata": {},
   "outputs": [],
   "source": [
    "### Get optical data\n",
    "dfw = loadSingleFile(FILENAME, \"trackLightMatchW\")\n",
    "dfe = loadSingleFile(FILENAME, \"trackLightMatchE\")\n",
    "df = pd.concat([dfe, dfw])\n",
    "del dfw\n",
    "del dfe\n",
    "\n",
    "print(\"Considering {} track-flash matches\".format( len(df) ) )"
   ]
  },
  {
   "cell_type": "code",
   "execution_count": null,
   "id": "b14725ff",
   "metadata": {},
   "outputs": [],
   "source": [
    "### Pick available events for plotting\n",
    "evs = np.unique(df.event.to_numpy())\n",
    "print(evs)\n",
    "\n",
    "df[df.flash_nhits>100].head(2)"
   ]
  },
  {
   "cell_type": "code",
   "execution_count": null,
   "id": "ac590963",
   "metadata": {},
   "outputs": [],
   "source": [
    "#df.head()"
   ]
  },
  {
   "cell_type": "code",
   "execution_count": null,
   "id": "e41b9be1",
   "metadata": {},
   "outputs": [],
   "source": [
    "## Explode the dataframe \n",
    "df = df.explode([\"pmt_time\", \"pmt_x\", \"pmt_y\", \"pmt_pe\", \"pmt_z\", \"channel_id\"])"
   ]
  },
  {
   "cell_type": "code",
   "execution_count": null,
   "id": "0570e600",
   "metadata": {},
   "outputs": [],
   "source": [
    "## Import and use laser correction\n",
    "## WARNING: DO NOT USE IF CORRECTIONS WERE ALREADY APPLIED AT PREVIOUS STAGES\n",
    "## note: laser corrections are in ns!\n",
    "\n",
    "LASERDB = \"/exp/icarus/data/users/mvicenzi/timing-database/pmt_laser_timing_data/\"\n",
    "LASERCORR = LASERDB + \"pmt_laser_timing_data_run11590_from11641.csv\"\n",
    "\n",
    "lasercorr = pd.read_csv(LASERCORR, sep=r'\\s*,\\s*', engine='python')\n",
    "lasercorr = lasercorr.rename(columns={'channel': 'channel_id'})\n",
    "lasercorr.set_index([\"channel_id\"])\n",
    "lasercorr[\"t_signal\"] = lasercorr[\"t_signal\"]/1e3  #convert ns to us\n",
    "\n",
    "df = df.join( lasercorr[[\"t_signal\"]], on=[\"channel_id\"])\n",
    "df['pmt_time'] = df['pmt_time'] - df['t_signal']  # CURRENTLY ADDING LASER CORRECTIONS!"
   ]
  },
  {
   "cell_type": "code",
   "execution_count": null,
   "id": "437416e4",
   "metadata": {},
   "outputs": [],
   "source": [
    "def _seltpc(ch):\n",
    "    if ch < 90:\n",
    "        return 0\n",
    "    elif ch < 180:\n",
    "        return 1\n",
    "    elif ch < 270:\n",
    "        return 2\n",
    "    elif ch < 360:\n",
    "        return 3\n",
    "    \n",
    "df[\"tpc\"] = [ _seltpc(val) for val in df.channel_id.values ]"
   ]
  },
  {
   "cell_type": "code",
   "execution_count": null,
   "id": "4ef52736",
   "metadata": {},
   "outputs": [],
   "source": [
    "RUN=11816\n",
    "EVENT=32006\n",
    "CRYO=1\n",
    "FLASH=4\n",
    "PECUT = 100\n",
    "\n",
    "#ch=10\n",
    "#chx, chy, chz = -371.0702,-76.25,-673.3805\n",
    "\n",
    "# Keep only the reference event\n",
    "evtdf = df[(df.event==EVENT) & (df.cryo==CRYO) & (df.flash_id==FLASH)]\n",
    "print(\"Number of hits in this flash: {}\".format(len(evtdf)))"
   ]
  },
  {
   "cell_type": "code",
   "execution_count": null,
   "id": "5e189f5d",
   "metadata": {},
   "outputs": [],
   "source": [
    "#evtdf.head()"
   ]
  },
  {
   "cell_type": "code",
   "execution_count": null,
   "id": "fb191d4e-ab6e-40ff-b02a-8580c542dc4a",
   "metadata": {},
   "outputs": [],
   "source": [
    "# Here we make the plots \n",
    "fig, ax = plt.subplots(2,1, figsize=(14, 7), dpi=200 )\n",
    "\n",
    "tmin = evtdf[evtdf.pmt_pe>50][\"pmt_time\"].min()\n",
    "tmax = evtdf[evtdf.pmt_pe>50][\"pmt_time\"].max()\n",
    "\n",
    "zpos = df[df.tpc==0].pmt_z.to_numpy()\n",
    "ypos = df[df.tpc==0].pmt_y.to_numpy()\n",
    "\n",
    "for i in np.unique(df.tpc.to_numpy()):\n",
    "    \n",
    "    names = [\"EE\", \"EW\", \"WE\", \"WW\"]\n",
    "    name = names[i]\n",
    "    _stpc=evtdf.tpc==i\n",
    "    tpc = evtdf[_stpc]\n",
    "    \n",
    "    i = i%2 # because we only have 2 axis...\n",
    "    \n",
    "    if(len(tpc) == 0 ):\n",
    "        print(\"EMPTY \" + name )\n",
    "        continue\n",
    "            \n",
    "    # plot the PMTs involved in the flash\n",
    "    sizes = pd.to_numeric(tpc.pmt_pe, errors='coerce')    \n",
    "    out1 = ax[i].scatter( x=tpc.pmt_z, y = tpc.pmt_y, s=sizes*0.35, c= tpc.pmt_time, cmap='viridis',\n",
    "                          vmin=tmin, vmax=tmax)\n",
    "    \n",
    "    # plot all the PMTs in the wall\n",
    "    ax[i].scatter(x=zpos,y=ypos,s=0.5,c=\"black\",marker=\"o\")\n",
    "    \n",
    "    # plot the track projection on the wall\n",
    "    ax[i].plot( [evtdf.track_start_z, evtdf.track_end_z], [evtdf.track_start_y, evtdf.track_end_y], color='black' )\n",
    "    \n",
    "for i in range(2):\n",
    "    ax[i].set_ylabel(\"Y [cm]\", fontsize=12)\n",
    "    if i!=0:\n",
    "        ax[i].set_xlabel(\"Z [cm]\", fontsize=12)\n",
    "    ax[i].set_xlim( (-980, 980) )\n",
    "    ax[i].set_ylim( (-160, 110) )\n",
    "    ax[i].grid(alpha=0.5, linestyle=\"dashed\") \n",
    "    \n",
    "# plot common colorbar!\n",
    "cbar = fig.colorbar(out1, ax=ax, orientation='vertical', pad=0.015)\n",
    "cbar.set_label(label=\"PMT start time [us]\", size=12)\n",
    "\n",
    "# add a watermark!\n",
    "watermark = r'$\\mathbf{ICARUS}\\,$ Data' +' - Run {}, Event {}, Module {}, Flash ID {}'.format(\n",
    "            RUN, EVENT, CRYO, FLASH)\n",
    "ax[0].text(0.0, 1.05, watermark, fontsize=12, color='black', alpha=1,\n",
    "         ha='left', va='center', transform=ax[0].transAxes)\n",
    "\n",
    "# save the image as pdf!\n",
    "savepath = \"figs/evds/run{}_event{}_event2d_cryo{}_flash{}.pdf\".format(RUN,EVENT,CRYO,FLASH)\n",
    "print(\"Saving to {}...\".format(savepath))\n",
    "plt.savefig(savepath,dpi=200)\n",
    "\n",
    "plt.show()"
   ]
  },
  {
   "cell_type": "code",
   "execution_count": null,
   "id": "eba5c3b7",
   "metadata": {},
   "outputs": [],
   "source": [
    "def _selcryo(xx):\n",
    "    if xx < 0:\n",
    "        return 0\n",
    "    elif xx > 0:\n",
    "        return 1\n",
    "\n",
    "def readPlacements(file=\"/exp/icarus/data/users/mvicenzi/pmt-calibration/input/pmt_positions.csv\"):\n",
    "    geo = pd.read_csv(file,sep=\",\")\n",
    "    geo.drop(columns=[\"entry\",\"subentry\"],inplace=True)\n",
    "    geo[\"cryo\"] = [ _selcryo(val) for val in geo.pmt_x.values ]\n",
    "    return geo"
   ]
  },
  {
   "cell_type": "code",
   "execution_count": null,
   "id": "20a2b0af-7673-47c1-94a2-5671c95dbbf9",
   "metadata": {},
   "outputs": [],
   "source": [
    "# PLOT in 3D \n",
    "fig = plt.figure(figsize=(18, 10), dpi=200)\n",
    "ax = fig.add_subplot(projection='3d')\n",
    "\n",
    "# get the 3d positions\n",
    "geo = readPlacements()\n",
    "xpos = geo[geo.cryo==CRYO].pmt_x.to_numpy()\n",
    "ypos = geo[geo.cryo==CRYO].pmt_y.to_numpy()\n",
    "zpos = geo[geo.cryo==CRYO].pmt_z.to_numpy()\n",
    "\n",
    "# plot all PMTs in 3D\n",
    "ax.scatter( zpos, xpos, ypos, c='black', s=100, alpha=0.2  )\n",
    "\n",
    "# plot PMTs in flash in 3D\n",
    "sizes = pd.to_numeric(evtdf.pmt_pe, errors='coerce')\n",
    "out1 = ax.scatter( evtdf.pmt_z, evtdf.pmt_x , evtdf.pmt_y, s=sizes*0.3, c=evtdf.pmt_time, cmap='viridis', vmin=tmin, vmax=tmax ) #YlOrRd\n",
    "    \n",
    "# plot 3D track\n",
    "ax.plot( [evtdf.track_start_z.values[0], evtdf.track_end_z.values[0]], [evtdf.track_start_x.values[0], evtdf.track_end_x.values[0]], [evtdf.track_start_y.values[0], evtdf.track_end_y.values[0]], color='black' )\n",
    "\n",
    "ax.set_box_aspect(aspect = (9, 3, 2))\n",
    "ax.set_ylabel(\"Drift X [cm]\", fontsize=12)\n",
    "ax.set_xlabel(\"Beam direction Z [cm]\",fontsize=12, labelpad=20)\n",
    "ax.set_zlabel(\"Vertical direction Y [cm]\", fontsize=12)\n",
    "    \n",
    "fig.tight_layout()\n",
    "\n",
    "# save the image as pdf!\n",
    "savepath = \"figs/evds/run{}_event{}_event3d_cryo{}_flash{}.pdf\".format(RUN,EVENT,CRYO,FLASH)\n",
    "print(\"Saving to {}...\".format(savepath))\n",
    "plt.savefig(savepath,dpi=200)\n",
    "\n",
    "plt.show()"
   ]
  },
  {
   "cell_type": "code",
   "execution_count": null,
   "id": "7b271995-4f6d-4d69-98a2-cbdcac9e845b",
   "metadata": {
    "scrolled": true
   },
   "outputs": [],
   "source": [
    "_pecut=300\n",
    "\n",
    "_sel = evtdf.pmt_pe > _pecut\n",
    "evtmdf = evtdf[_sel][[\"pmt_time\", \"pmt_pe\", \"pmt_y\"]].groupby(\"pmt_y\").apply( \n",
    "    lambda x : pd.Series( {\n",
    "        \"mean_time\" : np.mean(x.pmt_time),\n",
    "        \"weight_mean_time\" : np.average(x.pmt_time, weights=x.pmt_pe), \n",
    "        \"error_mean_time\": np.std(x.pmt_time) / np.sqrt(len(x.pmt_time))\n",
    "    }) ).reset_index()\n",
    "\n",
    "fig, ax = plt.subplots( 1,1, figsize=(10, 4.3), dpi=200)\n",
    "\n",
    "out = ax.scatter( evtdf[_sel].pmt_y, evtdf[_sel].pmt_time, c=evtdf[_sel].pmt_pe, s=20, label='PMT ( PE > {} )'.format(_pecut), cmap='viridis', alpha=0.8 ) #jet\n",
    "cbar = fig.colorbar( out, ax=ax, pad=0.01 )\n",
    "cbar.set_label(label=\"PE\", size=14)\n",
    "\n",
    "#ax.errorbar( x=evtmdf.pmt_y, y=evtmdf.weight_mean_time, yerr=evtmdf.error_mean_time, marker='o', elinewidth=2.0, lw=0, label='Weighted mean time', color='grey' )\n",
    "ax.errorbar( x=evtmdf.pmt_y, y=evtmdf.mean_time, yerr=evtmdf.error_mean_time, marker='o', elinewidth=2.0, lw=0, label='Mean time', color='black' )\n",
    "\n",
    "res = stats.linregress( evtmdf.pmt_y, evtmdf.weight_mean_time ) \n",
    "ax.plot( np.linspace(-150, 100),  np.linspace(-150, 100)*res.slope+res.intercept, lw=2.0, color='red', label='Time fit' )\n",
    "\n",
    "#ax.scatter(chy,chtime,color=\"magenta\",marker=\"x\")\n",
    "#plt.ylim(-367.64,-367.62)\n",
    "\n",
    "ax.set_ylabel(\"PMT first photon time [us]\", fontsize=14)\n",
    "ax.set_xlabel(\"PMT Y position [cm]\", fontsize=14)\n",
    "ax.grid(alpha=0.5, linestyle='dashed')\n",
    "ax.legend()\n",
    "ax.legend(loc='lower left',fontsize=14)\n",
    "\n",
    "watermark = r'$\\mathbf{ICARUS}\\,$ Data' +' - Run {}, Event {}, Module {}, Flash ID {}'.format(\n",
    "            RUN, EVENT, CRYO, FLASH)\n",
    "ax.text(0.30, 1.05, watermark, fontsize=12, color='black', alpha=1,\n",
    "         ha='left', va='center', transform=ax.transAxes)\n",
    "\n",
    "fig.tight_layout()\n",
    "\n",
    "savepath = \"figs/evds/run{}_event{}_residuals_cryo{}_flash{}.pdf\".format(RUN,EVENT,CRYO,FLASH)\n",
    "print(\"Saving to {}...\".format(savepath))\n",
    "plt.savefig(savepath,dpi=200)\n",
    "\n",
    "plt.show()"
   ]
  },
  {
   "cell_type": "code",
   "execution_count": null,
   "id": "bff5e9a4-151e-40c3-9067-ec37ca1a64b5",
   "metadata": {},
   "outputs": [],
   "source": [
    "evtmdf.head()"
   ]
  }
 ],
 "metadata": {
  "kernelspec": {
   "display_name": "Python 3 (ipykernel)",
   "language": "python",
   "name": "python3"
  },
  "language_info": {
   "codemirror_mode": {
    "name": "ipython",
    "version": 3
   },
   "file_extension": ".py",
   "mimetype": "text/x-python",
   "name": "python",
   "nbconvert_exporter": "python",
   "pygments_lexer": "ipython3",
   "version": "3.9.15"
  }
 },
 "nbformat": 4,
 "nbformat_minor": 5
}
